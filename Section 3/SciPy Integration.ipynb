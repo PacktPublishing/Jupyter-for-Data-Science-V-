{
 "cells": [
  {
   "cell_type": "code",
   "execution_count": 1,
   "metadata": {},
   "outputs": [
    {
     "data": {
      "text/plain": [
       "(7.283185307179586, 8.08596002064242e-14)"
      ]
     },
     "execution_count": 1,
     "metadata": {},
     "output_type": "execute_result"
    }
   ],
   "source": [
    "from scipy.integrate import quad\n",
    "import math\n",
    "\n",
    "def integrand(x, a, b):\n",
    "    return a*math.pi + b\n",
    "\n",
    "a = 2\n",
    "b = 1\n",
    "quad(integrand, 0, 1, args=(a,b))"
   ]
  },
  {
   "cell_type": "code",
   "execution_count": 2,
   "metadata": {},
   "outputs": [
    {
     "name": "stdout",
     "output_type": "stream",
     "text": [
      "called with x= 0.5 a =  2 b =  1\n",
      "called with x= 0.013046735741414128 a =  2 b =  1\n",
      "called with x= 0.9869532642585859 a =  2 b =  1\n",
      "called with x= 0.06746831665550773 a =  2 b =  1\n",
      "called with x= 0.9325316833444923 a =  2 b =  1\n",
      "called with x= 0.16029521585048778 a =  2 b =  1\n",
      "called with x= 0.8397047841495122 a =  2 b =  1\n",
      "called with x= 0.2833023029353764 a =  2 b =  1\n",
      "called with x= 0.7166976970646236 a =  2 b =  1\n",
      "called with x= 0.4255628305091844 a =  2 b =  1\n",
      "called with x= 0.5744371694908156 a =  2 b =  1\n",
      "called with x= 0.002171418487095955 a =  2 b =  1\n",
      "called with x= 0.997828581512904 a =  2 b =  1\n",
      "called with x= 0.03492125432214588 a =  2 b =  1\n",
      "called with x= 0.9650787456778541 a =  2 b =  1\n",
      "called with x= 0.10959113670679155 a =  2 b =  1\n",
      "called with x= 0.8904088632932085 a =  2 b =  1\n",
      "called with x= 0.21862143266569767 a =  2 b =  1\n",
      "called with x= 0.7813785673343023 a =  2 b =  1\n",
      "called with x= 0.35280356864926987 a =  2 b =  1\n",
      "called with x= 0.6471964313507301 a =  2 b =  1\n",
      "(7.283185307179586, 8.08596002064242e-14)\n",
      "21\n"
     ]
    }
   ],
   "source": [
    "from scipy.integrate import quad\n",
    "import math\n",
    "\n",
    "counter = 0\n",
    "def integrand(x, a, b):\n",
    "    global counter\n",
    "    counter = counter + 1\n",
    "    print('called with x=',x,'a = ',a,'b = ', b)\n",
    "    return a*math.pi + b\n",
    "\n",
    "a = 2\n",
    "b = 1\n",
    "I = quad(integrand, 0, 1, args=(a,b))\n",
    "print(I)\n",
    "print(counter)"
   ]
  },
  {
   "cell_type": "code",
   "execution_count": 9,
   "metadata": {},
   "outputs": [
    {
     "data": {
      "image/png": "[encoded data removed]",
      "text/plain": [
       "<matplotlib.figure.Figure at 0x9456d68>"
      ]
     },
     "metadata": {},
     "output_type": "display_data"
    }
   ],
   "source": [
    "%matplotlib inline\n",
    "from scipy import optimize\n",
    "import matplotlib.pyplot as plt\n",
    "import numpy as np\n",
    "\n",
    "def f(x):\n",
    "    return x**2 + 1\n",
    "\n",
    "x = np.linspace(-10, 5, 10)\n",
    "plt.plot(x, f(x));"
   ]
  },
  {
   "cell_type": "code",
   "execution_count": 4,
   "metadata": {},
   "outputs": [
    {
     "data": {
      "text/plain": [
       "[<matplotlib.lines.Line2D at 0x55eada0>]"
      ]
     },
     "execution_count": 4,
     "metadata": {},
     "output_type": "execute_result"
    },
    {
     "data": {
      "image/png": "[encoded data removed]",
      "text/plain": [
       "<matplotlib.figure.Figure at 0x837f128>"
      ]
     },
     "metadata": {},
     "output_type": "display_data"
    }
   ],
   "source": [
    "%matplotlib inline\n",
    "import matplotlib.pyplot as plt\n",
    "\n",
    "x = [1, 3, 5, 7]\n",
    "y = [0.5, 0.4, 0.35, 0.29]\n",
    "plt.plot(x,y)"
   ]
  },
  {
   "cell_type": "code",
   "execution_count": 5,
   "metadata": {},
   "outputs": [
    {
     "data": {
      "text/plain": [
       "array(0.375)"
      ]
     },
     "execution_count": 5,
     "metadata": {},
     "output_type": "execute_result"
    }
   ],
   "source": [
    "from scipy.interpolate import interp1d\n",
    "\n",
    "g = interp1d(x, y)\n",
    "\n",
    "g(4)"
   ]
  },
  {
   "cell_type": "code",
   "execution_count": null,
   "metadata": {
    "collapsed": true
   },
   "outputs": [],
   "source": []
  }
 ],
 "metadata": {
  "kernelspec": {
   "display_name": "Python 3",
   "language": "python",
   "name": "python3"
  },
  "language_info": {
   "codemirror_mode": {
    "name": "ipython",
    "version": 3
   },
   "file_extension": ".py",
   "mimetype": "text/x-python",
   "name": "python",
   "nbconvert_exporter": "python",
   "pygments_lexer": "ipython3",
   "version": "3.6.3"
  }
 },
 "nbformat": 4,
 "nbformat_minor": 1
}
