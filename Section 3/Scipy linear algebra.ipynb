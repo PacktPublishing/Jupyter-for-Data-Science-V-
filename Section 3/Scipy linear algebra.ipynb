{
 "cells": [
  {
   "cell_type": "code",
   "execution_count": 1,
   "metadata": {},
   "outputs": [
    {
     "name": "stdout",
     "output_type": "stream",
     "text": [
      "A array\n",
      "[[1 1]\n",
      " [2 3]]\n",
      "b array\n",
      "[[1]\n",
      " [2]]\n",
      "solution \n",
      "[[ 1.]\n",
      " [-0.]]\n",
      "validation of solution (should be a 0 matrix)\n",
      "[[ 0.]\n",
      " [ 0.]]\n"
     ]
    }
   ],
   "source": [
    "import numpy as np\n",
    "from scipy import linalg\n",
    "\n",
    "A = np.array([[1, 1], [2, 3]])\n",
    "print(\"A array\")\n",
    "print(A)\n",
    "\n",
    "b = np.array([[1], [2]])\n",
    "print(\"b array\")\n",
    "print(b)\n",
    "\n",
    "solution = np.linalg.solve(A, b) \n",
    "print(\"solution \")\n",
    "print(solution)\n",
    "\n",
    "# validate results\n",
    "print(\"validation of solution (should be a 0 matrix)\")\n",
    "print(A.dot(solution) - b)"
   ]
  },
  {
   "cell_type": "code",
   "execution_count": null,
   "metadata": {
    "collapsed": true
   },
   "outputs": [],
   "source": []
  }
 ],
 "metadata": {
  "kernelspec": {
   "display_name": "Python 3",
   "language": "python",
   "name": "python3"
  },
  "language_info": {
   "codemirror_mode": {
    "name": "ipython",
    "version": 3
   },
   "file_extension": ".py",
   "mimetype": "text/x-python",
   "name": "python",
   "nbconvert_exporter": "python",
   "pygments_lexer": "ipython3",
   "version": "3.6.3"
  }
 },
 "nbformat": 4,
 "nbformat_minor": 2
}
