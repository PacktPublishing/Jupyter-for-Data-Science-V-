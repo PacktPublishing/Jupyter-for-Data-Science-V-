{
 "cells": [
  {
   "cell_type": "code",
   "execution_count": 1,
   "metadata": {},
   "outputs": [
    {
     "name": "stdout",
     "output_type": "stream",
     "text": [
      "Array contents [[ 1  1  2]\n",
      " [ 3  5  8]\n",
      " [13 21 34]]\n",
      "max value =  34\n",
      "min value =  1\n",
      "sum across 2nd axis [ 4 16 68]\n"
     ]
    }
   ],
   "source": [
    "import numpy as np\n",
    "\n",
    "a = np.array([[1, 1, 2], [3, 5, 8], [13, 21, 34]])\n",
    "print(\"Array contents\", a)\n",
    "\n",
    "print(\"max value = \", a.max())\n",
    "\n",
    "print(\"min value = \", a.min())\n",
    "\n",
    "print(\"sum across 2nd axis\", a.sum(axis = 1))"
   ]
  },
  {
   "cell_type": "code",
   "execution_count": null,
   "metadata": {},
   "outputs": [],
   "source": []
  }
 ],
 "metadata": {
  "kernelspec": {
   "display_name": "Python 3",
   "language": "python",
   "name": "python3"
  },
  "language_info": {
   "codemirror_mode": {
    "name": "ipython",
    "version": 3
   },
   "file_extension": ".py",
   "mimetype": "text/x-python",
   "name": "python",
   "nbconvert_exporter": "python",
   "pygments_lexer": "ipython3",
   "version": "3.6.3"
  }
 },
 "nbformat": 4,
 "nbformat_minor": 2
}
