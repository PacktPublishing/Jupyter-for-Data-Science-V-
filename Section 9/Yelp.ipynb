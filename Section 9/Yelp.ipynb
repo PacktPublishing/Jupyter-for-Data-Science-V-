{
 "cells": [
  {
   "cell_type": "code",
   "execution_count": 1,
   "metadata": {},
   "outputs": [
    {
     "data": {
      "text/html": [
       "'Mon Jan 22 6:41:03 PM 2018'"
      ],
      "text/latex": [
       "'Mon Jan 22 6:41:03 PM 2018'"
      ],
      "text/markdown": [
       "'Mon Jan 22 6:41:03 PM 2018'"
      ],
      "text/plain": [
       "[1] \"Mon Jan 22 6:41:03 PM 2018\""
      ]
     },
     "metadata": {},
     "output_type": "display_data"
    },
    {
     "data": {
      "text/html": [
       "'Mon Jan 22 6:41:10 PM 2018'"
      ],
      "text/latex": [
       "'Mon Jan 22 6:41:10 PM 2018'"
      ],
      "text/markdown": [
       "'Mon Jan 22 6:41:10 PM 2018'"
      ],
      "text/plain": [
       "[1] \"Mon Jan 22 6:41:10 PM 2018\""
      ]
     },
     "metadata": {},
     "output_type": "display_data"
    }
   ],
   "source": [
    "format(Sys.time(), \"%a %b %d %X %Y\")\n",
    "reviews <- read.csv(\"yelp_academic_dataset_review.csv\")\n",
    "format(Sys.time(), \"%a %b %d %X %Y\")"
   ]
  },
  {
   "cell_type": "code",
   "execution_count": 2,
   "metadata": {},
   "outputs": [
    {
     "data": {
      "text/plain": [
       "     funny                            user_id      \n",
       " Min.   :  0.0000   CxDOIDnH8gp9KXzpBHJYXw:   545  \n",
       " 1st Qu.:  0.0000   CqkdpG2tkCPQA69umlAHsA:   263  \n",
       " Median :  0.0000   Cy1PV2TdYeDFA16mUOlr3Q:   258  \n",
       " Mean   :  0.3978   o0WGr8L3BWfH2Bslpnqw6g:   206  \n",
       " 3rd Qu.:  0.0000   xXQTdJXPGOP-NUYctcQw8g:   191  \n",
       " Max.   :119.0000   5iRCT4uAsyP1UoEUoxbylA:   190  \n",
       "                    (Other)               :198166  \n",
       "                  review_id                      business_id    \n",
       " ---g6CDTpsZqTYdcDoI2Hw:     1   JyxHvtj-syke7m9rbza7mA:  1502  \n",
       " --_lgetOolR3U4ntiICuGA:     1   cKgUCzMGuRgkbKXUsgeXUw:   617  \n",
       " --1NqKqWXYl6yCp4XCrBuw:     1   A0X1baHPgw9IiBRivu0G9g:   558  \n",
       " --3__80cKensZffsodEnAg:     1   1BrIPwRhJHOp6yBwjoRtgg:   557  \n",
       " --3l8wysfp49Z2TLnyT0vg:     1   aD0EslPREWGDlSpD0RMlEg:   450  \n",
       " --5X1FSpOqrRuBMLZls0zA:     1   lmxA0dJM0XsPCIHPXhEQ-g:   429  \n",
       " (Other)               :199813   (Other)               :195706  \n",
       "     stars               date            useful            type       \n",
       " Min.   :1.000   2008-11-19:   151   Min.   :  0.000         :     1  \n",
       " 1st Qu.:3.000   2015-08-06:   148   1st Qu.:  0.000   review:199818  \n",
       " Median :4.000   2015-08-02:   136   Median :  0.000                  \n",
       " Mean   :3.614   2016-02-17:   134   Mean   :  0.985                  \n",
       " 3rd Qu.:5.000   2015-06-17:   131   3rd Qu.:  1.000                  \n",
       " Max.   :5.000   2015-06-23:   129   Max.   :129.000                  \n",
       " NA's   :1       (Other)   :198990   NA's   :1                        \n",
       "      cool         \n",
       " Min.   :  0.0000  \n",
       " 1st Qu.:  0.0000  \n",
       " Median :  0.0000  \n",
       " Mean   :  0.5107  \n",
       " 3rd Qu.:  1.0000  \n",
       " Max.   :123.0000  \n",
       " NA's   :1         "
      ]
     },
     "metadata": {},
     "output_type": "display_data"
    }
   ],
   "source": [
    "summary(reviews)"
   ]
  },
  {
   "cell_type": "code",
   "execution_count": 3,
   "metadata": {},
   "outputs": [
    {
     "data": {
      "text/html": [
       "<table>\n",
       "<thead><tr><th scope=col>funny</th><th scope=col>user_id</th><th scope=col>review_id</th><th scope=col>business_id</th><th scope=col>stars</th><th scope=col>date</th><th scope=col>useful</th><th scope=col>type</th><th scope=col>cool</th></tr></thead>\n",
       "<tbody>\n",
       "\t<tr><td>0                     </td><td>KpkOkG6RIf4Ra25Lhhxf1A</td><td>NxL8SIC5yqOdnlXCg18IBg</td><td>2aFiy99vNLklCx3T_tGS9A</td><td>5                     </td><td>2011-10-10            </td><td>0                     </td><td>review                </td><td>0                     </td></tr>\n",
       "\t<tr><td>0                     </td><td>bQ7fQq1otn9hKX-gXRsrgA</td><td>pXbbIgOXvLuTi_SPs1hQEQ</td><td>2aFiy99vNLklCx3T_tGS9A</td><td>5                     </td><td>2010-12-29            </td><td>1                     </td><td>review                </td><td>0                     </td></tr>\n",
       "\t<tr><td>0                     </td><td>r1NUhdNmL6yU9Bn-Yx6FTw</td><td>wslW2Lu4NYylb1jEapAGsw</td><td>2aFiy99vNLklCx3T_tGS9A</td><td>5                     </td><td>2011-04-29            </td><td>0                     </td><td>review                </td><td>0                     </td></tr>\n",
       "\t<tr><td>0                     </td><td>aW3ix1KNZAvoM8q-WghA3Q</td><td>GP6YEearUWrzPtQYSF1vVg</td><td>2LfIuF3_sX6uwe-IR-P0jQ</td><td>5                     </td><td>2014-07-14            </td><td>0                     </td><td>review                </td><td>1                     </td></tr>\n",
       "\t<tr><td>0                     </td><td>YOo-Cip8HqvKp_p9nEGphw</td><td>25RlYGq2s5qShi-pn3ufVA</td><td>2LfIuF3_sX6uwe-IR-P0jQ</td><td>4                     </td><td>2014-01-15            </td><td>0                     </td><td>review                </td><td>0                     </td></tr>\n",
       "\t<tr><td>0                     </td><td>bgl3j8yJcRO-00NkUYsXGQ</td><td>Uf1Ki1yyH_JDKhLvn2e4FQ</td><td>2LfIuF3_sX6uwe-IR-P0jQ</td><td>5                     </td><td>2013-04-28            </td><td>2                     </td><td>review                </td><td>1                     </td></tr>\n",
       "</tbody>\n",
       "</table>\n"
      ],
      "text/latex": [
       "\\begin{tabular}{r|lllllllll}\n",
       " funny & user\\_id & review\\_id & business\\_id & stars & date & useful & type & cool\\\\\n",
       "\\hline\n",
       "\t 0                        & KpkOkG6RIf4Ra25Lhhxf1A   & NxL8SIC5yqOdnlXCg18IBg   & 2aFiy99vNLklCx3T\\_tGS9A & 5                        & 2011-10-10               & 0                        & review                   & 0                       \\\\\n",
       "\t 0                        & bQ7fQq1otn9hKX-gXRsrgA   & pXbbIgOXvLuTi\\_SPs1hQEQ & 2aFiy99vNLklCx3T\\_tGS9A & 5                        & 2010-12-29               & 1                        & review                   & 0                       \\\\\n",
       "\t 0                        & r1NUhdNmL6yU9Bn-Yx6FTw   & wslW2Lu4NYylb1jEapAGsw   & 2aFiy99vNLklCx3T\\_tGS9A & 5                        & 2011-04-29               & 0                        & review                   & 0                       \\\\\n",
       "\t 0                        & aW3ix1KNZAvoM8q-WghA3Q   & GP6YEearUWrzPtQYSF1vVg   & 2LfIuF3\\_sX6uwe-IR-P0jQ & 5                        & 2014-07-14               & 0                        & review                   & 1                       \\\\\n",
       "\t 0                        & YOo-Cip8HqvKp\\_p9nEGphw & 25RlYGq2s5qShi-pn3ufVA   & 2LfIuF3\\_sX6uwe-IR-P0jQ & 4                        & 2014-01-15               & 0                        & review                   & 0                       \\\\\n",
       "\t 0                        & bgl3j8yJcRO-00NkUYsXGQ   & Uf1Ki1yyH\\_JDKhLvn2e4FQ & 2LfIuF3\\_sX6uwe-IR-P0jQ & 5                        & 2013-04-28               & 2                        & review                   & 1                       \\\\\n",
       "\\end{tabular}\n"
      ],
      "text/markdown": [
       "\n",
       "funny | user_id | review_id | business_id | stars | date | useful | type | cool | \n",
       "|---|---|---|---|---|---|\n",
       "| 0                      | KpkOkG6RIf4Ra25Lhhxf1A | NxL8SIC5yqOdnlXCg18IBg | 2aFiy99vNLklCx3T_tGS9A | 5                      | 2011-10-10             | 0                      | review                 | 0                      | \n",
       "| 0                      | bQ7fQq1otn9hKX-gXRsrgA | pXbbIgOXvLuTi_SPs1hQEQ | 2aFiy99vNLklCx3T_tGS9A | 5                      | 2010-12-29             | 1                      | review                 | 0                      | \n",
       "| 0                      | r1NUhdNmL6yU9Bn-Yx6FTw | wslW2Lu4NYylb1jEapAGsw | 2aFiy99vNLklCx3T_tGS9A | 5                      | 2011-04-29             | 0                      | review                 | 0                      | \n",
       "| 0                      | aW3ix1KNZAvoM8q-WghA3Q | GP6YEearUWrzPtQYSF1vVg | 2LfIuF3_sX6uwe-IR-P0jQ | 5                      | 2014-07-14             | 0                      | review                 | 1                      | \n",
       "| 0                      | YOo-Cip8HqvKp_p9nEGphw | 25RlYGq2s5qShi-pn3ufVA | 2LfIuF3_sX6uwe-IR-P0jQ | 4                      | 2014-01-15             | 0                      | review                 | 0                      | \n",
       "| 0                      | bgl3j8yJcRO-00NkUYsXGQ | Uf1Ki1yyH_JDKhLvn2e4FQ | 2LfIuF3_sX6uwe-IR-P0jQ | 5                      | 2013-04-28             | 2                      | review                 | 1                      | \n",
       "\n",
       "\n"
      ],
      "text/plain": [
       "  funny user_id                review_id              business_id           \n",
       "1 0     KpkOkG6RIf4Ra25Lhhxf1A NxL8SIC5yqOdnlXCg18IBg 2aFiy99vNLklCx3T_tGS9A\n",
       "2 0     bQ7fQq1otn9hKX-gXRsrgA pXbbIgOXvLuTi_SPs1hQEQ 2aFiy99vNLklCx3T_tGS9A\n",
       "3 0     r1NUhdNmL6yU9Bn-Yx6FTw wslW2Lu4NYylb1jEapAGsw 2aFiy99vNLklCx3T_tGS9A\n",
       "4 0     aW3ix1KNZAvoM8q-WghA3Q GP6YEearUWrzPtQYSF1vVg 2LfIuF3_sX6uwe-IR-P0jQ\n",
       "5 0     YOo-Cip8HqvKp_p9nEGphw 25RlYGq2s5qShi-pn3ufVA 2LfIuF3_sX6uwe-IR-P0jQ\n",
       "6 0     bgl3j8yJcRO-00NkUYsXGQ Uf1Ki1yyH_JDKhLvn2e4FQ 2LfIuF3_sX6uwe-IR-P0jQ\n",
       "  stars date       useful type   cool\n",
       "1 5     2011-10-10 0      review 0   \n",
       "2 5     2010-12-29 1      review 0   \n",
       "3 5     2011-04-29 0      review 0   \n",
       "4 5     2014-07-14 0      review 1   \n",
       "5 4     2014-01-15 0      review 0   \n",
       "6 5     2013-04-28 2      review 1   "
      ]
     },
     "metadata": {},
     "output_type": "display_data"
    }
   ],
   "source": [
    "head(reviews)"
   ]
  },
  {
   "cell_type": "code",
   "execution_count": 4,
   "metadata": {},
   "outputs": [
    {
     "data": {
      "image/png": "[encoded data removed]",
      "text/plain": [
       "Plot with title \"Histogram of reviews$stars\""
      ]
     },
     "metadata": {},
     "output_type": "display_data"
    }
   ],
   "source": [
    "hist(reviews$stars)"
   ]
  },
  {
   "cell_type": "code",
   "execution_count": 5,
   "metadata": {},
   "outputs": [
    {
     "name": "stderr",
     "output_type": "stream",
     "text": [
      "Installing package into 'C:/Users/Test/Documents/R/win-library/3.4'\n",
      "(as 'lib' is unspecified)\n"
     ]
    },
    {
     "name": "stdout",
     "output_type": "stream",
     "text": [
      "package 'sqldf' successfully unpacked and MD5 sums checked\n",
      "\n",
      "The downloaded binary packages are in\n",
      "\tC:\\Users\\Test\\AppData\\Local\\Temp\\RtmpqcCWjM\\downloaded_packages\n"
     ]
    },
    {
     "name": "stderr",
     "output_type": "stream",
     "text": [
      "Warning message:\n",
      "\"package 'sqldf' was built under R version 3.4.3\"Loading required package: gsubfn\n",
      "Warning message:\n",
      "\"package 'gsubfn' was built under R version 3.4.3\"Loading required package: proto\n",
      "Warning message:\n",
      "\"package 'proto' was built under R version 3.4.3\"Could not load tcltk.  Will use slower R code instead.\n",
      "Loading required package: RSQLite\n",
      "Warning message:\n",
      "\"package 'RSQLite' was built under R version 3.4.3\""
     ]
    },
    {
     "data": {
      "text/html": [
       "<table>\n",
       "<thead><tr><th scope=col>business_id</th><th scope=col>count(*)</th></tr></thead>\n",
       "<tbody>\n",
       "\t<tr><td>JyxHvtj-syke7m9rbza7mA</td><td>602                   </td></tr>\n",
       "\t<tr><td>A0X1baHPgw9IiBRivu0G9g</td><td>300                   </td></tr>\n",
       "\t<tr><td>1BrIPwRhJHOp6yBwjoRtgg</td><td>292                   </td></tr>\n",
       "\t<tr><td>lmxA0dJM0XsPCIHPXhEQ-g</td><td>283                   </td></tr>\n",
       "\t<tr><td>0XoTT540HMB_5q4Exj8yGA</td><td>276                   </td></tr>\n",
       "\t<tr><td>e0JOkQYz_cnz91k6X55PLw</td><td>229                   </td></tr>\n",
       "</tbody>\n",
       "</table>\n"
      ],
      "text/latex": [
       "\\begin{tabular}{r|ll}\n",
       " business\\_id & count(*)\\\\\n",
       "\\hline\n",
       "\t JyxHvtj-syke7m9rbza7mA & 602                   \\\\\n",
       "\t A0X1baHPgw9IiBRivu0G9g & 300                   \\\\\n",
       "\t 1BrIPwRhJHOp6yBwjoRtgg & 292                   \\\\\n",
       "\t lmxA0dJM0XsPCIHPXhEQ-g & 283                   \\\\\n",
       "\t 0XoTT540HMB\\_5q4Exj8yGA & 276                     \\\\\n",
       "\t e0JOkQYz\\_cnz91k6X55PLw & 229                     \\\\\n",
       "\\end{tabular}\n"
      ],
      "text/markdown": [
       "\n",
       "business_id | count(*) | \n",
       "|---|---|---|---|---|---|\n",
       "| JyxHvtj-syke7m9rbza7mA | 602                    | \n",
       "| A0X1baHPgw9IiBRivu0G9g | 300                    | \n",
       "| 1BrIPwRhJHOp6yBwjoRtgg | 292                    | \n",
       "| lmxA0dJM0XsPCIHPXhEQ-g | 283                    | \n",
       "| 0XoTT540HMB_5q4Exj8yGA | 276                    | \n",
       "| e0JOkQYz_cnz91k6X55PLw | 229                    | \n",
       "\n",
       "\n"
      ],
      "text/plain": [
       "  business_id            count(*)\n",
       "1 JyxHvtj-syke7m9rbza7mA 602     \n",
       "2 A0X1baHPgw9IiBRivu0G9g 300     \n",
       "3 1BrIPwRhJHOp6yBwjoRtgg 292     \n",
       "4 lmxA0dJM0XsPCIHPXhEQ-g 283     \n",
       "5 0XoTT540HMB_5q4Exj8yGA 276     \n",
       "6 e0JOkQYz_cnz91k6X55PLw 229     "
      ]
     },
     "metadata": {},
     "output_type": "display_data"
    }
   ],
   "source": [
    "\n",
    "install.packages(\"sqldf\", repos='http://cran.us.r-project.org')\n",
    "library(sqldf)\n",
    "five_stars = sqldf(\"select business_id, count(*) from reviews where stars = 5 group by business_id order by 2 desc\")\n",
    "head(five_stars)"
   ]
  },
  {
   "cell_type": "code",
   "execution_count": 6,
   "metadata": {},
   "outputs": [
    {
     "data": {
      "text/html": [
       "<table>\n",
       "<thead><tr><th scope=col>business_id</th><th scope=col>count(*)</th></tr></thead>\n",
       "<tbody>\n",
       "\t<tr><td>JyxHvtj-syke7m9rbza7mA</td><td>1502                  </td></tr>\n",
       "\t<tr><td>cKgUCzMGuRgkbKXUsgeXUw</td><td> 617                  </td></tr>\n",
       "\t<tr><td>A0X1baHPgw9IiBRivu0G9g</td><td> 558                  </td></tr>\n",
       "\t<tr><td>1BrIPwRhJHOp6yBwjoRtgg</td><td> 557                  </td></tr>\n",
       "\t<tr><td>aD0EslPREWGDlSpD0RMlEg</td><td> 450                  </td></tr>\n",
       "\t<tr><td>lmxA0dJM0XsPCIHPXhEQ-g</td><td> 429                  </td></tr>\n",
       "</tbody>\n",
       "</table>\n"
      ],
      "text/latex": [
       "\\begin{tabular}{r|ll}\n",
       " business\\_id & count(*)\\\\\n",
       "\\hline\n",
       "\t JyxHvtj-syke7m9rbza7mA & 1502                  \\\\\n",
       "\t cKgUCzMGuRgkbKXUsgeXUw &  617                  \\\\\n",
       "\t A0X1baHPgw9IiBRivu0G9g &  558                  \\\\\n",
       "\t 1BrIPwRhJHOp6yBwjoRtgg &  557                  \\\\\n",
       "\t aD0EslPREWGDlSpD0RMlEg &  450                  \\\\\n",
       "\t lmxA0dJM0XsPCIHPXhEQ-g &  429                  \\\\\n",
       "\\end{tabular}\n"
      ],
      "text/markdown": [
       "\n",
       "business_id | count(*) | \n",
       "|---|---|---|---|---|---|\n",
       "| JyxHvtj-syke7m9rbza7mA | 1502                   | \n",
       "| cKgUCzMGuRgkbKXUsgeXUw |  617                   | \n",
       "| A0X1baHPgw9IiBRivu0G9g |  558                   | \n",
       "| 1BrIPwRhJHOp6yBwjoRtgg |  557                   | \n",
       "| aD0EslPREWGDlSpD0RMlEg |  450                   | \n",
       "| lmxA0dJM0XsPCIHPXhEQ-g |  429                   | \n",
       "\n",
       "\n"
      ],
      "text/plain": [
       "  business_id            count(*)\n",
       "1 JyxHvtj-syke7m9rbza7mA 1502    \n",
       "2 cKgUCzMGuRgkbKXUsgeXUw  617    \n",
       "3 A0X1baHPgw9IiBRivu0G9g  558    \n",
       "4 1BrIPwRhJHOp6yBwjoRtgg  557    \n",
       "5 aD0EslPREWGDlSpD0RMlEg  450    \n",
       "6 lmxA0dJM0XsPCIHPXhEQ-g  429    "
      ]
     },
     "metadata": {},
     "output_type": "display_data"
    }
   ],
   "source": [
    "\n",
    "library(sqldf)\n",
    "most_ratings = sqldf(\"select business_id, count(*) from reviews group by business_id order by 2 desc\")\n",
    "head(most_ratings)"
   ]
  },
  {
   "cell_type": "code",
   "execution_count": 7,
   "metadata": {},
   "outputs": [
    {
     "data": {
      "text/html": [
       "<table>\n",
       "<thead><tr><th scope=col>stars</th><th scope=col>reviews</th></tr></thead>\n",
       "<tbody>\n",
       "\t<tr><td>NA   </td><td>    1</td></tr>\n",
       "\t<tr><td> 1   </td><td>30294</td></tr>\n",
       "\t<tr><td> 2   </td><td>17513</td></tr>\n",
       "\t<tr><td> 3   </td><td>27148</td></tr>\n",
       "\t<tr><td> 4   </td><td>49030</td></tr>\n",
       "\t<tr><td> 5   </td><td>75833</td></tr>\n",
       "</tbody>\n",
       "</table>\n"
      ],
      "text/latex": [
       "\\begin{tabular}{r|ll}\n",
       " stars & reviews\\\\\n",
       "\\hline\n",
       "\t NA    &     1\\\\\n",
       "\t  1    & 30294\\\\\n",
       "\t  2    & 17513\\\\\n",
       "\t  3    & 27148\\\\\n",
       "\t  4    & 49030\\\\\n",
       "\t  5    & 75833\\\\\n",
       "\\end{tabular}\n"
      ],
      "text/markdown": [
       "\n",
       "stars | reviews | \n",
       "|---|---|---|---|---|---|\n",
       "| NA    |     1 | \n",
       "|  1    | 30294 | \n",
       "|  2    | 17513 | \n",
       "|  3    | 27148 | \n",
       "|  4    | 49030 | \n",
       "|  5    | 75833 | \n",
       "\n",
       "\n"
      ],
      "text/plain": [
       "  stars reviews\n",
       "1 NA        1  \n",
       "2  1    30294  \n",
       "3  2    17513  \n",
       "4  3    27148  \n",
       "5  4    49030  \n",
       "6  5    75833  "
      ]
     },
     "metadata": {},
     "output_type": "display_data"
    },
    {
     "data": {
      "text/html": [
       "<table>\n",
       "<thead><tr><th></th><th scope=col>stars</th><th scope=col>reviews</th></tr></thead>\n",
       "<tbody>\n",
       "\t<tr><th scope=row>stars</th><td> 1</td><td>NA</td></tr>\n",
       "\t<tr><th scope=row>reviews</th><td>NA</td><td> 1</td></tr>\n",
       "</tbody>\n",
       "</table>\n"
      ],
      "text/latex": [
       "\\begin{tabular}{r|ll}\n",
       "  & stars & reviews\\\\\n",
       "\\hline\n",
       "\tstars &  1 & NA\\\\\n",
       "\treviews & NA &  1\\\\\n",
       "\\end{tabular}\n"
      ],
      "text/markdown": [
       "\n",
       "| <!--/--> | stars | reviews | \n",
       "|---|---|\n",
       "| stars |  1 | NA | \n",
       "| reviews | NA |  1 | \n",
       "\n",
       "\n"
      ],
      "text/plain": [
       "        stars reviews\n",
       "stars    1    NA     \n",
       "reviews NA     1     "
      ]
     },
     "metadata": {},
     "output_type": "display_data"
    }
   ],
   "source": [
    "\n",
    "library(sqldf)\n",
    "reviews_stars = sqldf(\"select stars,count(*) as reviews from reviews group by stars\")\n",
    "reviews_stars\n",
    "cor(reviews_stars)"
   ]
  },
  {
   "cell_type": "code",
   "execution_count": 8,
   "metadata": {},
   "outputs": [
    {
     "data": {
      "text/html": [
       "<table>\n",
       "<thead><tr><th scope=col>business_id</th><th scope=col>rating</th></tr></thead>\n",
       "<tbody>\n",
       "\t<tr><td>--cgVkbWTiga3OYTkymKqA</td><td>5                     </td></tr>\n",
       "\t<tr><td>-03HVYxkeYWaafEpNJo1SA</td><td>5                     </td></tr>\n",
       "\t<tr><td>-1MVd6ljY2JT6gCKnrc-uw</td><td>5                     </td></tr>\n",
       "\t<tr><td>-2ATYZeeA-9_qC-Whi0-2w</td><td>5                     </td></tr>\n",
       "\t<tr><td>-3VZ3SfuJl1sPeU3Iit-RQ</td><td>5                     </td></tr>\n",
       "\t<tr><td>-3bL-QmK7-qBYLmQuSekBw</td><td>5                     </td></tr>\n",
       "</tbody>\n",
       "</table>\n"
      ],
      "text/latex": [
       "\\begin{tabular}{r|ll}\n",
       " business\\_id & rating\\\\\n",
       "\\hline\n",
       "\t --cgVkbWTiga3OYTkymKqA & 5                     \\\\\n",
       "\t -03HVYxkeYWaafEpNJo1SA & 5                     \\\\\n",
       "\t -1MVd6ljY2JT6gCKnrc-uw & 5                     \\\\\n",
       "\t -2ATYZeeA-9\\_qC-Whi0-2w & 5                       \\\\\n",
       "\t -3VZ3SfuJl1sPeU3Iit-RQ & 5                     \\\\\n",
       "\t -3bL-QmK7-qBYLmQuSekBw & 5                     \\\\\n",
       "\\end{tabular}\n"
      ],
      "text/markdown": [
       "\n",
       "business_id | rating | \n",
       "|---|---|---|---|---|---|\n",
       "| --cgVkbWTiga3OYTkymKqA | 5                      | \n",
       "| -03HVYxkeYWaafEpNJo1SA | 5                      | \n",
       "| -1MVd6ljY2JT6gCKnrc-uw | 5                      | \n",
       "| -2ATYZeeA-9_qC-Whi0-2w | 5                      | \n",
       "| -3VZ3SfuJl1sPeU3Iit-RQ | 5                      | \n",
       "| -3bL-QmK7-qBYLmQuSekBw | 5                      | \n",
       "\n",
       "\n"
      ],
      "text/plain": [
       "  business_id            rating\n",
       "1 --cgVkbWTiga3OYTkymKqA 5     \n",
       "2 -03HVYxkeYWaafEpNJo1SA 5     \n",
       "3 -1MVd6ljY2JT6gCKnrc-uw 5     \n",
       "4 -2ATYZeeA-9_qC-Whi0-2w 5     \n",
       "5 -3VZ3SfuJl1sPeU3Iit-RQ 5     \n",
       "6 -3bL-QmK7-qBYLmQuSekBw 5     "
      ]
     },
     "metadata": {},
     "output_type": "display_data"
    },
    {
     "data": {
      "image/png": "[encoded data removed]",
      "text/plain": [
       "Plot with title \"Histogram of business_rating$rating\""
      ]
     },
     "metadata": {},
     "output_type": "display_data"
    }
   ],
   "source": [
    "\n",
    "library(sqldf)\n",
    "business_rating = sqldf(\"select business_id, avg(stars) as rating from reviews group by business_id order by 2 desc\")\n",
    "head(business_rating)\n",
    "hist(business_rating$rating)"
   ]
  },
  {
   "cell_type": "code",
   "execution_count": 9,
   "metadata": {},
   "outputs": [
    {
     "data": {
      "text/plain": [
       "\n",
       "Call:\n",
       "lm(formula = stars ~ funny + useful + cool, data = reviews)\n",
       "\n",
       "Residuals:\n",
       "    Min      1Q  Median      3Q     Max \n",
       "-8.8416 -0.8860  0.3258  1.3258  8.4388 \n",
       "\n",
       "Coefficients:\n",
       "             Estimate Std. Error t value Pr(>|t|)    \n",
       "(Intercept)  3.674170   0.003549 1035.13   <2e-16 ***\n",
       "funny       -0.206489   0.003781  -54.62   <2e-16 ***\n",
       "useful      -0.182780   0.002880  -63.47   <2e-16 ***\n",
       "cool         0.394603   0.004145   95.20   <2e-16 ***\n",
       "---\n",
       "Signif. codes:  0 '***' 0.001 '**' 0.01 '*' 0.05 '.' 0.1 ' ' 1\n",
       "\n",
       "Residual standard error: 1.409 on 199814 degrees of freedom\n",
       "  (1 observation deleted due to missingness)\n",
       "Multiple R-squared:  0.04541,\tAdjusted R-squared:  0.0454 \n",
       "F-statistic:  3168 on 3 and 199814 DF,  p-value: < 2.2e-16\n"
      ]
     },
     "metadata": {},
     "output_type": "display_data"
    }
   ],
   "source": [
    "model <- lm(stars ~ funny + useful + cool, data=reviews)\n",
    "summary(model)\n"
   ]
  },
  {
   "cell_type": "code",
   "execution_count": null,
   "metadata": {},
   "outputs": [],
   "source": []
  }
 ],
 "metadata": {
  "kernelspec": {
   "display_name": "R",
   "language": "R",
   "name": "ir"
  },
  "language_info": {
   "codemirror_mode": "r",
   "file_extension": ".r",
   "mimetype": "text/x-r-source",
   "name": "R",
   "pygments_lexer": "r",
   "version": "3.4.2"
  }
 },
 "nbformat": 4,
 "nbformat_minor": 2
}
