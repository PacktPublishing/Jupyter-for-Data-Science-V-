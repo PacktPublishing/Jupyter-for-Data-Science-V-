{
 "cells": [
  {
   "cell_type": "code",
   "execution_count": 1,
   "metadata": {
    "scrolled": true
   },
   "outputs": [
    {
     "name": "stdout",
     "output_type": "stream",
     "text": [
      "18:40:50.098334\n",
      "18:40:50.298334\n"
     ]
    }
   ],
   "source": [
    "import time\n",
    "import datetime\n",
    "import json, csv\n",
    "\n",
    "print( datetime.datetime.now().time())\n",
    "\n",
    "headers = True\n",
    "filein = 'reviews.json'\n",
    "fileout = 'reviews.csv'\n",
    "with open(filein, encoding=\"cp866\") as jsonf, open(fileout, \"w\") as csvf:\n",
    "    for line in jsonf:\n",
    "        data = json.loads(line)        \n",
    "        \n",
    "        data.pop('text')\n",
    "                     \n",
    "        if headers:\n",
    "            keys = []\n",
    "            for k, v in data.items():\n",
    "                keys.append(k)\n",
    "            \n",
    "            writer = csv.DictWriter(csvf, fieldnames=keys)\n",
    "            writer.writeheader()\n",
    "            headers = False\n",
    "        writer.writerow(data)\n",
    "    \n",
    "print( datetime.datetime.now().time())"
   ]
  },
  {
   "cell_type": "code",
   "execution_count": null,
   "metadata": {
    "collapsed": true
   },
   "outputs": [],
   "source": []
  }
 ],
 "metadata": {
  "kernelspec": {
   "display_name": "Python 3",
   "language": "python",
   "name": "python3"
  },
  "language_info": {
   "codemirror_mode": {
    "name": "ipython",
    "version": 3
   },
   "file_extension": ".py",
   "mimetype": "text/x-python",
   "name": "python",
   "nbconvert_exporter": "python",
   "pygments_lexer": "ipython3",
   "version": "3.6.3"
  }
 },
 "nbformat": 4,
 "nbformat_minor": 2
}
