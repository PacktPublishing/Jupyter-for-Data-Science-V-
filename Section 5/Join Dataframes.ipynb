{
 "cells": [
  {
   "cell_type": "code",
   "execution_count": 1,
   "metadata": {
    "collapsed": true
   },
   "outputs": [],
   "source": [
    "from pyspark import SparkContext\n",
    "from pyspark.sql import SparkSession\n",
    "\n",
    "sc = SparkContext.getOrCreate()\n",
    "spark = SparkSession(sc) "
   ]
  },
  {
   "cell_type": "code",
   "execution_count": 2,
   "metadata": {},
   "outputs": [
    {
     "name": "stdout",
     "output_type": "stream",
     "text": [
      "+---------+------------------+-------+\n",
      "|productid|       description|  price|\n",
      "+---------+------------------+-------+\n",
      "|     1001| \"Baby High Chair\"|  35.00|\n",
      "|     1002|   \"Kitchen Table\"| 120.00|\n",
      "|     1003|      \"Phone Desk\"|  20.00|\n",
      "+---------+------------------+-------+\n",
      "\n"
     ]
    }
   ],
   "source": [
    "productDF = spark.read.format(\"csv\") \\\n",
    "        .option(\"header\", \"true\") \\\n",
    "        .load(\"product.csv\");\n",
    "productDF.show()\n",
    "productDF.createOrReplaceTempView(\"product\")"
   ]
  },
  {
   "cell_type": "code",
   "execution_count": 4,
   "metadata": {},
   "outputs": [
    {
     "name": "stdout",
     "output_type": "stream",
     "text": [
      "+-------+-------------+\n",
      "|orderid|  \"orderdate\"|\n",
      "+-------+-------------+\n",
      "|   2001| '2017-07-04'|\n",
      "|   2002| '2017-07-08'|\n",
      "|   2003| '2017-07-09'|\n",
      "+-------+-------------+\n",
      "\n"
     ]
    }
   ],
   "source": [
    "orderDF = spark.read.format(\"csv\") \\\n",
    "        .option(\"header\", \"true\") \\\n",
    "        .load(\"order.csv\");\n",
    "orderDF.show()\n",
    "orderDF.createOrReplaceTempView(\"order\")"
   ]
  },
  {
   "cell_type": "code",
   "execution_count": 6,
   "metadata": {},
   "outputs": [
    {
     "name": "stdout",
     "output_type": "stream",
     "text": [
      "+-------+------------+-----------+\n",
      "|orderid| \"productid\"| \"quantity\"|\n",
      "+-------+------------+-----------+\n",
      "|   2001|        1001|          1|\n",
      "|   2001|        1002|          1|\n",
      "|   2002|        1003|          3|\n",
      "|   2003|        1002|          1|\n",
      "+-------+------------+-----------+\n",
      "\n"
     ]
    }
   ],
   "source": [
    "orderproductDF = spark.read.format(\"csv\") \\\n",
    "        .option(\"header\", \"true\") \\\n",
    "        .load(\"orderproduct.csv\");\n",
    "orderproductDF.show()\n",
    "orderproductDF.createOrReplaceTempView(\"orderproduct\")"
   ]
  },
  {
   "cell_type": "code",
   "execution_count": 7,
   "metadata": {},
   "outputs": [
    {
     "name": "stdout",
     "output_type": "stream",
     "text": [
      "+-------+------------+-----------+-------+-------------+\n",
      "|orderid| \"productid\"| \"quantity\"|orderid|  \"orderdate\"|\n",
      "+-------+------------+-----------+-------+-------------+\n",
      "|   2001|        1001|          1|   2001| '2017-07-04'|\n",
      "|   2001|        1002|          1|   2001| '2017-07-04'|\n",
      "|   2002|        1003|          3|   2002| '2017-07-08'|\n",
      "|   2003|        1002|          1|   2003| '2017-07-09'|\n",
      "+-------+------------+-----------+-------+-------------+\n",
      "\n"
     ]
    }
   ],
   "source": [
    "joinedDF = spark.sql(\"SELECT * \" \\\n",
    "                     \"FROM orderproduct \" \\\n",
    "                     \"JOIN order ON order.orderid = orderproduct.orderid \" \\\n",
    "                     \"ORDER BY order.orderid\")\n",
    "joinedDF.show()"
   ]
  },
  {
   "cell_type": "code",
   "execution_count": null,
   "metadata": {
    "collapsed": true
   },
   "outputs": [],
   "source": []
  }
 ],
 "metadata": {
  "kernelspec": {
   "display_name": "Python 3",
   "language": "python",
   "name": "python3"
  },
  "language_info": {
   "codemirror_mode": {
    "name": "ipython",
    "version": 3
   },
   "file_extension": ".py",
   "mimetype": "text/x-python",
   "name": "python",
   "nbconvert_exporter": "python",
   "pygments_lexer": "ipython3",
   "version": "3.6.3"
  }
 },
 "nbformat": 4,
 "nbformat_minor": 2
}
