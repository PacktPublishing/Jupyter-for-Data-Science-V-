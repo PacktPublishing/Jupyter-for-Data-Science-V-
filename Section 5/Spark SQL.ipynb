{
 "cells": [
  {
   "cell_type": "code",
   "execution_count": 1,
   "metadata": {},
   "outputs": [
    {
     "name": "stdout",
     "output_type": "stream",
     "text": [
      "+------+-------+-------+------+---------+---------+-------+-------+----+-----+\n",
      "|ACTUAL|PREDICT|COUNTRY|REGION| DIVISION| PRODTYPE|PRODUCT|QUARTER|YEAR|MONTH|\n",
      "+------+-------+-------+------+---------+---------+-------+-------+----+-----+\n",
      "|   925|    850| CANADA|  EAST|EDUCATION|FURNITURE|   SOFA|      1|1993|12054|\n",
      "|   999|    297| CANADA|  EAST|EDUCATION|FURNITURE|   SOFA|      1|1993|12085|\n",
      "|   608|    846| CANADA|  EAST|EDUCATION|FURNITURE|   SOFA|      1|1993|12113|\n",
      "|   642|    533| CANADA|  EAST|EDUCATION|FURNITURE|   SOFA|      2|1993|12144|\n",
      "|   656|    646| CANADA|  EAST|EDUCATION|FURNITURE|   SOFA|      2|1993|12174|\n",
      "|   948|    486| CANADA|  EAST|EDUCATION|FURNITURE|   SOFA|      2|1993|12205|\n",
      "|   612|    717| CANADA|  EAST|EDUCATION|FURNITURE|   SOFA|      3|1993|12235|\n",
      "|   114|    564| CANADA|  EAST|EDUCATION|FURNITURE|   SOFA|      3|1993|12266|\n",
      "|   685|    230| CANADA|  EAST|EDUCATION|FURNITURE|   SOFA|      3|1993|12297|\n",
      "|   657|    494| CANADA|  EAST|EDUCATION|FURNITURE|   SOFA|      4|1993|12327|\n",
      "|   608|    903| CANADA|  EAST|EDUCATION|FURNITURE|   SOFA|      4|1993|12358|\n",
      "|   353|    266| CANADA|  EAST|EDUCATION|FURNITURE|   SOFA|      4|1993|12388|\n",
      "|   107|    190| CANADA|  EAST|EDUCATION|FURNITURE|   SOFA|      1|1994|12419|\n",
      "|   354|    139| CANADA|  EAST|EDUCATION|FURNITURE|   SOFA|      1|1994|12450|\n",
      "|   101|    217| CANADA|  EAST|EDUCATION|FURNITURE|   SOFA|      1|1994|12478|\n",
      "|   553|    560| CANADA|  EAST|EDUCATION|FURNITURE|   SOFA|      2|1994|12509|\n",
      "|   877|    148| CANADA|  EAST|EDUCATION|FURNITURE|   SOFA|      2|1994|12539|\n",
      "|   431|    762| CANADA|  EAST|EDUCATION|FURNITURE|   SOFA|      2|1994|12570|\n",
      "|   511|    457| CANADA|  EAST|EDUCATION|FURNITURE|   SOFA|      3|1994|12600|\n",
      "|   157|    532| CANADA|  EAST|EDUCATION|FURNITURE|   SOFA|      3|1994|12631|\n",
      "+------+-------+-------+------+---------+---------+-------+-------+----+-----+\n",
      "only showing top 20 rows\n",
      "\n"
     ]
    }
   ],
   "source": [
    "from pyspark import SparkContext\n",
    "from pyspark.sql import SparkSession \n",
    "\n",
    "sc = SparkContext.getOrCreate()\n",
    "spark = SparkSession(sc)\n",
    "\n",
    "df = spark.read.format(\"csv\") \\\n",
    "        .option(\"header\", \"true\") \\\n",
    "        .load(\"productsales.csv\");\n",
    "df.show()"
   ]
  },
  {
   "cell_type": "code",
   "execution_count": 2,
   "metadata": {},
   "outputs": [
    {
     "name": "stdout",
     "output_type": "stream",
     "text": [
      "+-------+-----+\n",
      "|PRODUCT|count|\n",
      "+-------+-----+\n",
      "|  CHAIR|  288|\n",
      "|    BED|  288|\n",
      "|  TABLE|  288|\n",
      "|   SOFA|  288|\n",
      "|   DESK|  288|\n",
      "+-------+-----+\n",
      "\n"
     ]
    }
   ],
   "source": [
    "df.groupBy(\"PRODUCT\").count().show()"
   ]
  },
  {
   "cell_type": "code",
   "execution_count": 3,
   "metadata": {},
   "outputs": [
    {
     "name": "stdout",
     "output_type": "stream",
     "text": [
      "+------+-------+-------+------+---------+---------+-------+-------+----+-----+\n",
      "|ACTUAL|PREDICT|COUNTRY|REGION| DIVISION| PRODTYPE|PRODUCT|QUARTER|YEAR|MONTH|\n",
      "+------+-------+-------+------+---------+---------+-------+-------+----+-----+\n",
      "|   925|    850| CANADA|  EAST|EDUCATION|FURNITURE|   SOFA|      1|1993|12054|\n",
      "|   999|    297| CANADA|  EAST|EDUCATION|FURNITURE|   SOFA|      1|1993|12085|\n",
      "|   642|    533| CANADA|  EAST|EDUCATION|FURNITURE|   SOFA|      2|1993|12144|\n",
      "|   656|    646| CANADA|  EAST|EDUCATION|FURNITURE|   SOFA|      2|1993|12174|\n",
      "|   948|    486| CANADA|  EAST|EDUCATION|FURNITURE|   SOFA|      2|1993|12205|\n",
      "|   685|    230| CANADA|  EAST|EDUCATION|FURNITURE|   SOFA|      3|1993|12297|\n",
      "|   657|    494| CANADA|  EAST|EDUCATION|FURNITURE|   SOFA|      4|1993|12327|\n",
      "|   353|    266| CANADA|  EAST|EDUCATION|FURNITURE|   SOFA|      4|1993|12388|\n",
      "|   354|    139| CANADA|  EAST|EDUCATION|FURNITURE|   SOFA|      1|1994|12450|\n",
      "|   877|    148| CANADA|  EAST|EDUCATION|FURNITURE|   SOFA|      2|1994|12539|\n",
      "|   511|    457| CANADA|  EAST|EDUCATION|FURNITURE|   SOFA|      3|1994|12600|\n",
      "|   277|      0| CANADA|  EAST|EDUCATION|FURNITURE|   SOFA|      4|1994|12723|\n",
      "|   444|    267| CANADA|  EAST|EDUCATION|FURNITURE|    BED|      1|1993|12085|\n",
      "|   329|    312| CANADA|  EAST|EDUCATION|FURNITURE|    BED|      2|1993|12174|\n",
      "|   910|    531| CANADA|  EAST|EDUCATION|FURNITURE|    BED|      2|1993|12205|\n",
      "|   515|    143| CANADA|  EAST|EDUCATION|FURNITURE|    BED|      3|1993|12297|\n",
      "|   730|    126| CANADA|  EAST|EDUCATION|FURNITURE|    BED|      4|1993|12327|\n",
      "|   993|    862| CANADA|  EAST|EDUCATION|FURNITURE|    BED|      4|1993|12358|\n",
      "|   954|    754| CANADA|  EAST|EDUCATION|FURNITURE|    BED|      4|1993|12388|\n",
      "|   991|    204| CANADA|  EAST|EDUCATION|FURNITURE|    BED|      1|1994|12478|\n",
      "+------+-------+-------+------+---------+---------+-------+-------+----+-----+\n",
      "only showing top 20 rows\n",
      "\n"
     ]
    }
   ],
   "source": [
    "df.filter(df['ACTUAL'] > df['PREDICT']).show()"
   ]
  },
  {
   "cell_type": "code",
   "execution_count": 4,
   "metadata": {},
   "outputs": [
    {
     "name": "stdout",
     "output_type": "stream",
     "text": [
      "+------+-------+-------+------+---------+---------+-------+-------+----+-----+-----+\n",
      "|ACTUAL|PREDICT|COUNTRY|REGION| DIVISION| PRODTYPE|PRODUCT|QUARTER|YEAR|MONTH| DIFF|\n",
      "+------+-------+-------+------+---------+---------+-------+-------+----+-----+-----+\n",
      "|   996|     50|GERMANY|  EAST|EDUCATION|   OFFICE|   DESK|      3|1993|12266|946.0|\n",
      "|   972|     39| U.S.A.|  WEST|EDUCATION|   OFFICE|  TABLE|      2|1994|12570|933.0|\n",
      "|   984|     65| U.S.A.|  EAST|EDUCATION|   OFFICE|   DESK|      1|1994|12419|919.0|\n",
      "|   948|     50|GERMANY|  WEST|EDUCATION|FURNITURE|   SOFA|      4|1994|12723|898.0|\n",
      "|   916|     18|GERMANY|  WEST| CONSUMER|FURNITURE|    BED|      4|1993|12327|898.0|\n",
      "|   909|     15| CANADA|  EAST| CONSUMER|   OFFICE|   DESK|      3|1993|12235|894.0|\n",
      "|   912|     23| CANADA|  EAST|EDUCATION|   OFFICE|   DESK|      1|1994|12450|889.0|\n",
      "|   890|      7| CANADA|  EAST| CONSUMER|FURNITURE|    BED|      4|1993|12388|883.0|\n",
      "|   900|     29|GERMANY|  WEST| CONSUMER|FURNITURE|   SOFA|      2|1993|12205|871.0|\n",
      "|   991|    143|GERMANY|  WEST|EDUCATION|   OFFICE|   DESK|      2|1993|12144|848.0|\n",
      "|   956|    111| CANADA|  EAST|EDUCATION|   OFFICE|  CHAIR|      4|1993|12327|845.0|\n",
      "|   862|     18| CANADA|  WEST|EDUCATION|FURNITURE|   SOFA|      1|1994|12419|844.0|\n",
      "|   862|     21| U.S.A.|  EAST|EDUCATION|   OFFICE|  CHAIR|      2|1994|12570|841.0|\n",
      "|   847|     10| CANADA|  EAST| CONSUMER|FURNITURE|    BED|      2|1994|12570|837.0|\n",
      "|   902|     72|GERMANY|  WEST| CONSUMER|FURNITURE|    BED|      1|1994|12450|830.0|\n",
      "|   916|     88| U.S.A.|  EAST| CONSUMER|   OFFICE|  TABLE|      1|1994|12419|828.0|\n",
      "|   943|    116|GERMANY|  EAST|EDUCATION|   OFFICE|   DESK|      1|1994|12478|827.0|\n",
      "|   971|    147| CANADA|  WEST|EDUCATION|   OFFICE|  TABLE|      3|1994|12600|824.0|\n",
      "|   896|     74|GERMANY|  EAST| CONSUMER|   OFFICE|  TABLE|      2|1994|12539|822.0|\n",
      "|   906|     86| U.S.A.|  WEST|EDUCATION|   OFFICE|   DESK|      3|1993|12266|820.0|\n",
      "+------+-------+-------+------+---------+---------+-------+-------+----+-----+-----+\n",
      "only showing top 20 rows\n",
      "\n"
     ]
    }
   ],
   "source": [
    "df.createOrReplaceTempView(\"sales\")\n",
    "sqlDF = spark.sql(\"SELECT *, ACTUAL-PREDICT as DIFF FROM sales ORDER BY DIFF desc\")\n",
    "sqlDF.show()"
   ]
  },
  {
   "cell_type": "code",
   "execution_count": null,
   "metadata": {
    "collapsed": true
   },
   "outputs": [],
   "source": []
  }
 ],
 "metadata": {
  "kernelspec": {
   "display_name": "Python 3",
   "language": "python",
   "name": "python3"
  },
  "language_info": {
   "codemirror_mode": {
    "name": "ipython",
    "version": 3
   },
   "file_extension": ".py",
   "mimetype": "text/x-python",
   "name": "python",
   "nbconvert_exporter": "python",
   "pygments_lexer": "ipython3",
   "version": "3.6.3"
  }
 },
 "nbformat": 4,
 "nbformat_minor": 2
}
