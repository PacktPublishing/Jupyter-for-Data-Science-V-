{
 "cells": [
  {
   "cell_type": "code",
   "execution_count": 3,
   "metadata": {
    "collapsed": true,
    "scrolled": true
   },
   "outputs": [],
   "source": [
    "from pyspark import SparkContext\n",
    "from pyspark.sql import SparkSession \n",
    "\n",
    "sc = SparkContext.getOrCreate()\n",
    "spark = SparkSession(sc)"
   ]
  },
  {
   "cell_type": "code",
   "execution_count": 4,
   "metadata": {},
   "outputs": [
    {
     "name": "stdout",
     "output_type": "stream",
     "text": [
      "+----+----+--------------------+---------------+\n",
      "| age|born|                fame|           name|\n",
      "+----+----+--------------------+---------------+\n",
      "|null|null|                null|        Michael|\n",
      "|  30|null|                null|           Andy|\n",
      "|  19|null|                null|         Justin|\n",
      "|null|1955|co-founder of App...|     Steve Jobs|\n",
      "|null|1955|                null|Tim Berners-Lee|\n",
      "|null|1815|                null|   George Boole|\n",
      "+----+----+--------------------+---------------+\n",
      "\n"
     ]
    }
   ],
   "source": [
    "df = spark.read.json(\"people.json\")\n",
    "df.show()"
   ]
  },
  {
   "cell_type": "code",
   "execution_count": 5,
   "metadata": {},
   "outputs": [
    {
     "name": "stdout",
     "output_type": "stream",
     "text": [
      "root\n",
      " |-- age: long (nullable = true)\n",
      " |-- born: long (nullable = true)\n",
      " |-- fame: string (nullable = true)\n",
      " |-- name: string (nullable = true)\n",
      "\n"
     ]
    }
   ],
   "source": [
    "df.printSchema()"
   ]
  },
  {
   "cell_type": "code",
   "execution_count": 6,
   "metadata": {},
   "outputs": [
    {
     "name": "stdout",
     "output_type": "stream",
     "text": [
      "+---------------+\n",
      "|           name|\n",
      "+---------------+\n",
      "|        Michael|\n",
      "|           Andy|\n",
      "|         Justin|\n",
      "|     Steve Jobs|\n",
      "|Tim Berners-Lee|\n",
      "|   George Boole|\n",
      "+---------------+\n",
      "\n"
     ]
    }
   ],
   "source": [
    "df.registerTempTable(\"people\")\n",
    "spark.sql(\"select name from people\").show()"
   ]
  },
  {
   "cell_type": "code",
   "execution_count": null,
   "metadata": {
    "collapsed": true
   },
   "outputs": [],
   "source": []
  }
 ],
 "metadata": {
  "kernelspec": {
   "display_name": "Python 3",
   "language": "python",
   "name": "python3"
  },
  "language_info": {
   "codemirror_mode": {
    "name": "ipython",
    "version": 3
   },
   "file_extension": ".py",
   "mimetype": "text/x-python",
   "name": "python",
   "nbconvert_exporter": "python",
   "pygments_lexer": "ipython3",
   "version": "3.6.3"
  }
 },
 "nbformat": 4,
 "nbformat_minor": 2
}
