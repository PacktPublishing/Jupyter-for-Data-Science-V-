{
 "cells": [
  {
   "cell_type": "code",
   "execution_count": 1,
   "metadata": {},
   "outputs": [
    {
     "data": {
      "text/plain": [
       "               ï..School      X2017            X2016            X2015       \n",
       " Amherst College    : 1   Min.   :0.0500   Min.   :0.0500   Min.   :0.0500  \n",
       " Boston College     : 1   1st Qu.:0.0800   1st Qu.:0.0900   1st Qu.:0.0900  \n",
       " Brown University   : 1   Median :0.1000   Median :0.1300   Median :0.1300  \n",
       " Columbia University: 1   Mean   :0.1444   Mean   :0.1493   Mean   :0.1534  \n",
       " Cornell University : 1   3rd Qu.:0.1800   3rd Qu.:0.1700   3rd Qu.:0.1800  \n",
       " Dartmouth College  : 1   Max.   :0.4100   Max.   :0.4000   Max.   :0.4600  \n",
       " (Other)            :23   NA's   :2                                         \n",
       "     X2007       \n",
       " Min.   :0.1000  \n",
       " 1st Qu.:0.1600  \n",
       " Median :0.2100  \n",
       " Mean   :0.2279  \n",
       " 3rd Qu.:0.2700  \n",
       " Max.   :0.5000  \n",
       "                 "
      ]
     },
     "metadata": {},
     "output_type": "display_data"
    },
    {
     "data": {
      "text/html": [
       "<table>\n",
       "<thead><tr><th scope=col>ï..School</th><th scope=col>X2017</th><th scope=col>X2016</th><th scope=col>X2015</th><th scope=col>X2007</th></tr></thead>\n",
       "<tbody>\n",
       "\t<tr><td>Amherst College    </td><td>  NA               </td><td>0.14               </td><td>0.14               </td><td>0.18               </td></tr>\n",
       "\t<tr><td>Boston College     </td><td>0.32               </td><td>0.32               </td><td>0.28               </td><td>0.27               </td></tr>\n",
       "\t<tr><td>Brown University   </td><td>0.08               </td><td>0.09               </td><td>0.09               </td><td>0.15               </td></tr>\n",
       "\t<tr><td>Columbia University</td><td>0.06               </td><td>0.06               </td><td>0.06               </td><td>0.12               </td></tr>\n",
       "\t<tr><td>Cornell University </td><td>0.13               </td><td>0.14               </td><td>0.15               </td><td>0.21               </td></tr>\n",
       "\t<tr><td>Dartmouth College  </td><td>0.10               </td><td>0.11               </td><td>0.10               </td><td>0.18               </td></tr>\n",
       "</tbody>\n",
       "</table>\n"
      ],
      "text/latex": [
       "\\begin{tabular}{r|lllll}\n",
       " ï..School & X2017 & X2016 & X2015 & X2007\\\\\n",
       "\\hline\n",
       "\t Amherst College     &   NA                & 0.14                & 0.14                & 0.18               \\\\\n",
       "\t Boston College      & 0.32                & 0.32                & 0.28                & 0.27               \\\\\n",
       "\t Brown University    & 0.08                & 0.09                & 0.09                & 0.15               \\\\\n",
       "\t Columbia University & 0.06                & 0.06                & 0.06                & 0.12               \\\\\n",
       "\t Cornell University  & 0.13                & 0.14                & 0.15                & 0.21               \\\\\n",
       "\t Dartmouth College   & 0.10                & 0.11                & 0.10                & 0.18               \\\\\n",
       "\\end{tabular}\n"
      ],
      "text/markdown": [
       "\n",
       "ï..School | X2017 | X2016 | X2015 | X2007 | \n",
       "|---|---|---|---|---|---|\n",
       "| Amherst College     |   NA                | 0.14                | 0.14                | 0.18                | \n",
       "| Boston College      | 0.32                | 0.32                | 0.28                | 0.27                | \n",
       "| Brown University    | 0.08                | 0.09                | 0.09                | 0.15                | \n",
       "| Columbia University | 0.06                | 0.06                | 0.06                | 0.12                | \n",
       "| Cornell University  | 0.13                | 0.14                | 0.15                | 0.21                | \n",
       "| Dartmouth College   | 0.10                | 0.11                | 0.10                | 0.18                | \n",
       "\n",
       "\n"
      ],
      "text/plain": [
       "  ï..School           X2017 X2016 X2015 X2007\n",
       "1 Amherst College       NA  0.14  0.14  0.18 \n",
       "2 Boston College      0.32  0.32  0.28  0.27 \n",
       "3 Brown University    0.08  0.09  0.09  0.15 \n",
       "4 Columbia University 0.06  0.06  0.06  0.12 \n",
       "5 Cornell University  0.13  0.14  0.15  0.21 \n",
       "6 Dartmouth College   0.10  0.11  0.10  0.18 "
      ]
     },
     "metadata": {},
     "output_type": "display_data"
    }
   ],
   "source": [
    "df <- read.csv(\"acceptance-rates.csv\")\n",
    "summary(df)\n",
    "head(df)"
   ]
  },
  {
   "cell_type": "code",
   "execution_count": 2,
   "metadata": {},
   "outputs": [
    {
     "data": {
      "image/png": "[encoded data removed]",
      "text/plain": [
       "plot without title"
      ]
     },
     "metadata": {},
     "output_type": "display_data"
    }
   ],
   "source": [
    "plot(df)"
   ]
  },
  {
   "cell_type": "code",
   "execution_count": 3,
   "metadata": {},
   "outputs": [
    {
     "data": {
      "image/png": "[encoded data removed]",
      "text/plain": [
       "plot without title"
      ]
     },
     "metadata": {},
     "output_type": "display_data"
    }
   ],
   "source": [
    "myvector <- c(mean(df[[\"X2015\"]],na.rm=TRUE),mean(df[[\"X2016\"]],na.rm=TRUE),mean(df[[\"X2017\"]],na.rm=TRUE))\n",
    "ts <- ts(myvector, start=c(2015), end=c(2017), frequency=1)\n",
    "plot(ts)"
   ]
  },
  {
   "cell_type": "code",
   "execution_count": 4,
   "metadata": {},
   "outputs": [
    {
     "data": {
      "text/plain": [
       "Holt-Winters exponential smoothing with trend and without seasonal component.\n",
       "\n",
       "Call:\n",
       "HoltWinters(x = ts, gamma = FALSE)\n",
       "\n",
       "Smoothing parameters:\n",
       " alpha: 0.3\n",
       " beta : 0.1\n",
       " gamma: FALSE\n",
       "\n",
       "Coefficients:\n",
       "         [,1]\n",
       "a  0.14495402\n",
       "b -0.00415977"
      ]
     },
     "metadata": {},
     "output_type": "display_data"
    }
   ],
   "source": [
    "fit <- HoltWinters(ts, gamma=FALSE)\n",
    "fit"
   ]
  },
  {
   "cell_type": "code",
   "execution_count": 5,
   "metadata": {},
   "outputs": [
    {
     "name": "stderr",
     "output_type": "stream",
     "text": [
      "Installing package into 'C:/Users/Test/Documents/R/win-library/3.4'\n",
      "(as 'lib' is unspecified)\n"
     ]
    },
    {
     "name": "stdout",
     "output_type": "stream",
     "text": [
      "package 'forecast' successfully unpacked and MD5 sums checked\n",
      "\n",
      "The downloaded binary packages are in\n",
      "\tC:\\Users\\Test\\AppData\\Local\\Temp\\RtmpsHm2hL\\downloaded_packages\n"
     ]
    },
    {
     "name": "stderr",
     "output_type": "stream",
     "text": [
      "Warning message:\n",
      "\"package 'forecast' was built under R version 3.4.3\""
     ]
    },
    {
     "data": {
      "text/plain": [
       "     Point Forecast Lo 80 Hi 80 Lo 95 Hi 95\n",
       "2018      0.1407943    NA    NA    NA    NA\n",
       "2019      0.1366345    NA    NA    NA    NA\n",
       "2020      0.1324747    NA    NA    NA    NA"
      ]
     },
     "metadata": {},
     "output_type": "display_data"
    },
    {
     "data": {
      "image/png": "[encoded data removed]",
      "text/plain": [
       "Plot with title \"Forecasts from HoltWinters\""
      ]
     },
     "metadata": {},
     "output_type": "display_data"
    }
   ],
   "source": [
    "install.packages(\"forecast\", repos=\"http://cran.us.r-project.org\")\n",
    "library(forecast)\n",
    "forecast(fit, 3)\n",
    "plot(forecast(fit, 3)) "
   ]
  },
  {
   "cell_type": "code",
   "execution_count": null,
   "metadata": {
    "collapsed": true
   },
   "outputs": [],
   "source": []
  }
 ],
 "metadata": {
  "kernelspec": {
   "display_name": "R",
   "language": "R",
   "name": "ir"
  },
  "language_info": {
   "codemirror_mode": "r",
   "file_extension": ".r",
   "mimetype": "text/x-r-source",
   "name": "R",
   "pygments_lexer": "r",
   "version": "3.4.2"
  }
 },
 "nbformat": 4,
 "nbformat_minor": 2
}
