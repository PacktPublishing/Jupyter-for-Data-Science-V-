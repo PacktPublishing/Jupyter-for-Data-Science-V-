{
 "cells": [
  {
   "cell_type": "code",
   "execution_count": 4,
   "metadata": {},
   "outputs": [],
   "source": [
    "printf <- function(...)print(sprintf(...))"
   ]
  },
  {
   "cell_type": "code",
   "execution_count": 7,
   "metadata": {},
   "outputs": [
    {
     "data": {
      "text/html": [
       "<table>\n",
       "<thead><tr><th scope=col>age</th><th scope=col>Clinton</th><th scope=col>Trump</th></tr></thead>\n",
       "<tbody>\n",
       "\t<tr><td>18-24 years old</td><td>56             </td><td>35             </td></tr>\n",
       "\t<tr><td>25-29 years old</td><td>53             </td><td>39             </td></tr>\n",
       "\t<tr><td>30-39 years old</td><td>51             </td><td>40             </td></tr>\n",
       "\t<tr><td>40-49 years old</td><td>46             </td><td>50             </td></tr>\n",
       "\t<tr><td>50-64 years old</td><td>44             </td><td>53             </td></tr>\n",
       "\t<tr><td>65 and older   </td><td>45             </td><td>53             </td></tr>\n",
       "</tbody>\n",
       "</table>\n"
      ],
      "text/latex": [
       "\\begin{tabular}{r|lll}\n",
       " age & Clinton & Trump\\\\\n",
       "\\hline\n",
       "\t 18-24 years old & 56              & 35             \\\\\n",
       "\t 25-29 years old & 53              & 39             \\\\\n",
       "\t 30-39 years old & 51              & 40             \\\\\n",
       "\t 40-49 years old & 46              & 50             \\\\\n",
       "\t 50-64 years old & 44              & 53             \\\\\n",
       "\t 65 and older    & 45              & 53             \\\\\n",
       "\\end{tabular}\n"
      ],
      "text/markdown": [
       "\n",
       "age | Clinton | Trump | \n",
       "|---|---|---|---|---|---|\n",
       "| 18-24 years old | 56              | 35              | \n",
       "| 25-29 years old | 53              | 39              | \n",
       "| 30-39 years old | 51              | 40              | \n",
       "| 40-49 years old | 46              | 50              | \n",
       "| 50-64 years old | 44              | 53              | \n",
       "| 65 and older    | 45              | 53              | \n",
       "\n",
       "\n"
      ],
      "text/plain": [
       "  age             Clinton Trump\n",
       "1 18-24 years old 56      35   \n",
       "2 25-29 years old 53      39   \n",
       "3 30-39 years old 51      40   \n",
       "4 40-49 years old 46      50   \n",
       "5 50-64 years old 44      53   \n",
       "6 65 and older    45      53   "
      ]
     },
     "metadata": {},
     "output_type": "display_data"
    }
   ],
   "source": [
    "\n",
    "options( warn = -1 )\n",
    "age <- read.csv(\"age.tsv\", sep=\"\\t\")\n",
    "head(age)"
   ]
  },
  {
   "cell_type": "code",
   "execution_count": 8,
   "metadata": {},
   "outputs": [
    {
     "data": {
      "text/html": [
       "<table>\n",
       "<thead><tr><th scope=col>education</th><th scope=col>Clinton</th><th scope=col>Trump</th></tr></thead>\n",
       "<tbody>\n",
       "\t<tr><td>High school or less   </td><td>45                    </td><td>51                    </td></tr>\n",
       "\t<tr><td>Some college education</td><td>43                    </td><td>52                    </td></tr>\n",
       "\t<tr><td>College graduate      </td><td>49                    </td><td>45                    </td></tr>\n",
       "\t<tr><td>Postgraduate education</td><td>58                    </td><td>37                    </td></tr>\n",
       "</tbody>\n",
       "</table>\n"
      ],
      "text/latex": [
       "\\begin{tabular}{r|lll}\n",
       " education & Clinton & Trump\\\\\n",
       "\\hline\n",
       "\t High school or less    & 45                     & 51                    \\\\\n",
       "\t Some college education & 43                     & 52                    \\\\\n",
       "\t College graduate       & 49                     & 45                    \\\\\n",
       "\t Postgraduate education & 58                     & 37                    \\\\\n",
       "\\end{tabular}\n"
      ],
      "text/markdown": [
       "\n",
       "education | Clinton | Trump | \n",
       "|---|---|---|---|\n",
       "| High school or less    | 45                     | 51                     | \n",
       "| Some college education | 43                     | 52                     | \n",
       "| College graduate       | 49                     | 45                     | \n",
       "| Postgraduate education | 58                     | 37                     | \n",
       "\n",
       "\n"
      ],
      "text/plain": [
       "  education              Clinton Trump\n",
       "1 High school or less    45      51   \n",
       "2 Some college education 43      52   \n",
       "3 College graduate       49      45   \n",
       "4 Postgraduate education 58      37   "
      ]
     },
     "metadata": {},
     "output_type": "display_data"
    }
   ],
   "source": [
    "education <- read.csv(\"education.tsv\", sep=\"\\t\")\n",
    "head(education)"
   ]
  },
  {
   "cell_type": "code",
   "execution_count": 9,
   "metadata": {},
   "outputs": [
    {
     "data": {
      "text/html": [
       "<table>\n",
       "<thead><tr><th scope=col>gender</th><th scope=col>Clinton</th><th scope=col>Trump</th></tr></thead>\n",
       "<tbody>\n",
       "\t<tr><td>Men  </td><td>41   </td><td>52   </td></tr>\n",
       "\t<tr><td>Women</td><td>54   </td><td>41   </td></tr>\n",
       "</tbody>\n",
       "</table>\n"
      ],
      "text/latex": [
       "\\begin{tabular}{r|lll}\n",
       " gender & Clinton & Trump\\\\\n",
       "\\hline\n",
       "\t Men   & 41    & 52   \\\\\n",
       "\t Women & 54    & 41   \\\\\n",
       "\\end{tabular}\n"
      ],
      "text/markdown": [
       "\n",
       "gender | Clinton | Trump | \n",
       "|---|---|\n",
       "| Men   | 41    | 52    | \n",
       "| Women | 54    | 41    | \n",
       "\n",
       "\n"
      ],
      "text/plain": [
       "  gender Clinton Trump\n",
       "1 Men    41      52   \n",
       "2 Women  54      41   "
      ]
     },
     "metadata": {},
     "output_type": "display_data"
    }
   ],
   "source": [
    "gender <- read.csv(\"gender.tsv\", sep=\"\\t\")\n",
    "head(gender)"
   ]
  },
  {
   "cell_type": "code",
   "execution_count": 10,
   "metadata": {},
   "outputs": [
    {
     "data": {
      "text/html": [
       "<table>\n",
       "<thead><tr><th scope=col>ideology</th><th scope=col>Clinton</th><th scope=col>Trump</th></tr></thead>\n",
       "<tbody>\n",
       "\t<tr><td>Liberals     </td><td>84           </td><td>10           </td></tr>\n",
       "\t<tr><td>Moderates    </td><td>52           </td><td>41           </td></tr>\n",
       "\t<tr><td>Conservatives</td><td>15           </td><td>81           </td></tr>\n",
       "</tbody>\n",
       "</table>\n"
      ],
      "text/latex": [
       "\\begin{tabular}{r|lll}\n",
       " ideology & Clinton & Trump\\\\\n",
       "\\hline\n",
       "\t Liberals      & 84            & 10           \\\\\n",
       "\t Moderates     & 52            & 41           \\\\\n",
       "\t Conservatives & 15            & 81           \\\\\n",
       "\\end{tabular}\n"
      ],
      "text/markdown": [
       "\n",
       "ideology | Clinton | Trump | \n",
       "|---|---|---|\n",
       "| Liberals      | 84            | 10            | \n",
       "| Moderates     | 52            | 41            | \n",
       "| Conservatives | 15            | 81            | \n",
       "\n",
       "\n"
      ],
      "text/plain": [
       "  ideology      Clinton Trump\n",
       "1 Liberals      84      10   \n",
       "2 Moderates     52      41   \n",
       "3 Conservatives 15      81   "
      ]
     },
     "metadata": {},
     "output_type": "display_data"
    }
   ],
   "source": [
    "ideology <- read.csv(\"ideology.tsv\", sep=\"\\t\")\n",
    "head(ideology)"
   ]
  },
  {
   "cell_type": "code",
   "execution_count": 18,
   "metadata": {},
   "outputs": [
    {
     "data": {
      "text/html": [
       "<table>\n",
       "<thead><tr><th scope=col>income</th><th scope=col>Clinton</th><th scope=col>Trump</th></tr></thead>\n",
       "<tbody>\n",
       "\t<tr><td>Under $30,000   </td><td>53              </td><td>41              </td></tr>\n",
       "\t<tr><td>$30,000-49,999  </td><td>51              </td><td>42              </td></tr>\n",
       "\t<tr><td>$50,000-99,999  </td><td>46              </td><td>50              </td></tr>\n",
       "\t<tr><td>$100,000-199,999</td><td>47              </td><td>48              </td></tr>\n",
       "\t<tr><td>$200,000-249,999</td><td>48              </td><td>49              </td></tr>\n",
       "\t<tr><td>Over $250,000   </td><td>46              </td><td>48              </td></tr>\n",
       "</tbody>\n",
       "</table>\n"
      ],
      "text/latex": [
       "\\begin{tabular}{r|lll}\n",
       " income & Clinton & Trump\\\\\n",
       "\\hline\n",
       "\t Under \\$30,000    & 53                 & 41                \\\\\n",
       "\t \\$30,000-49,999   & 51                 & 42                \\\\\n",
       "\t \\$50,000-99,999   & 46                 & 50                \\\\\n",
       "\t \\$100,000-199,999 & 47                 & 48                \\\\\n",
       "\t \\$200,000-249,999 & 48                 & 49                \\\\\n",
       "\t Over \\$250,000    & 46                 & 48                \\\\\n",
       "\\end{tabular}\n"
      ],
      "text/markdown": [
       "\n",
       "income | Clinton | Trump | \n",
       "|---|---|---|---|---|---|\n",
       "| Under $30,000    | 53               | 41               | \n",
       "| $30,000-49,999   | 51               | 42               | \n",
       "| $50,000-99,999   | 46               | 50               | \n",
       "| $100,000-199,999 | 47               | 48               | \n",
       "| $200,000-249,999 | 48               | 49               | \n",
       "| Over $250,000    | 46               | 48               | \n",
       "\n",
       "\n"
      ],
      "text/plain": [
       "  income           Clinton Trump\n",
       "1 Under $30,000    53      41   \n",
       "2 $30,000-49,999   51      42   \n",
       "3 $50,000-99,999   46      50   \n",
       "4 $100,000-199,999 47      48   \n",
       "5 $200,000-249,999 48      49   \n",
       "6 Over $250,000    46      48   "
      ]
     },
     "metadata": {},
     "output_type": "display_data"
    }
   ],
   "source": [
    "income <- read.csv(\"income.tsv\", sep=\"\\t\")\n",
    "head(income)"
   ]
  },
  {
   "cell_type": "code",
   "execution_count": 12,
   "metadata": {},
   "outputs": [
    {
     "data": {
      "text/html": [
       "<table>\n",
       "<thead><tr><th scope=col>orientation</th><th scope=col>Clinton</th><th scope=col>Trump</th></tr></thead>\n",
       "<tbody>\n",
       "\t<tr><td>LGBT        </td><td>78          </td><td>14          </td></tr>\n",
       "\t<tr><td>Heterosexual</td><td>47          </td><td>48          </td></tr>\n",
       "</tbody>\n",
       "</table>\n"
      ],
      "text/latex": [
       "\\begin{tabular}{r|lll}\n",
       " orientation & Clinton & Trump\\\\\n",
       "\\hline\n",
       "\t LGBT         & 78           & 14          \\\\\n",
       "\t Heterosexual & 47           & 48          \\\\\n",
       "\\end{tabular}\n"
      ],
      "text/markdown": [
       "\n",
       "orientation | Clinton | Trump | \n",
       "|---|---|\n",
       "| LGBT         | 78           | 14           | \n",
       "| Heterosexual | 47           | 48           | \n",
       "\n",
       "\n"
      ],
      "text/plain": [
       "  orientation  Clinton Trump\n",
       "1 LGBT         78      14   \n",
       "2 Heterosexual 47      48   "
      ]
     },
     "metadata": {},
     "output_type": "display_data"
    }
   ],
   "source": [
    "orientation <- read.csv(\"orientation.tsv\", sep=\"\\t\")\n",
    "head(orientation)"
   ]
  },
  {
   "cell_type": "code",
   "execution_count": 13,
   "metadata": {},
   "outputs": [
    {
     "data": {
      "text/html": [
       "<table>\n",
       "<thead><tr><th scope=col>party</th><th scope=col>Clinton</th><th scope=col>Trump</th></tr></thead>\n",
       "<tbody>\n",
       "\t<tr><td>Democrats   </td><td>89          </td><td> 9          </td></tr>\n",
       "\t<tr><td>Republicans </td><td> 7          </td><td>90          </td></tr>\n",
       "\t<tr><td>Independents</td><td>42          </td><td>48          </td></tr>\n",
       "</tbody>\n",
       "</table>\n"
      ],
      "text/latex": [
       "\\begin{tabular}{r|lll}\n",
       " party & Clinton & Trump\\\\\n",
       "\\hline\n",
       "\t Democrats    & 89           &  9          \\\\\n",
       "\t Republicans  &  7           & 90          \\\\\n",
       "\t Independents & 42           & 48          \\\\\n",
       "\\end{tabular}\n"
      ],
      "text/markdown": [
       "\n",
       "party | Clinton | Trump | \n",
       "|---|---|---|\n",
       "| Democrats    | 89           |  9           | \n",
       "| Republicans  |  7           | 90           | \n",
       "| Independents | 42           | 48           | \n",
       "\n",
       "\n"
      ],
      "text/plain": [
       "  party        Clinton Trump\n",
       "1 Democrats    89       9   \n",
       "2 Republicans   7      90   \n",
       "3 Independents 42      48   "
      ]
     },
     "metadata": {},
     "output_type": "display_data"
    }
   ],
   "source": [
    "party <- read.csv(\"party.tsv\", sep=\"\\t\")\n",
    "head(party)"
   ]
  },
  {
   "cell_type": "code",
   "execution_count": 14,
   "metadata": {},
   "outputs": [
    {
     "data": {
      "text/html": [
       "<table>\n",
       "<thead><tr><th scope=col>race</th><th scope=col>Clinton</th><th scope=col>Trump</th></tr></thead>\n",
       "<tbody>\n",
       "\t<tr><td>White                 </td><td>37                    </td><td>58                    </td></tr>\n",
       "\t<tr><td>Black                 </td><td>88                    </td><td> 8                    </td></tr>\n",
       "\t<tr><td>Asian                 </td><td>65                    </td><td>29                    </td></tr>\n",
       "\t<tr><td>Other                 </td><td>56                    </td><td>37                    </td></tr>\n",
       "\t<tr><td>Hispanic (of any race)</td><td>65                    </td><td>29                    </td></tr>\n",
       "</tbody>\n",
       "</table>\n"
      ],
      "text/latex": [
       "\\begin{tabular}{r|lll}\n",
       " race & Clinton & Trump\\\\\n",
       "\\hline\n",
       "\t White                  & 37                     & 58                    \\\\\n",
       "\t Black                  & 88                     &  8                    \\\\\n",
       "\t Asian                  & 65                     & 29                    \\\\\n",
       "\t Other                  & 56                     & 37                    \\\\\n",
       "\t Hispanic (of any race) & 65                     & 29                    \\\\\n",
       "\\end{tabular}\n"
      ],
      "text/markdown": [
       "\n",
       "race | Clinton | Trump | \n",
       "|---|---|---|---|---|\n",
       "| White                  | 37                     | 58                     | \n",
       "| Black                  | 88                     |  8                     | \n",
       "| Asian                  | 65                     | 29                     | \n",
       "| Other                  | 56                     | 37                     | \n",
       "| Hispanic (of any race) | 65                     | 29                     | \n",
       "\n",
       "\n"
      ],
      "text/plain": [
       "  race                   Clinton Trump\n",
       "1 White                  37      58   \n",
       "2 Black                  88       8   \n",
       "3 Asian                  65      29   \n",
       "4 Other                  56      37   \n",
       "5 Hispanic (of any race) 65      29   "
      ]
     },
     "metadata": {},
     "output_type": "display_data"
    }
   ],
   "source": [
    "race <- read.csv(\"race.tsv\", sep=\"\\t\")\n",
    "head(race)"
   ]
  },
  {
   "cell_type": "code",
   "execution_count": 15,
   "metadata": {},
   "outputs": [
    {
     "data": {
      "text/html": [
       "<table>\n",
       "<thead><tr><th scope=col>region</th><th scope=col>Clinton</th><th scope=col>Trump</th></tr></thead>\n",
       "<tbody>\n",
       "\t<tr><td>Northeast</td><td>55       </td><td>40       </td></tr>\n",
       "\t<tr><td>Midwest  </td><td>45       </td><td>49       </td></tr>\n",
       "\t<tr><td>South    </td><td>44       </td><td>52       </td></tr>\n",
       "\t<tr><td>West     </td><td>55       </td><td>39       </td></tr>\n",
       "</tbody>\n",
       "</table>\n"
      ],
      "text/latex": [
       "\\begin{tabular}{r|lll}\n",
       " region & Clinton & Trump\\\\\n",
       "\\hline\n",
       "\t Northeast & 55        & 40       \\\\\n",
       "\t Midwest   & 45        & 49       \\\\\n",
       "\t South     & 44        & 52       \\\\\n",
       "\t West      & 55        & 39       \\\\\n",
       "\\end{tabular}\n"
      ],
      "text/markdown": [
       "\n",
       "region | Clinton | Trump | \n",
       "|---|---|---|---|\n",
       "| Northeast | 55        | 40        | \n",
       "| Midwest   | 45        | 49        | \n",
       "| South     | 44        | 52        | \n",
       "| West      | 55        | 39        | \n",
       "\n",
       "\n"
      ],
      "text/plain": [
       "  region    Clinton Trump\n",
       "1 Northeast 55      40   \n",
       "2 Midwest   45      49   \n",
       "3 South     44      52   \n",
       "4 West      55      39   "
      ]
     },
     "metadata": {},
     "output_type": "display_data"
    }
   ],
   "source": [
    "region <- read.csv(\"region.tsv\", sep=\"\\t\")\n",
    "head(region)"
   ]
  },
  {
   "cell_type": "code",
   "execution_count": 19,
   "metadata": {},
   "outputs": [
    {
     "data": {
      "text/html": [
       "<table>\n",
       "<thead><tr><th scope=col>religion</th><th scope=col>Clinton</th><th scope=col>Trump</th></tr></thead>\n",
       "<tbody>\n",
       "\t<tr><td>Protestant     </td><td>37             </td><td>60             </td></tr>\n",
       "\t<tr><td>Catholic       </td><td>45             </td><td>52             </td></tr>\n",
       "\t<tr><td>Mormon         </td><td>25             </td><td>61             </td></tr>\n",
       "\t<tr><td>Other Christian</td><td>43             </td><td>55             </td></tr>\n",
       "\t<tr><td>Jewish         </td><td>71             </td><td>24             </td></tr>\n",
       "\t<tr><td>Other religion </td><td>58             </td><td>33             </td></tr>\n",
       "</tbody>\n",
       "</table>\n"
      ],
      "text/latex": [
       "\\begin{tabular}{r|lll}\n",
       " religion & Clinton & Trump\\\\\n",
       "\\hline\n",
       "\t Protestant      & 37              & 60             \\\\\n",
       "\t Catholic        & 45              & 52             \\\\\n",
       "\t Mormon          & 25              & 61             \\\\\n",
       "\t Other Christian & 43              & 55             \\\\\n",
       "\t Jewish          & 71              & 24             \\\\\n",
       "\t Other religion  & 58              & 33             \\\\\n",
       "\\end{tabular}\n"
      ],
      "text/markdown": [
       "\n",
       "religion | Clinton | Trump | \n",
       "|---|---|---|---|---|---|\n",
       "| Protestant      | 37              | 60              | \n",
       "| Catholic        | 45              | 52              | \n",
       "| Mormon          | 25              | 61              | \n",
       "| Other Christian | 43              | 55              | \n",
       "| Jewish          | 71              | 24              | \n",
       "| Other religion  | 58              | 33              | \n",
       "\n",
       "\n"
      ],
      "text/plain": [
       "  religion        Clinton Trump\n",
       "1 Protestant      37      60   \n",
       "2 Catholic        45      52   \n",
       "3 Mormon          25      61   \n",
       "4 Other Christian 43      55   \n",
       "5 Jewish          71      24   \n",
       "6 Other religion  58      33   "
      ]
     },
     "metadata": {},
     "output_type": "display_data"
    }
   ],
   "source": [
    "religion <- read.csv(\"religion.tsv\", sep=\"\\t\")\n",
    "head(religion)"
   ]
  },
  {
   "cell_type": "code",
   "execution_count": 20,
   "metadata": {},
   "outputs": [
    {
     "name": "stdout",
     "output_type": "stream",
     "text": [
      "[1] \"Most Clinton voters from 18-24 years old\"\n",
      "[1] \"Most Clinton voters from Postgraduate education\"\n",
      "[1] \"Most Clinton voters from Women\"\n",
      "[1] \"Most Clinton voters from Liberals\"\n",
      "[1] \"Most Clinton voters from Under $30,000\"\n",
      "[1] \"Most Clinton voters from LGBT\"\n",
      "[1] \"Most Clinton voters from Democrats\"\n",
      "[1] \"Most Clinton voters from Black\"\n",
      "[1] \"Most Clinton voters from Northeast\"\n",
      "[1] \"Most Clinton voters from Jewish\"\n"
     ]
    }
   ],
   "source": [
    "printf(\"Most Clinton voters from %s\",age[which.max(age$Clinton),'age'])\n",
    "printf(\"Most Clinton voters from %s\",education[which.max(education$Clinton),'education'])\n",
    "printf(\"Most Clinton voters from %s\",gender[which.max(gender$Clinton),'gender'])\n",
    "printf(\"Most Clinton voters from %s\",ideology[which.max(ideology$Clinton),'ideology'])\n",
    "printf(\"Most Clinton voters from %s\",income[which.max(income$Clinton),'income'])\n",
    "printf(\"Most Clinton voters from %s\",orientation[which.max(orientation$Clinton),'orientation'])\n",
    "printf(\"Most Clinton voters from %s\",party[which.max(party$Clinton),'party'])\n",
    "printf(\"Most Clinton voters from %s\",race[which.max(race$Clinton),'race'])\n",
    "printf(\"Most Clinton voters from %s\",region[which.max(region$Clinton),'region'])\n",
    "printf(\"Most Clinton voters from %s\",religion[which.max(religion$Clinton),'religion'])"
   ]
  },
  {
   "cell_type": "code",
   "execution_count": 21,
   "metadata": {},
   "outputs": [
    {
     "name": "stdout",
     "output_type": "stream",
     "text": [
      "[1] \"Most Trump voters from 50-64 years old\"\n",
      "[1] \"Most Trump voters from Some college education\"\n",
      "[1] \"Most Trump voters from Men\"\n",
      "[1] \"Most Trump voters from Conservatives\"\n",
      "[1] \"Most Trump voters from $50,000-99,999\"\n",
      "[1] \"Most Trump voters from Heterosexual\"\n",
      "[1] \"Most Trump voters from Republicans\"\n",
      "[1] \"Most Trump voters from White\"\n",
      "[1] \"Most Trump voters from South\"\n",
      "[1] \"Most Trump voters from Mormon\"\n"
     ]
    }
   ],
   "source": [
    "printf(\"Most Trump voters from %s\",age[which.max(age$Trump),'age'])\n",
    "printf(\"Most Trump voters from %s\",education[which.max(education$Trump),'education'])\n",
    "printf(\"Most Trump voters from %s\",gender[which.max(gender$Trump),'gender'])\n",
    "printf(\"Most Trump voters from %s\",ideology[which.max(ideology$Trump),'ideology'])\n",
    "printf(\"Most Trump voters from %s\",income[which.max(income$Trump),'income'])\n",
    "printf(\"Most Trump voters from %s\",orientation[which.max(orientation$Trump),'orientation'])\n",
    "printf(\"Most Trump voters from %s\",party[which.max(party$Trump),'party'])\n",
    "printf(\"Most Trump voters from %s\",race[which.max(race$Trump),'race'])\n",
    "printf(\"Most Trump voters from %s\",region[which.max(region$Trump),'region'])\n",
    "printf(\"Most Trump voters from %s\",religion[which.max(religion$Trump),'religion'])"
   ]
  },
  {
   "cell_type": "code",
   "execution_count": null,
   "metadata": {},
   "outputs": [],
   "source": []
  }
 ],
 "metadata": {
  "kernelspec": {
   "display_name": "R",
   "language": "R",
   "name": "ir"
  },
  "language_info": {
   "codemirror_mode": "r",
   "file_extension": ".r",
   "mimetype": "text/x-r-source",
   "name": "R",
   "pygments_lexer": "r",
   "version": "3.4.2"
  }
 },
 "nbformat": 4,
 "nbformat_minor": 2
}
