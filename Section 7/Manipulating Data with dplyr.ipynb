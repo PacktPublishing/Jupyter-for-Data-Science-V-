{
 "cells": [
  {
   "cell_type": "code",
   "execution_count": 1,
   "metadata": {},
   "outputs": [
    {
     "data": {
      "text/html": [
       "<table>\n",
       "<thead><tr><th scope=col>X</th><th scope=col>id</th><th scope=col>year</th><th scope=col>stint</th><th scope=col>team</th><th scope=col>lg</th><th scope=col>g</th><th scope=col>ab</th><th scope=col>r</th><th scope=col>h</th><th scope=col>...</th><th scope=col>rbi</th><th scope=col>sb</th><th scope=col>cs</th><th scope=col>bb</th><th scope=col>so</th><th scope=col>ibb</th><th scope=col>hbp</th><th scope=col>sh</th><th scope=col>sf</th><th scope=col>gidp</th></tr></thead>\n",
       "<tbody>\n",
       "\t<tr><td>  4      </td><td>ansonca01</td><td>1871     </td><td>1        </td><td>RC1      </td><td>         </td><td>25       </td><td>120      </td><td>29       </td><td>39       </td><td>...      </td><td>16       </td><td>6        </td><td>2        </td><td>2        </td><td>1        </td><td>NA       </td><td>NA       </td><td>NA       </td><td>NA       </td><td>NA       </td></tr>\n",
       "\t<tr><td> 44      </td><td>forceda01</td><td>1871     </td><td>1        </td><td>WS3      </td><td>         </td><td>32       </td><td>162      </td><td>45       </td><td>45       </td><td>...      </td><td>29       </td><td>8        </td><td>0        </td><td>4        </td><td>0        </td><td>NA       </td><td>NA       </td><td>NA       </td><td>NA       </td><td>NA       </td></tr>\n",
       "\t<tr><td> 68      </td><td>mathebo01</td><td>1871     </td><td>1        </td><td>FW1      </td><td>         </td><td>19       </td><td> 89      </td><td>15       </td><td>24       </td><td>...      </td><td>10       </td><td>2        </td><td>1        </td><td>2        </td><td>0        </td><td>NA       </td><td>NA       </td><td>NA       </td><td>NA       </td><td>NA       </td></tr>\n",
       "\t<tr><td> 99      </td><td>startjo01</td><td>1871     </td><td>1        </td><td>NY2      </td><td>         </td><td>33       </td><td>161      </td><td>35       </td><td>58       </td><td>...      </td><td>34       </td><td>4        </td><td>2        </td><td>3        </td><td>0        </td><td>NA       </td><td>NA       </td><td>NA       </td><td>NA       </td><td>NA       </td></tr>\n",
       "\t<tr><td>102      </td><td>suttoez01</td><td>1871     </td><td>1        </td><td>CL1      </td><td>         </td><td>29       </td><td>128      </td><td>35       </td><td>45       </td><td>...      </td><td>23       </td><td>3        </td><td>1        </td><td>1        </td><td>0        </td><td>NA       </td><td>NA       </td><td>NA       </td><td>NA       </td><td>NA       </td></tr>\n",
       "\t<tr><td>106      </td><td>whitede01</td><td>1871     </td><td>1        </td><td>CL1      </td><td>         </td><td>29       </td><td>146      </td><td>40       </td><td>47       </td><td>...      </td><td>21       </td><td>2        </td><td>2        </td><td>4        </td><td>1        </td><td>NA       </td><td>NA       </td><td>NA       </td><td>NA       </td><td>NA       </td></tr>\n",
       "</tbody>\n",
       "</table>\n"
      ],
      "text/latex": [
       "\\begin{tabular}{r|lllllllllllllllllllllll}\n",
       " X & id & year & stint & team & lg & g & ab & r & h & ... & rbi & sb & cs & bb & so & ibb & hbp & sh & sf & gidp\\\\\n",
       "\\hline\n",
       "\t   4       & ansonca01 & 1871      & 1         & RC1       &           & 25        & 120       & 29        & 39        & ...       & 16        & 6         & 2         & 2         & 1         & NA        & NA        & NA        & NA        & NA       \\\\\n",
       "\t  44       & forceda01 & 1871      & 1         & WS3       &           & 32        & 162       & 45        & 45        & ...       & 29        & 8         & 0         & 4         & 0         & NA        & NA        & NA        & NA        & NA       \\\\\n",
       "\t  68       & mathebo01 & 1871      & 1         & FW1       &           & 19        &  89       & 15        & 24        & ...       & 10        & 2         & 1         & 2         & 0         & NA        & NA        & NA        & NA        & NA       \\\\\n",
       "\t  99       & startjo01 & 1871      & 1         & NY2       &           & 33        & 161       & 35        & 58        & ...       & 34        & 4         & 2         & 3         & 0         & NA        & NA        & NA        & NA        & NA       \\\\\n",
       "\t 102       & suttoez01 & 1871      & 1         & CL1       &           & 29        & 128       & 35        & 45        & ...       & 23        & 3         & 1         & 1         & 0         & NA        & NA        & NA        & NA        & NA       \\\\\n",
       "\t 106       & whitede01 & 1871      & 1         & CL1       &           & 29        & 146       & 40        & 47        & ...       & 21        & 2         & 2         & 4         & 1         & NA        & NA        & NA        & NA        & NA       \\\\\n",
       "\\end{tabular}\n"
      ],
      "text/markdown": [
       "\n",
       "X | id | year | stint | team | lg | g | ab | r | h | ... | rbi | sb | cs | bb | so | ibb | hbp | sh | sf | gidp | \n",
       "|---|---|---|---|---|---|\n",
       "|   4       | ansonca01 | 1871      | 1         | RC1       |           | 25        | 120       | 29        | 39        | ...       | 16        | 6         | 2         | 2         | 1         | NA        | NA        | NA        | NA        | NA        | \n",
       "|  44       | forceda01 | 1871      | 1         | WS3       |           | 32        | 162       | 45        | 45        | ...       | 29        | 8         | 0         | 4         | 0         | NA        | NA        | NA        | NA        | NA        | \n",
       "|  68       | mathebo01 | 1871      | 1         | FW1       |           | 19        |  89       | 15        | 24        | ...       | 10        | 2         | 1         | 2         | 0         | NA        | NA        | NA        | NA        | NA        | \n",
       "|  99       | startjo01 | 1871      | 1         | NY2       |           | 33        | 161       | 35        | 58        | ...       | 34        | 4         | 2         | 3         | 0         | NA        | NA        | NA        | NA        | NA        | \n",
       "| 102       | suttoez01 | 1871      | 1         | CL1       |           | 29        | 128       | 35        | 45        | ...       | 23        | 3         | 1         | 1         | 0         | NA        | NA        | NA        | NA        | NA        | \n",
       "| 106       | whitede01 | 1871      | 1         | CL1       |           | 29        | 146       | 40        | 47        | ...       | 21        | 2         | 2         | 4         | 1         | NA        | NA        | NA        | NA        | NA        | \n",
       "\n",
       "\n"
      ],
      "text/plain": [
       "  X   id        year stint team lg g  ab  r  h  ... rbi sb cs bb so ibb hbp sh\n",
       "1   4 ansonca01 1871 1     RC1     25 120 29 39 ... 16  6  2  2  1  NA  NA  NA\n",
       "2  44 forceda01 1871 1     WS3     32 162 45 45 ... 29  8  0  4  0  NA  NA  NA\n",
       "3  68 mathebo01 1871 1     FW1     19  89 15 24 ... 10  2  1  2  0  NA  NA  NA\n",
       "4  99 startjo01 1871 1     NY2     33 161 35 58 ... 34  4  2  3  0  NA  NA  NA\n",
       "5 102 suttoez01 1871 1     CL1     29 128 35 45 ... 23  3  1  1  0  NA  NA  NA\n",
       "6 106 whitede01 1871 1     CL1     29 146 40 47 ... 21  2  2  4  1  NA  NA  NA\n",
       "  sf gidp\n",
       "1 NA NA  \n",
       "2 NA NA  \n",
       "3 NA NA  \n",
       "4 NA NA  \n",
       "5 NA NA  \n",
       "6 NA NA  "
      ]
     },
     "metadata": {},
     "output_type": "display_data"
    }
   ],
   "source": [
    "players <- read.csv(file=\"baseball.csv\", header=TRUE, sep=\",\")\n",
    "head(players)"
   ]
  },
  {
   "cell_type": "code",
   "execution_count": 2,
   "metadata": {},
   "outputs": [
    {
     "name": "stderr",
     "output_type": "stream",
     "text": [
      "Warning message:\n",
      "\"package 'dplyr' was built under R version 3.4.3\"\n",
      "Attaching package: 'dplyr'\n",
      "\n",
      "The following objects are masked from 'package:stats':\n",
      "\n",
      "    filter, lag\n",
      "\n",
      "The following objects are masked from 'package:base':\n",
      "\n",
      "    intersect, setdiff, setequal, union\n",
      "\n"
     ]
    }
   ],
   "source": [
    "library(dplyr)"
   ]
  },
  {
   "cell_type": "code",
   "execution_count": 3,
   "metadata": {},
   "outputs": [
    {
     "data": {
      "text/html": [
       "<table>\n",
       "<thead><tr><th scope=col>X</th><th scope=col>id</th><th scope=col>year</th><th scope=col>stint</th><th scope=col>team</th><th scope=col>lg</th><th scope=col>g</th><th scope=col>ab</th><th scope=col>r</th><th scope=col>h</th><th scope=col>...</th><th scope=col>rbi</th><th scope=col>sb</th><th scope=col>cs</th><th scope=col>bb</th><th scope=col>so</th><th scope=col>ibb</th><th scope=col>hbp</th><th scope=col>sh</th><th scope=col>sf</th><th scope=col>gidp</th></tr></thead>\n",
       "<tbody>\n",
       "\t<tr><td>  4      </td><td>ansonca01</td><td>1871     </td><td>1        </td><td>RC1      </td><td>         </td><td>25       </td><td>120      </td><td>29       </td><td> 39      </td><td>...      </td><td>16       </td><td>6        </td><td>2        </td><td> 2       </td><td>1        </td><td>NA       </td><td>NA       </td><td>NA       </td><td>NA       </td><td>NA       </td></tr>\n",
       "\t<tr><td> 44      </td><td>forceda01</td><td>1871     </td><td>1        </td><td>WS3      </td><td>         </td><td>32       </td><td>162      </td><td>45       </td><td> 45      </td><td>...      </td><td>29       </td><td>8        </td><td>0        </td><td> 4       </td><td>0        </td><td>NA       </td><td>NA       </td><td>NA       </td><td>NA       </td><td>NA       </td></tr>\n",
       "\t<tr><td> 68      </td><td>mathebo01</td><td>1871     </td><td>1        </td><td>FW1      </td><td>         </td><td>19       </td><td> 89      </td><td>15       </td><td> 24      </td><td>...      </td><td>10       </td><td>2        </td><td>1        </td><td> 2       </td><td>0        </td><td>NA       </td><td>NA       </td><td>NA       </td><td>NA       </td><td>NA       </td></tr>\n",
       "\t<tr><td> 99      </td><td>startjo01</td><td>1871     </td><td>1        </td><td>NY2      </td><td>         </td><td>33       </td><td>161      </td><td>35       </td><td> 58      </td><td>...      </td><td>34       </td><td>4        </td><td>2        </td><td> 3       </td><td>0        </td><td>NA       </td><td>NA       </td><td>NA       </td><td>NA       </td><td>NA       </td></tr>\n",
       "\t<tr><td>102      </td><td>suttoez01</td><td>1871     </td><td>1        </td><td>CL1      </td><td>         </td><td>29       </td><td>128      </td><td>35       </td><td> 45      </td><td>...      </td><td>23       </td><td>3        </td><td>1        </td><td> 1       </td><td>0        </td><td>NA       </td><td>NA       </td><td>NA       </td><td>NA       </td><td>NA       </td></tr>\n",
       "\t<tr><td>106      </td><td>whitede01</td><td>1871     </td><td>1        </td><td>CL1      </td><td>         </td><td>29       </td><td>146      </td><td>40       </td><td> 47      </td><td>...      </td><td>21       </td><td>2        </td><td>2        </td><td> 4       </td><td>1        </td><td>NA       </td><td>NA       </td><td>NA       </td><td>NA       </td><td>NA       </td></tr>\n",
       "\t<tr><td>113      </td><td>yorkto01 </td><td>1871     </td><td>1        </td><td>TRO      </td><td>         </td><td>29       </td><td>145      </td><td>36       </td><td> 37      </td><td>...      </td><td>23       </td><td>2        </td><td>2        </td><td> 9       </td><td>1        </td><td>NA       </td><td>NA       </td><td>NA       </td><td>NA       </td><td>NA       </td></tr>\n",
       "\t<tr><td>121      </td><td>ansonca01</td><td>1872     </td><td>1        </td><td>PH1      </td><td>         </td><td>46       </td><td>217      </td><td>60       </td><td> 90      </td><td>...      </td><td>50       </td><td>6        </td><td>6        </td><td>16       </td><td>3        </td><td>NA       </td><td>NA       </td><td>NA       </td><td>NA       </td><td>NA       </td></tr>\n",
       "\t<tr><td>143      </td><td>burdoja01</td><td>1872     </td><td>1        </td><td>BR2      </td><td>         </td><td>37       </td><td>174      </td><td>26       </td><td> 46      </td><td>...      </td><td>15       </td><td>0        </td><td>1        </td><td> 1       </td><td>1        </td><td>NA       </td><td>NA       </td><td>NA       </td><td>NA       </td><td>NA       </td></tr>\n",
       "\t<tr><td>167      </td><td>forceda01</td><td>1872     </td><td>1        </td><td>TRO      </td><td>         </td><td>25       </td><td>130      </td><td>40       </td><td> 53      </td><td>...      </td><td>16       </td><td>2        </td><td>2        </td><td> 1       </td><td>0        </td><td>NA       </td><td>NA       </td><td>NA       </td><td>NA       </td><td>NA       </td></tr>\n",
       "\t<tr><td>168      </td><td>forceda01</td><td>1872     </td><td>2        </td><td>BL1      </td><td>         </td><td>19       </td><td> 95      </td><td>29       </td><td> 41      </td><td>...      </td><td>13       </td><td>3        </td><td>0        </td><td> 1       </td><td>0        </td><td>NA       </td><td>NA       </td><td>NA       </td><td>NA       </td><td>NA       </td></tr>\n",
       "\t<tr><td>186      </td><td>hinespa01</td><td>1872     </td><td>1        </td><td>WS4      </td><td>         </td><td>11       </td><td> 49      </td><td> 9       </td><td> 12      </td><td>...      </td><td> 5       </td><td>0        </td><td>0        </td><td> 0       </td><td>0        </td><td>NA       </td><td>NA       </td><td>NA       </td><td>NA       </td><td>NA       </td></tr>\n",
       "\t<tr><td>209      </td><td>mathebo01</td><td>1872     </td><td>1        </td><td>BL1      </td><td>         </td><td>50       </td><td>223      </td><td>36       </td><td> 50      </td><td>...      </td><td>21       </td><td>1        </td><td>1        </td><td> 3       </td><td>2        </td><td>NA       </td><td>NA       </td><td>NA       </td><td>NA       </td><td>NA       </td></tr>\n",
       "\t<tr><td>226      </td><td>nelsoca01</td><td>1872     </td><td>1        </td><td>TRO      </td><td>         </td><td> 4       </td><td> 20      </td><td> 2       </td><td>  7      </td><td>...      </td><td> 4       </td><td>0        </td><td>0        </td><td> 0       </td><td>2        </td><td>NA       </td><td>NA       </td><td>NA       </td><td>NA       </td><td>NA       </td></tr>\n",
       "\t<tr><td>227      </td><td>nelsoca01</td><td>1872     </td><td>2        </td><td>BR1      </td><td>         </td><td>18       </td><td> 76      </td><td>12       </td><td> 19      </td><td>...      </td><td> 8       </td><td>1        </td><td>0        </td><td> 2       </td><td>2        </td><td>NA       </td><td>NA       </td><td>NA       </td><td>NA       </td><td>NA       </td></tr>\n",
       "\t<tr><td>229      </td><td>orourji01</td><td>1872     </td><td>1        </td><td>MID      </td><td>         </td><td>23       </td><td>101      </td><td>25       </td><td> 31      </td><td>...      </td><td>12       </td><td>1        </td><td>0        </td><td> 2       </td><td>0        </td><td>NA       </td><td>NA       </td><td>NA       </td><td>NA       </td><td>NA       </td></tr>\n",
       "\t<tr><td>249      </td><td>startjo01</td><td>1872     </td><td>1        </td><td>NY2      </td><td>         </td><td>55       </td><td>282      </td><td>62       </td><td> 76      </td><td>...      </td><td>50       </td><td>3        </td><td>3        </td><td> 0       </td><td>0        </td><td>NA       </td><td>NA       </td><td>NA       </td><td>NA       </td><td>NA       </td></tr>\n",
       "\t<tr><td>252      </td><td>suttoez01</td><td>1872     </td><td>1        </td><td>CL1      </td><td>         </td><td>22       </td><td>107      </td><td>30       </td><td> 30      </td><td>...      </td><td>10       </td><td>1        </td><td>0        </td><td> 1       </td><td>1        </td><td>NA       </td><td>NA       </td><td>NA       </td><td>NA       </td><td>NA       </td></tr>\n",
       "\t<tr><td>259      </td><td>whitede01</td><td>1872     </td><td>1        </td><td>CL1      </td><td>         </td><td>22       </td><td>109      </td><td>21       </td><td> 37      </td><td>...      </td><td>22       </td><td>0        </td><td>0        </td><td> 4       </td><td>1        </td><td>NA       </td><td>NA       </td><td>NA       </td><td>NA       </td><td>NA       </td></tr>\n",
       "\t<tr><td>268      </td><td>yorkto01 </td><td>1872     </td><td>1        </td><td>BL1      </td><td>         </td><td>51       </td><td>248      </td><td>66       </td><td> 66      </td><td>...      </td><td>41       </td><td>2        </td><td>1        </td><td> 4       </td><td>1        </td><td>NA       </td><td>NA       </td><td>NA       </td><td>NA       </td><td>NA       </td></tr>\n",
       "\t<tr><td>276      </td><td>ansonca01</td><td>1873     </td><td>1        </td><td>PH1      </td><td>         </td><td>52       </td><td>254      </td><td>53       </td><td>101      </td><td>...      </td><td>36       </td><td>0        </td><td>2        </td><td> 5       </td><td>1        </td><td>NA       </td><td>NA       </td><td>NA       </td><td>NA       </td><td>NA       </td></tr>\n",
       "\t<tr><td>293      </td><td>burdoja01</td><td>1873     </td><td>1        </td><td>BR2      </td><td>         </td><td>55       </td><td>245      </td><td>56       </td><td> 62      </td><td>...      </td><td>36       </td><td>3        </td><td>1        </td><td> 7       </td><td>4        </td><td>NA       </td><td>NA       </td><td>NA       </td><td>NA       </td><td>NA       </td></tr>\n",
       "\t<tr><td>314      </td><td>forceda01</td><td>1873     </td><td>1        </td><td>BL1      </td><td>         </td><td>49       </td><td>234      </td><td>77       </td><td> 86      </td><td>...      </td><td>31       </td><td>1        </td><td>0        </td><td> 9       </td><td>0        </td><td>NA       </td><td>NA       </td><td>NA       </td><td>NA       </td><td>NA       </td></tr>\n",
       "\t<tr><td>318      </td><td>gerhajo01</td><td>1873     </td><td>1        </td><td>WS5      </td><td>         </td><td>13       </td><td> 56      </td><td> 6       </td><td> 12      </td><td>...      </td><td> 7       </td><td>0        </td><td>0        </td><td> 0       </td><td>5        </td><td>NA       </td><td>NA       </td><td>NA       </td><td>NA       </td><td>NA       </td></tr>\n",
       "\t<tr><td>327      </td><td>hinespa01</td><td>1873     </td><td>1        </td><td>WS5      </td><td>         </td><td>39       </td><td>181      </td><td>33       </td><td> 60      </td><td>...      </td><td>29       </td><td>0        </td><td>1        </td><td> 1       </td><td>1        </td><td>NA       </td><td>NA       </td><td>NA       </td><td>NA       </td><td>NA       </td></tr>\n",
       "\t<tr><td>344      </td><td>mathebo01</td><td>1873     </td><td>1        </td><td>NY2      </td><td>         </td><td>52       </td><td>223      </td><td>40       </td><td> 43      </td><td>...      </td><td>13       </td><td>1        </td><td>1        </td><td>10       </td><td>3        </td><td>NA       </td><td>NA       </td><td>NA       </td><td>NA       </td><td>NA       </td></tr>\n",
       "\t<tr><td>353      </td><td>nelsoca01</td><td>1873     </td><td>1        </td><td>NY2      </td><td>         </td><td>36       </td><td>168      </td><td>28       </td><td> 55      </td><td>...      </td><td>22       </td><td>2        </td><td>0        </td><td> 1       </td><td>2        </td><td>NA       </td><td>NA       </td><td>NA       </td><td>NA       </td><td>NA       </td></tr>\n",
       "\t<tr><td>355      </td><td>orourji01</td><td>1873     </td><td>1        </td><td>BS1      </td><td>         </td><td>57       </td><td>280      </td><td>79       </td><td> 98      </td><td>...      </td><td>48       </td><td>4        </td><td>2        </td><td>14       </td><td>1        </td><td>NA       </td><td>NA       </td><td>NA       </td><td>NA       </td><td>NA       </td></tr>\n",
       "\t<tr><td>375      </td><td>snydepo01</td><td>1873     </td><td>1        </td><td>WS5      </td><td>         </td><td>28       </td><td>108      </td><td>16       </td><td> 21      </td><td>...      </td><td> 4       </td><td>0        </td><td>1        </td><td> 3       </td><td>3        </td><td>NA       </td><td>NA       </td><td>NA       </td><td>NA       </td><td>NA       </td></tr>\n",
       "\t<tr><td>377      </td><td>startjo01</td><td>1873     </td><td>1        </td><td>NY2      </td><td>         </td><td>53       </td><td>251      </td><td>42       </td><td> 67      </td><td>...      </td><td>28       </td><td>1        </td><td>0        </td><td> 4       </td><td>0        </td><td>NA       </td><td>NA       </td><td>NA       </td><td>NA       </td><td>NA       </td></tr>\n",
       "\t<tr><td>...</td><td>...</td><td>...</td><td>...</td><td>...</td><td>...</td><td>...</td><td>...</td><td>...</td><td>...</td><td>   </td><td>...</td><td>...</td><td>...</td><td>...</td><td>...</td><td>...</td><td>...</td><td>...</td><td>...</td><td>...</td></tr>\n",
       "\t<tr><td>89460    </td><td>guarded01</td><td>2007     </td><td>1        </td><td>CIN      </td><td>NL       </td><td> 15      </td><td>  0      </td><td> 0       </td><td>  0      </td><td>...      </td><td> 0       </td><td> 0       </td><td>0        </td><td>  0      </td><td>  0      </td><td> 0       </td><td> 0       </td><td> 0       </td><td>0        </td><td> 0       </td></tr>\n",
       "\t<tr><td>89462    </td><td>griffke02</td><td>2007     </td><td>1        </td><td>CIN      </td><td>NL       </td><td>144      </td><td>528      </td><td>78       </td><td>146      </td><td>...      </td><td>93       </td><td> 6       </td><td>1        </td><td> 85      </td><td> 99      </td><td>14       </td><td> 1       </td><td> 0       </td><td>9        </td><td>14       </td></tr>\n",
       "\t<tr><td>89463    </td><td>greensh01</td><td>2007     </td><td>1        </td><td>NYN      </td><td>NL       </td><td>130      </td><td>446      </td><td>62       </td><td>130      </td><td>...      </td><td>46       </td><td>11       </td><td>1        </td><td> 37      </td><td> 62      </td><td> 4       </td><td> 5       </td><td> 1       </td><td>1        </td><td>14       </td></tr>\n",
       "\t<tr><td>89464    </td><td>graffto01</td><td>2007     </td><td>1        </td><td>MIL      </td><td>NL       </td><td> 86      </td><td>231      </td><td>34       </td><td> 55      </td><td>...      </td><td>30       </td><td> 0       </td><td>1        </td><td> 24      </td><td> 44      </td><td> 6       </td><td> 3       </td><td> 0       </td><td>2        </td><td> 7       </td></tr>\n",
       "\t<tr><td>89465    </td><td>gordoto01</td><td>2007     </td><td>1        </td><td>PHI      </td><td>NL       </td><td> 44      </td><td>  0      </td><td> 0       </td><td>  0      </td><td>...      </td><td> 0       </td><td> 0       </td><td>0        </td><td>  0      </td><td>  0      </td><td> 0       </td><td> 0       </td><td> 0       </td><td>0        </td><td> 0       </td></tr>\n",
       "\t<tr><td>89466    </td><td>gonzalu01</td><td>2007     </td><td>1        </td><td>LAN      </td><td>NL       </td><td>139      </td><td>464      </td><td>70       </td><td>129      </td><td>...      </td><td>68       </td><td> 6       </td><td>2        </td><td> 56      </td><td> 56      </td><td> 4       </td><td> 4       </td><td> 0       </td><td>2        </td><td>11       </td></tr>\n",
       "\t<tr><td>89467    </td><td>gomezch02</td><td>2007     </td><td>2        </td><td>CLE      </td><td>AL       </td><td> 19      </td><td> 53      </td><td> 4       </td><td> 15      </td><td>...      </td><td> 5       </td><td> 0       </td><td>0        </td><td>  0      </td><td>  6      </td><td> 0       </td><td> 0       </td><td> 1       </td><td>1        </td><td> 1       </td></tr>\n",
       "\t<tr><td>89468    </td><td>gomezch02</td><td>2007     </td><td>1        </td><td>BAL      </td><td>AL       </td><td> 73      </td><td>169      </td><td>17       </td><td> 51      </td><td>...      </td><td>16       </td><td> 1       </td><td>2        </td><td> 10      </td><td> 20      </td><td> 1       </td><td> 0       </td><td> 5       </td><td>1        </td><td> 5       </td></tr>\n",
       "\t<tr><td>89469    </td><td>glavito02</td><td>2007     </td><td>1        </td><td>NYN      </td><td>NL       </td><td> 33      </td><td> 56      </td><td> 3       </td><td> 12      </td><td>...      </td><td> 4       </td><td> 0       </td><td>0        </td><td>  6      </td><td>  5      </td><td> 0       </td><td> 0       </td><td>12       </td><td>1        </td><td> 0       </td></tr>\n",
       "\t<tr><td>89473    </td><td>floydcl01</td><td>2007     </td><td>1        </td><td>CHN      </td><td>NL       </td><td>108      </td><td>282      </td><td>40       </td><td> 80      </td><td>...      </td><td>45       </td><td> 0       </td><td>0        </td><td> 35      </td><td> 47      </td><td> 5       </td><td> 5       </td><td> 0       </td><td>0        </td><td> 6       </td></tr>\n",
       "\t<tr><td>89474    </td><td>finlest01</td><td>2007     </td><td>1        </td><td>COL      </td><td>NL       </td><td> 43      </td><td> 94      </td><td> 9       </td><td> 17      </td><td>...      </td><td> 2       </td><td> 0       </td><td>0        </td><td>  8      </td><td>  4      </td><td> 1       </td><td> 0       </td><td> 0       </td><td>0        </td><td> 2       </td></tr>\n",
       "\t<tr><td>89480    </td><td>embreal01</td><td>2007     </td><td>1        </td><td>OAK      </td><td>AL       </td><td>  4      </td><td>  0      </td><td> 0       </td><td>  0      </td><td>...      </td><td> 0       </td><td> 0       </td><td>0        </td><td>  0      </td><td>  0      </td><td> 0       </td><td> 0       </td><td> 0       </td><td>0        </td><td> 0       </td></tr>\n",
       "\t<tr><td>89481    </td><td>edmonji01</td><td>2007     </td><td>1        </td><td>SLN      </td><td>NL       </td><td>117      </td><td>365      </td><td>39       </td><td> 92      </td><td>...      </td><td>53       </td><td> 0       </td><td>2        </td><td> 41      </td><td> 75      </td><td> 2       </td><td> 0       </td><td> 2       </td><td>3        </td><td> 9       </td></tr>\n",
       "\t<tr><td>89482    </td><td>easleda01</td><td>2007     </td><td>1        </td><td>NYN      </td><td>NL       </td><td> 76      </td><td>193      </td><td>24       </td><td> 54      </td><td>...      </td><td>26       </td><td> 0       </td><td>1        </td><td> 19      </td><td> 35      </td><td> 1       </td><td> 5       </td><td> 0       </td><td>1        </td><td> 2       </td></tr>\n",
       "\t<tr><td>89489    </td><td>delgaca01</td><td>2007     </td><td>1        </td><td>NYN      </td><td>NL       </td><td>139      </td><td>538      </td><td>71       </td><td>139      </td><td>...      </td><td>87       </td><td> 4       </td><td>0        </td><td> 52      </td><td>118      </td><td> 8       </td><td>11       </td><td> 0       </td><td>6        </td><td>12       </td></tr>\n",
       "\t<tr><td>89493    </td><td>cormirh01</td><td>2007     </td><td>1        </td><td>CIN      </td><td>NL       </td><td>  6      </td><td>  0      </td><td> 0       </td><td>  0      </td><td>...      </td><td> 0       </td><td> 0       </td><td>0        </td><td>  0      </td><td>  0      </td><td> 0       </td><td> 0       </td><td> 0       </td><td>0        </td><td> 0       </td></tr>\n",
       "\t<tr><td>89494    </td><td>coninje01</td><td>2007     </td><td>2        </td><td>NYN      </td><td>NL       </td><td> 21      </td><td> 41      </td><td> 2       </td><td>  8      </td><td>...      </td><td> 5       </td><td> 0       </td><td>0        </td><td>  7      </td><td>  8      </td><td> 2       </td><td> 0       </td><td> 1       </td><td>1        </td><td> 1       </td></tr>\n",
       "\t<tr><td>89495    </td><td>coninje01</td><td>2007     </td><td>1        </td><td>CIN      </td><td>NL       </td><td> 80      </td><td>215      </td><td>23       </td><td> 57      </td><td>...      </td><td>32       </td><td> 4       </td><td>0        </td><td> 20      </td><td> 28      </td><td> 0       </td><td> 0       </td><td> 1       </td><td>6        </td><td> 4       </td></tr>\n",
       "\t<tr><td>89497    </td><td>clemero02</td><td>2007     </td><td>1        </td><td>NYA      </td><td>AL       </td><td>  2      </td><td>  2      </td><td> 0       </td><td>  1      </td><td>...      </td><td> 0       </td><td> 0       </td><td>0        </td><td>  0      </td><td>  0      </td><td> 0       </td><td> 0       </td><td> 0       </td><td>0        </td><td> 0       </td></tr>\n",
       "\t<tr><td>89498    </td><td>claytro01</td><td>2007     </td><td>2        </td><td>BOS      </td><td>AL       </td><td>  8      </td><td>  6      </td><td> 1       </td><td>  0      </td><td>...      </td><td> 0       </td><td> 0       </td><td>0        </td><td>  0      </td><td>  3      </td><td> 0       </td><td> 0       </td><td> 0       </td><td>0        </td><td> 2       </td></tr>\n",
       "\t<tr><td>89499    </td><td>claytro01</td><td>2007     </td><td>1        </td><td>TOR      </td><td>AL       </td><td> 69      </td><td>189      </td><td>23       </td><td> 48      </td><td>...      </td><td>12       </td><td> 2       </td><td>1        </td><td> 14      </td><td> 50      </td><td> 0       </td><td> 1       </td><td> 3       </td><td>3        </td><td> 8       </td></tr>\n",
       "\t<tr><td>89501    </td><td>cirilje01</td><td>2007     </td><td>2        </td><td>ARI      </td><td>NL       </td><td> 28      </td><td> 40      </td><td> 6       </td><td>  8      </td><td>...      </td><td> 6       </td><td> 0       </td><td>0        </td><td>  4      </td><td>  6      </td><td> 0       </td><td> 0       </td><td> 0       </td><td>0        </td><td> 1       </td></tr>\n",
       "\t<tr><td>89502    </td><td>cirilje01</td><td>2007     </td><td>1        </td><td>MIN      </td><td>AL       </td><td> 50      </td><td>153      </td><td>18       </td><td> 40      </td><td>...      </td><td>21       </td><td> 2       </td><td>0        </td><td> 15      </td><td> 13      </td><td> 0       </td><td> 1       </td><td> 3       </td><td>2        </td><td> 9       </td></tr>\n",
       "\t<tr><td>89521    </td><td>bondsba01</td><td>2007     </td><td>1        </td><td>SFN      </td><td>NL       </td><td>126      </td><td>340      </td><td>75       </td><td> 94      </td><td>...      </td><td>66       </td><td> 5       </td><td>0        </td><td>132      </td><td> 54      </td><td>43       </td><td> 3       </td><td> 0       </td><td>2        </td><td>13       </td></tr>\n",
       "\t<tr><td>89523    </td><td>biggicr01</td><td>2007     </td><td>1        </td><td>HOU      </td><td>NL       </td><td>141      </td><td>517      </td><td>68       </td><td>130      </td><td>...      </td><td>50       </td><td> 4       </td><td>3        </td><td> 23      </td><td>112      </td><td> 0       </td><td> 3       </td><td> 7       </td><td>5        </td><td> 5       </td></tr>\n",
       "\t<tr><td>89525    </td><td>benitar01</td><td>2007     </td><td>2        </td><td>FLO      </td><td>NL       </td><td> 34      </td><td>  0      </td><td> 0       </td><td>  0      </td><td>...      </td><td> 0       </td><td> 0       </td><td>0        </td><td>  0      </td><td>  0      </td><td> 0       </td><td> 0       </td><td> 0       </td><td>0        </td><td> 0       </td></tr>\n",
       "\t<tr><td>89526    </td><td>benitar01</td><td>2007     </td><td>1        </td><td>SFN      </td><td>NL       </td><td> 19      </td><td>  0      </td><td> 0       </td><td>  0      </td><td>...      </td><td> 0       </td><td> 0       </td><td>0        </td><td>  0      </td><td>  0      </td><td> 0       </td><td> 0       </td><td> 0       </td><td>0        </td><td> 0       </td></tr>\n",
       "\t<tr><td>89530    </td><td>ausmubr01</td><td>2007     </td><td>1        </td><td>HOU      </td><td>NL       </td><td>117      </td><td>349      </td><td>38       </td><td> 82      </td><td>...      </td><td>25       </td><td> 6       </td><td>1        </td><td> 37      </td><td> 74      </td><td> 3       </td><td> 6       </td><td> 4       </td><td>1        </td><td>11       </td></tr>\n",
       "\t<tr><td>89533    </td><td>aloumo01 </td><td>2007     </td><td>1        </td><td>NYN      </td><td>NL       </td><td> 87      </td><td>328      </td><td>51       </td><td>112      </td><td>...      </td><td>49       </td><td> 3       </td><td>0        </td><td> 27      </td><td> 30      </td><td> 5       </td><td> 2       </td><td> 0       </td><td>3        </td><td>13       </td></tr>\n",
       "\t<tr><td>89534    </td><td>alomasa02</td><td>2007     </td><td>1        </td><td>NYN      </td><td>NL       </td><td>  8      </td><td> 22      </td><td> 1       </td><td>  3      </td><td>...      </td><td> 0       </td><td> 0       </td><td>0        </td><td>  0      </td><td>  3      </td><td> 0       </td><td> 0       </td><td> 0       </td><td>0        </td><td> 0       </td></tr>\n",
       "</tbody>\n",
       "</table>\n"
      ],
      "text/latex": [
       "\\begin{tabular}{r|lllllllllllllllllllllll}\n",
       " X & id & year & stint & team & lg & g & ab & r & h & ... & rbi & sb & cs & bb & so & ibb & hbp & sh & sf & gidp\\\\\n",
       "\\hline\n",
       "\t   4       & ansonca01 & 1871      & 1         & RC1       &           & 25        & 120       & 29        &  39       & ...       & 16        & 6         & 2         &  2        & 1         & NA        & NA        & NA        & NA        & NA       \\\\\n",
       "\t  44       & forceda01 & 1871      & 1         & WS3       &           & 32        & 162       & 45        &  45       & ...       & 29        & 8         & 0         &  4        & 0         & NA        & NA        & NA        & NA        & NA       \\\\\n",
       "\t  68       & mathebo01 & 1871      & 1         & FW1       &           & 19        &  89       & 15        &  24       & ...       & 10        & 2         & 1         &  2        & 0         & NA        & NA        & NA        & NA        & NA       \\\\\n",
       "\t  99       & startjo01 & 1871      & 1         & NY2       &           & 33        & 161       & 35        &  58       & ...       & 34        & 4         & 2         &  3        & 0         & NA        & NA        & NA        & NA        & NA       \\\\\n",
       "\t 102       & suttoez01 & 1871      & 1         & CL1       &           & 29        & 128       & 35        &  45       & ...       & 23        & 3         & 1         &  1        & 0         & NA        & NA        & NA        & NA        & NA       \\\\\n",
       "\t 106       & whitede01 & 1871      & 1         & CL1       &           & 29        & 146       & 40        &  47       & ...       & 21        & 2         & 2         &  4        & 1         & NA        & NA        & NA        & NA        & NA       \\\\\n",
       "\t 113       & yorkto01  & 1871      & 1         & TRO       &           & 29        & 145       & 36        &  37       & ...       & 23        & 2         & 2         &  9        & 1         & NA        & NA        & NA        & NA        & NA       \\\\\n",
       "\t 121       & ansonca01 & 1872      & 1         & PH1       &           & 46        & 217       & 60        &  90       & ...       & 50        & 6         & 6         & 16        & 3         & NA        & NA        & NA        & NA        & NA       \\\\\n",
       "\t 143       & burdoja01 & 1872      & 1         & BR2       &           & 37        & 174       & 26        &  46       & ...       & 15        & 0         & 1         &  1        & 1         & NA        & NA        & NA        & NA        & NA       \\\\\n",
       "\t 167       & forceda01 & 1872      & 1         & TRO       &           & 25        & 130       & 40        &  53       & ...       & 16        & 2         & 2         &  1        & 0         & NA        & NA        & NA        & NA        & NA       \\\\\n",
       "\t 168       & forceda01 & 1872      & 2         & BL1       &           & 19        &  95       & 29        &  41       & ...       & 13        & 3         & 0         &  1        & 0         & NA        & NA        & NA        & NA        & NA       \\\\\n",
       "\t 186       & hinespa01 & 1872      & 1         & WS4       &           & 11        &  49       &  9        &  12       & ...       &  5        & 0         & 0         &  0        & 0         & NA        & NA        & NA        & NA        & NA       \\\\\n",
       "\t 209       & mathebo01 & 1872      & 1         & BL1       &           & 50        & 223       & 36        &  50       & ...       & 21        & 1         & 1         &  3        & 2         & NA        & NA        & NA        & NA        & NA       \\\\\n",
       "\t 226       & nelsoca01 & 1872      & 1         & TRO       &           &  4        &  20       &  2        &   7       & ...       &  4        & 0         & 0         &  0        & 2         & NA        & NA        & NA        & NA        & NA       \\\\\n",
       "\t 227       & nelsoca01 & 1872      & 2         & BR1       &           & 18        &  76       & 12        &  19       & ...       &  8        & 1         & 0         &  2        & 2         & NA        & NA        & NA        & NA        & NA       \\\\\n",
       "\t 229       & orourji01 & 1872      & 1         & MID       &           & 23        & 101       & 25        &  31       & ...       & 12        & 1         & 0         &  2        & 0         & NA        & NA        & NA        & NA        & NA       \\\\\n",
       "\t 249       & startjo01 & 1872      & 1         & NY2       &           & 55        & 282       & 62        &  76       & ...       & 50        & 3         & 3         &  0        & 0         & NA        & NA        & NA        & NA        & NA       \\\\\n",
       "\t 252       & suttoez01 & 1872      & 1         & CL1       &           & 22        & 107       & 30        &  30       & ...       & 10        & 1         & 0         &  1        & 1         & NA        & NA        & NA        & NA        & NA       \\\\\n",
       "\t 259       & whitede01 & 1872      & 1         & CL1       &           & 22        & 109       & 21        &  37       & ...       & 22        & 0         & 0         &  4        & 1         & NA        & NA        & NA        & NA        & NA       \\\\\n",
       "\t 268       & yorkto01  & 1872      & 1         & BL1       &           & 51        & 248       & 66        &  66       & ...       & 41        & 2         & 1         &  4        & 1         & NA        & NA        & NA        & NA        & NA       \\\\\n",
       "\t 276       & ansonca01 & 1873      & 1         & PH1       &           & 52        & 254       & 53        & 101       & ...       & 36        & 0         & 2         &  5        & 1         & NA        & NA        & NA        & NA        & NA       \\\\\n",
       "\t 293       & burdoja01 & 1873      & 1         & BR2       &           & 55        & 245       & 56        &  62       & ...       & 36        & 3         & 1         &  7        & 4         & NA        & NA        & NA        & NA        & NA       \\\\\n",
       "\t 314       & forceda01 & 1873      & 1         & BL1       &           & 49        & 234       & 77        &  86       & ...       & 31        & 1         & 0         &  9        & 0         & NA        & NA        & NA        & NA        & NA       \\\\\n",
       "\t 318       & gerhajo01 & 1873      & 1         & WS5       &           & 13        &  56       &  6        &  12       & ...       &  7        & 0         & 0         &  0        & 5         & NA        & NA        & NA        & NA        & NA       \\\\\n",
       "\t 327       & hinespa01 & 1873      & 1         & WS5       &           & 39        & 181       & 33        &  60       & ...       & 29        & 0         & 1         &  1        & 1         & NA        & NA        & NA        & NA        & NA       \\\\\n",
       "\t 344       & mathebo01 & 1873      & 1         & NY2       &           & 52        & 223       & 40        &  43       & ...       & 13        & 1         & 1         & 10        & 3         & NA        & NA        & NA        & NA        & NA       \\\\\n",
       "\t 353       & nelsoca01 & 1873      & 1         & NY2       &           & 36        & 168       & 28        &  55       & ...       & 22        & 2         & 0         &  1        & 2         & NA        & NA        & NA        & NA        & NA       \\\\\n",
       "\t 355       & orourji01 & 1873      & 1         & BS1       &           & 57        & 280       & 79        &  98       & ...       & 48        & 4         & 2         & 14        & 1         & NA        & NA        & NA        & NA        & NA       \\\\\n",
       "\t 375       & snydepo01 & 1873      & 1         & WS5       &           & 28        & 108       & 16        &  21       & ...       &  4        & 0         & 1         &  3        & 3         & NA        & NA        & NA        & NA        & NA       \\\\\n",
       "\t 377       & startjo01 & 1873      & 1         & NY2       &           & 53        & 251       & 42        &  67       & ...       & 28        & 1         & 0         &  4        & 0         & NA        & NA        & NA        & NA        & NA       \\\\\n",
       "\t ... & ... & ... & ... & ... & ... & ... & ... & ... & ... &     & ... & ... & ... & ... & ... & ... & ... & ... & ... & ...\\\\\n",
       "\t 89460     & guarded01 & 2007      & 1         & CIN       & NL        &  15       &   0       &  0        &   0       & ...       &  0        &  0        & 0         &   0       &   0       &  0        &  0        &  0        & 0         &  0       \\\\\n",
       "\t 89462     & griffke02 & 2007      & 1         & CIN       & NL        & 144       & 528       & 78        & 146       & ...       & 93        &  6        & 1         &  85       &  99       & 14        &  1        &  0        & 9         & 14       \\\\\n",
       "\t 89463     & greensh01 & 2007      & 1         & NYN       & NL        & 130       & 446       & 62        & 130       & ...       & 46        & 11        & 1         &  37       &  62       &  4        &  5        &  1        & 1         & 14       \\\\\n",
       "\t 89464     & graffto01 & 2007      & 1         & MIL       & NL        &  86       & 231       & 34        &  55       & ...       & 30        &  0        & 1         &  24       &  44       &  6        &  3        &  0        & 2         &  7       \\\\\n",
       "\t 89465     & gordoto01 & 2007      & 1         & PHI       & NL        &  44       &   0       &  0        &   0       & ...       &  0        &  0        & 0         &   0       &   0       &  0        &  0        &  0        & 0         &  0       \\\\\n",
       "\t 89466     & gonzalu01 & 2007      & 1         & LAN       & NL        & 139       & 464       & 70        & 129       & ...       & 68        &  6        & 2         &  56       &  56       &  4        &  4        &  0        & 2         & 11       \\\\\n",
       "\t 89467     & gomezch02 & 2007      & 2         & CLE       & AL        &  19       &  53       &  4        &  15       & ...       &  5        &  0        & 0         &   0       &   6       &  0        &  0        &  1        & 1         &  1       \\\\\n",
       "\t 89468     & gomezch02 & 2007      & 1         & BAL       & AL        &  73       & 169       & 17        &  51       & ...       & 16        &  1        & 2         &  10       &  20       &  1        &  0        &  5        & 1         &  5       \\\\\n",
       "\t 89469     & glavito02 & 2007      & 1         & NYN       & NL        &  33       &  56       &  3        &  12       & ...       &  4        &  0        & 0         &   6       &   5       &  0        &  0        & 12        & 1         &  0       \\\\\n",
       "\t 89473     & floydcl01 & 2007      & 1         & CHN       & NL        & 108       & 282       & 40        &  80       & ...       & 45        &  0        & 0         &  35       &  47       &  5        &  5        &  0        & 0         &  6       \\\\\n",
       "\t 89474     & finlest01 & 2007      & 1         & COL       & NL        &  43       &  94       &  9        &  17       & ...       &  2        &  0        & 0         &   8       &   4       &  1        &  0        &  0        & 0         &  2       \\\\\n",
       "\t 89480     & embreal01 & 2007      & 1         & OAK       & AL        &   4       &   0       &  0        &   0       & ...       &  0        &  0        & 0         &   0       &   0       &  0        &  0        &  0        & 0         &  0       \\\\\n",
       "\t 89481     & edmonji01 & 2007      & 1         & SLN       & NL        & 117       & 365       & 39        &  92       & ...       & 53        &  0        & 2         &  41       &  75       &  2        &  0        &  2        & 3         &  9       \\\\\n",
       "\t 89482     & easleda01 & 2007      & 1         & NYN       & NL        &  76       & 193       & 24        &  54       & ...       & 26        &  0        & 1         &  19       &  35       &  1        &  5        &  0        & 1         &  2       \\\\\n",
       "\t 89489     & delgaca01 & 2007      & 1         & NYN       & NL        & 139       & 538       & 71        & 139       & ...       & 87        &  4        & 0         &  52       & 118       &  8        & 11        &  0        & 6         & 12       \\\\\n",
       "\t 89493     & cormirh01 & 2007      & 1         & CIN       & NL        &   6       &   0       &  0        &   0       & ...       &  0        &  0        & 0         &   0       &   0       &  0        &  0        &  0        & 0         &  0       \\\\\n",
       "\t 89494     & coninje01 & 2007      & 2         & NYN       & NL        &  21       &  41       &  2        &   8       & ...       &  5        &  0        & 0         &   7       &   8       &  2        &  0        &  1        & 1         &  1       \\\\\n",
       "\t 89495     & coninje01 & 2007      & 1         & CIN       & NL        &  80       & 215       & 23        &  57       & ...       & 32        &  4        & 0         &  20       &  28       &  0        &  0        &  1        & 6         &  4       \\\\\n",
       "\t 89497     & clemero02 & 2007      & 1         & NYA       & AL        &   2       &   2       &  0        &   1       & ...       &  0        &  0        & 0         &   0       &   0       &  0        &  0        &  0        & 0         &  0       \\\\\n",
       "\t 89498     & claytro01 & 2007      & 2         & BOS       & AL        &   8       &   6       &  1        &   0       & ...       &  0        &  0        & 0         &   0       &   3       &  0        &  0        &  0        & 0         &  2       \\\\\n",
       "\t 89499     & claytro01 & 2007      & 1         & TOR       & AL        &  69       & 189       & 23        &  48       & ...       & 12        &  2        & 1         &  14       &  50       &  0        &  1        &  3        & 3         &  8       \\\\\n",
       "\t 89501     & cirilje01 & 2007      & 2         & ARI       & NL        &  28       &  40       &  6        &   8       & ...       &  6        &  0        & 0         &   4       &   6       &  0        &  0        &  0        & 0         &  1       \\\\\n",
       "\t 89502     & cirilje01 & 2007      & 1         & MIN       & AL        &  50       & 153       & 18        &  40       & ...       & 21        &  2        & 0         &  15       &  13       &  0        &  1        &  3        & 2         &  9       \\\\\n",
       "\t 89521     & bondsba01 & 2007      & 1         & SFN       & NL        & 126       & 340       & 75        &  94       & ...       & 66        &  5        & 0         & 132       &  54       & 43        &  3        &  0        & 2         & 13       \\\\\n",
       "\t 89523     & biggicr01 & 2007      & 1         & HOU       & NL        & 141       & 517       & 68        & 130       & ...       & 50        &  4        & 3         &  23       & 112       &  0        &  3        &  7        & 5         &  5       \\\\\n",
       "\t 89525     & benitar01 & 2007      & 2         & FLO       & NL        &  34       &   0       &  0        &   0       & ...       &  0        &  0        & 0         &   0       &   0       &  0        &  0        &  0        & 0         &  0       \\\\\n",
       "\t 89526     & benitar01 & 2007      & 1         & SFN       & NL        &  19       &   0       &  0        &   0       & ...       &  0        &  0        & 0         &   0       &   0       &  0        &  0        &  0        & 0         &  0       \\\\\n",
       "\t 89530     & ausmubr01 & 2007      & 1         & HOU       & NL        & 117       & 349       & 38        &  82       & ...       & 25        &  6        & 1         &  37       &  74       &  3        &  6        &  4        & 1         & 11       \\\\\n",
       "\t 89533     & aloumo01  & 2007      & 1         & NYN       & NL        &  87       & 328       & 51        & 112       & ...       & 49        &  3        & 0         &  27       &  30       &  5        &  2        &  0        & 3         & 13       \\\\\n",
       "\t 89534     & alomasa02 & 2007      & 1         & NYN       & NL        &   8       &  22       &  1        &   3       & ...       &  0        &  0        & 0         &   0       &   3       &  0        &  0        &  0        & 0         &  0       \\\\\n",
       "\\end{tabular}\n"
      ],
      "text/markdown": [
       "\n",
       "X | id | year | stint | team | lg | g | ab | r | h | ... | rbi | sb | cs | bb | so | ibb | hbp | sh | sf | gidp | \n",
       "|---|---|---|---|---|---|---|---|---|---|---|---|---|---|---|---|---|---|---|---|---|---|---|---|---|---|---|---|---|---|---|---|---|---|---|---|---|---|---|---|---|---|---|---|---|---|---|---|---|---|---|---|---|---|---|---|---|---|---|---|---|\n",
       "|   4       | ansonca01 | 1871      | 1         | RC1       |           | 25        | 120       | 29        |  39       | ...       | 16        | 6         | 2         |  2        | 1         | NA        | NA        | NA        | NA        | NA        | \n",
       "|  44       | forceda01 | 1871      | 1         | WS3       |           | 32        | 162       | 45        |  45       | ...       | 29        | 8         | 0         |  4        | 0         | NA        | NA        | NA        | NA        | NA        | \n",
       "|  68       | mathebo01 | 1871      | 1         | FW1       |           | 19        |  89       | 15        |  24       | ...       | 10        | 2         | 1         |  2        | 0         | NA        | NA        | NA        | NA        | NA        | \n",
       "|  99       | startjo01 | 1871      | 1         | NY2       |           | 33        | 161       | 35        |  58       | ...       | 34        | 4         | 2         |  3        | 0         | NA        | NA        | NA        | NA        | NA        | \n",
       "| 102       | suttoez01 | 1871      | 1         | CL1       |           | 29        | 128       | 35        |  45       | ...       | 23        | 3         | 1         |  1        | 0         | NA        | NA        | NA        | NA        | NA        | \n",
       "| 106       | whitede01 | 1871      | 1         | CL1       |           | 29        | 146       | 40        |  47       | ...       | 21        | 2         | 2         |  4        | 1         | NA        | NA        | NA        | NA        | NA        | \n",
       "| 113       | yorkto01  | 1871      | 1         | TRO       |           | 29        | 145       | 36        |  37       | ...       | 23        | 2         | 2         |  9        | 1         | NA        | NA        | NA        | NA        | NA        | \n",
       "| 121       | ansonca01 | 1872      | 1         | PH1       |           | 46        | 217       | 60        |  90       | ...       | 50        | 6         | 6         | 16        | 3         | NA        | NA        | NA        | NA        | NA        | \n",
       "| 143       | burdoja01 | 1872      | 1         | BR2       |           | 37        | 174       | 26        |  46       | ...       | 15        | 0         | 1         |  1        | 1         | NA        | NA        | NA        | NA        | NA        | \n",
       "| 167       | forceda01 | 1872      | 1         | TRO       |           | 25        | 130       | 40        |  53       | ...       | 16        | 2         | 2         |  1        | 0         | NA        | NA        | NA        | NA        | NA        | \n",
       "| 168       | forceda01 | 1872      | 2         | BL1       |           | 19        |  95       | 29        |  41       | ...       | 13        | 3         | 0         |  1        | 0         | NA        | NA        | NA        | NA        | NA        | \n",
       "| 186       | hinespa01 | 1872      | 1         | WS4       |           | 11        |  49       |  9        |  12       | ...       |  5        | 0         | 0         |  0        | 0         | NA        | NA        | NA        | NA        | NA        | \n",
       "| 209       | mathebo01 | 1872      | 1         | BL1       |           | 50        | 223       | 36        |  50       | ...       | 21        | 1         | 1         |  3        | 2         | NA        | NA        | NA        | NA        | NA        | \n",
       "| 226       | nelsoca01 | 1872      | 1         | TRO       |           |  4        |  20       |  2        |   7       | ...       |  4        | 0         | 0         |  0        | 2         | NA        | NA        | NA        | NA        | NA        | \n",
       "| 227       | nelsoca01 | 1872      | 2         | BR1       |           | 18        |  76       | 12        |  19       | ...       |  8        | 1         | 0         |  2        | 2         | NA        | NA        | NA        | NA        | NA        | \n",
       "| 229       | orourji01 | 1872      | 1         | MID       |           | 23        | 101       | 25        |  31       | ...       | 12        | 1         | 0         |  2        | 0         | NA        | NA        | NA        | NA        | NA        | \n",
       "| 249       | startjo01 | 1872      | 1         | NY2       |           | 55        | 282       | 62        |  76       | ...       | 50        | 3         | 3         |  0        | 0         | NA        | NA        | NA        | NA        | NA        | \n",
       "| 252       | suttoez01 | 1872      | 1         | CL1       |           | 22        | 107       | 30        |  30       | ...       | 10        | 1         | 0         |  1        | 1         | NA        | NA        | NA        | NA        | NA        | \n",
       "| 259       | whitede01 | 1872      | 1         | CL1       |           | 22        | 109       | 21        |  37       | ...       | 22        | 0         | 0         |  4        | 1         | NA        | NA        | NA        | NA        | NA        | \n",
       "| 268       | yorkto01  | 1872      | 1         | BL1       |           | 51        | 248       | 66        |  66       | ...       | 41        | 2         | 1         |  4        | 1         | NA        | NA        | NA        | NA        | NA        | \n",
       "| 276       | ansonca01 | 1873      | 1         | PH1       |           | 52        | 254       | 53        | 101       | ...       | 36        | 0         | 2         |  5        | 1         | NA        | NA        | NA        | NA        | NA        | \n",
       "| 293       | burdoja01 | 1873      | 1         | BR2       |           | 55        | 245       | 56        |  62       | ...       | 36        | 3         | 1         |  7        | 4         | NA        | NA        | NA        | NA        | NA        | \n",
       "| 314       | forceda01 | 1873      | 1         | BL1       |           | 49        | 234       | 77        |  86       | ...       | 31        | 1         | 0         |  9        | 0         | NA        | NA        | NA        | NA        | NA        | \n",
       "| 318       | gerhajo01 | 1873      | 1         | WS5       |           | 13        |  56       |  6        |  12       | ...       |  7        | 0         | 0         |  0        | 5         | NA        | NA        | NA        | NA        | NA        | \n",
       "| 327       | hinespa01 | 1873      | 1         | WS5       |           | 39        | 181       | 33        |  60       | ...       | 29        | 0         | 1         |  1        | 1         | NA        | NA        | NA        | NA        | NA        | \n",
       "| 344       | mathebo01 | 1873      | 1         | NY2       |           | 52        | 223       | 40        |  43       | ...       | 13        | 1         | 1         | 10        | 3         | NA        | NA        | NA        | NA        | NA        | \n",
       "| 353       | nelsoca01 | 1873      | 1         | NY2       |           | 36        | 168       | 28        |  55       | ...       | 22        | 2         | 0         |  1        | 2         | NA        | NA        | NA        | NA        | NA        | \n",
       "| 355       | orourji01 | 1873      | 1         | BS1       |           | 57        | 280       | 79        |  98       | ...       | 48        | 4         | 2         | 14        | 1         | NA        | NA        | NA        | NA        | NA        | \n",
       "| 375       | snydepo01 | 1873      | 1         | WS5       |           | 28        | 108       | 16        |  21       | ...       |  4        | 0         | 1         |  3        | 3         | NA        | NA        | NA        | NA        | NA        | \n",
       "| 377       | startjo01 | 1873      | 1         | NY2       |           | 53        | 251       | 42        |  67       | ...       | 28        | 1         | 0         |  4        | 0         | NA        | NA        | NA        | NA        | NA        | \n",
       "| ... | ... | ... | ... | ... | ... | ... | ... | ... | ... |     | ... | ... | ... | ... | ... | ... | ... | ... | ... | ... | \n",
       "| 89460     | guarded01 | 2007      | 1         | CIN       | NL        |  15       |   0       |  0        |   0       | ...       |  0        |  0        | 0         |   0       |   0       |  0        |  0        |  0        | 0         |  0        | \n",
       "| 89462     | griffke02 | 2007      | 1         | CIN       | NL        | 144       | 528       | 78        | 146       | ...       | 93        |  6        | 1         |  85       |  99       | 14        |  1        |  0        | 9         | 14        | \n",
       "| 89463     | greensh01 | 2007      | 1         | NYN       | NL        | 130       | 446       | 62        | 130       | ...       | 46        | 11        | 1         |  37       |  62       |  4        |  5        |  1        | 1         | 14        | \n",
       "| 89464     | graffto01 | 2007      | 1         | MIL       | NL        |  86       | 231       | 34        |  55       | ...       | 30        |  0        | 1         |  24       |  44       |  6        |  3        |  0        | 2         |  7        | \n",
       "| 89465     | gordoto01 | 2007      | 1         | PHI       | NL        |  44       |   0       |  0        |   0       | ...       |  0        |  0        | 0         |   0       |   0       |  0        |  0        |  0        | 0         |  0        | \n",
       "| 89466     | gonzalu01 | 2007      | 1         | LAN       | NL        | 139       | 464       | 70        | 129       | ...       | 68        |  6        | 2         |  56       |  56       |  4        |  4        |  0        | 2         | 11        | \n",
       "| 89467     | gomezch02 | 2007      | 2         | CLE       | AL        |  19       |  53       |  4        |  15       | ...       |  5        |  0        | 0         |   0       |   6       |  0        |  0        |  1        | 1         |  1        | \n",
       "| 89468     | gomezch02 | 2007      | 1         | BAL       | AL        |  73       | 169       | 17        |  51       | ...       | 16        |  1        | 2         |  10       |  20       |  1        |  0        |  5        | 1         |  5        | \n",
       "| 89469     | glavito02 | 2007      | 1         | NYN       | NL        |  33       |  56       |  3        |  12       | ...       |  4        |  0        | 0         |   6       |   5       |  0        |  0        | 12        | 1         |  0        | \n",
       "| 89473     | floydcl01 | 2007      | 1         | CHN       | NL        | 108       | 282       | 40        |  80       | ...       | 45        |  0        | 0         |  35       |  47       |  5        |  5        |  0        | 0         |  6        | \n",
       "| 89474     | finlest01 | 2007      | 1         | COL       | NL        |  43       |  94       |  9        |  17       | ...       |  2        |  0        | 0         |   8       |   4       |  1        |  0        |  0        | 0         |  2        | \n",
       "| 89480     | embreal01 | 2007      | 1         | OAK       | AL        |   4       |   0       |  0        |   0       | ...       |  0        |  0        | 0         |   0       |   0       |  0        |  0        |  0        | 0         |  0        | \n",
       "| 89481     | edmonji01 | 2007      | 1         | SLN       | NL        | 117       | 365       | 39        |  92       | ...       | 53        |  0        | 2         |  41       |  75       |  2        |  0        |  2        | 3         |  9        | \n",
       "| 89482     | easleda01 | 2007      | 1         | NYN       | NL        |  76       | 193       | 24        |  54       | ...       | 26        |  0        | 1         |  19       |  35       |  1        |  5        |  0        | 1         |  2        | \n",
       "| 89489     | delgaca01 | 2007      | 1         | NYN       | NL        | 139       | 538       | 71        | 139       | ...       | 87        |  4        | 0         |  52       | 118       |  8        | 11        |  0        | 6         | 12        | \n",
       "| 89493     | cormirh01 | 2007      | 1         | CIN       | NL        |   6       |   0       |  0        |   0       | ...       |  0        |  0        | 0         |   0       |   0       |  0        |  0        |  0        | 0         |  0        | \n",
       "| 89494     | coninje01 | 2007      | 2         | NYN       | NL        |  21       |  41       |  2        |   8       | ...       |  5        |  0        | 0         |   7       |   8       |  2        |  0        |  1        | 1         |  1        | \n",
       "| 89495     | coninje01 | 2007      | 1         | CIN       | NL        |  80       | 215       | 23        |  57       | ...       | 32        |  4        | 0         |  20       |  28       |  0        |  0        |  1        | 6         |  4        | \n",
       "| 89497     | clemero02 | 2007      | 1         | NYA       | AL        |   2       |   2       |  0        |   1       | ...       |  0        |  0        | 0         |   0       |   0       |  0        |  0        |  0        | 0         |  0        | \n",
       "| 89498     | claytro01 | 2007      | 2         | BOS       | AL        |   8       |   6       |  1        |   0       | ...       |  0        |  0        | 0         |   0       |   3       |  0        |  0        |  0        | 0         |  2        | \n",
       "| 89499     | claytro01 | 2007      | 1         | TOR       | AL        |  69       | 189       | 23        |  48       | ...       | 12        |  2        | 1         |  14       |  50       |  0        |  1        |  3        | 3         |  8        | \n",
       "| 89501     | cirilje01 | 2007      | 2         | ARI       | NL        |  28       |  40       |  6        |   8       | ...       |  6        |  0        | 0         |   4       |   6       |  0        |  0        |  0        | 0         |  1        | \n",
       "| 89502     | cirilje01 | 2007      | 1         | MIN       | AL        |  50       | 153       | 18        |  40       | ...       | 21        |  2        | 0         |  15       |  13       |  0        |  1        |  3        | 2         |  9        | \n",
       "| 89521     | bondsba01 | 2007      | 1         | SFN       | NL        | 126       | 340       | 75        |  94       | ...       | 66        |  5        | 0         | 132       |  54       | 43        |  3        |  0        | 2         | 13        | \n",
       "| 89523     | biggicr01 | 2007      | 1         | HOU       | NL        | 141       | 517       | 68        | 130       | ...       | 50        |  4        | 3         |  23       | 112       |  0        |  3        |  7        | 5         |  5        | \n",
       "| 89525     | benitar01 | 2007      | 2         | FLO       | NL        |  34       |   0       |  0        |   0       | ...       |  0        |  0        | 0         |   0       |   0       |  0        |  0        |  0        | 0         |  0        | \n",
       "| 89526     | benitar01 | 2007      | 1         | SFN       | NL        |  19       |   0       |  0        |   0       | ...       |  0        |  0        | 0         |   0       |   0       |  0        |  0        |  0        | 0         |  0        | \n",
       "| 89530     | ausmubr01 | 2007      | 1         | HOU       | NL        | 117       | 349       | 38        |  82       | ...       | 25        |  6        | 1         |  37       |  74       |  3        |  6        |  4        | 1         | 11        | \n",
       "| 89533     | aloumo01  | 2007      | 1         | NYN       | NL        |  87       | 328       | 51        | 112       | ...       | 49        |  3        | 0         |  27       |  30       |  5        |  2        |  0        | 3         | 13        | \n",
       "| 89534     | alomasa02 | 2007      | 1         | NYN       | NL        |   8       |  22       |  1        |   3       | ...       |  0        |  0        | 0         |   0       |   3       |  0        |  0        |  0        | 0         |  0        | \n",
       "\n",
       "\n"
      ],
      "text/plain": [
       "      X     id        year stint team lg  g   ab  r   h   ... rbi sb  cs  bb \n",
       "1       4   ansonca01 1871 1     RC1      25  120 29   39 ... 16  6   2    2 \n",
       "2      44   forceda01 1871 1     WS3      32  162 45   45 ... 29  8   0    4 \n",
       "3      68   mathebo01 1871 1     FW1      19   89 15   24 ... 10  2   1    2 \n",
       "4      99   startjo01 1871 1     NY2      33  161 35   58 ... 34  4   2    3 \n",
       "5     102   suttoez01 1871 1     CL1      29  128 35   45 ... 23  3   1    1 \n",
       "6     106   whitede01 1871 1     CL1      29  146 40   47 ... 21  2   2    4 \n",
       "7     113   yorkto01  1871 1     TRO      29  145 36   37 ... 23  2   2    9 \n",
       "8     121   ansonca01 1872 1     PH1      46  217 60   90 ... 50  6   6   16 \n",
       "9     143   burdoja01 1872 1     BR2      37  174 26   46 ... 15  0   1    1 \n",
       "10    167   forceda01 1872 1     TRO      25  130 40   53 ... 16  2   2    1 \n",
       "11    168   forceda01 1872 2     BL1      19   95 29   41 ... 13  3   0    1 \n",
       "12    186   hinespa01 1872 1     WS4      11   49  9   12 ...  5  0   0    0 \n",
       "13    209   mathebo01 1872 1     BL1      50  223 36   50 ... 21  1   1    3 \n",
       "14    226   nelsoca01 1872 1     TRO       4   20  2    7 ...  4  0   0    0 \n",
       "15    227   nelsoca01 1872 2     BR1      18   76 12   19 ...  8  1   0    2 \n",
       "16    229   orourji01 1872 1     MID      23  101 25   31 ... 12  1   0    2 \n",
       "17    249   startjo01 1872 1     NY2      55  282 62   76 ... 50  3   3    0 \n",
       "18    252   suttoez01 1872 1     CL1      22  107 30   30 ... 10  1   0    1 \n",
       "19    259   whitede01 1872 1     CL1      22  109 21   37 ... 22  0   0    4 \n",
       "20    268   yorkto01  1872 1     BL1      51  248 66   66 ... 41  2   1    4 \n",
       "21    276   ansonca01 1873 1     PH1      52  254 53  101 ... 36  0   2    5 \n",
       "22    293   burdoja01 1873 1     BR2      55  245 56   62 ... 36  3   1    7 \n",
       "23    314   forceda01 1873 1     BL1      49  234 77   86 ... 31  1   0    9 \n",
       "24    318   gerhajo01 1873 1     WS5      13   56  6   12 ...  7  0   0    0 \n",
       "25    327   hinespa01 1873 1     WS5      39  181 33   60 ... 29  0   1    1 \n",
       "26    344   mathebo01 1873 1     NY2      52  223 40   43 ... 13  1   1   10 \n",
       "27    353   nelsoca01 1873 1     NY2      36  168 28   55 ... 22  2   0    1 \n",
       "28    355   orourji01 1873 1     BS1      57  280 79   98 ... 48  4   2   14 \n",
       "29    375   snydepo01 1873 1     WS5      28  108 16   21 ...  4  0   1    3 \n",
       "30    377   startjo01 1873 1     NY2      53  251 42   67 ... 28  1   0    4 \n",
       "...   ...   ...       ...  ...   ...  ... ... ... ... ...     ... ... ... ...\n",
       "21670 89460 guarded01 2007 1     CIN  NL   15   0  0    0 ...  0   0  0     0\n",
       "21671 89462 griffke02 2007 1     CIN  NL  144 528 78  146 ... 93   6  1    85\n",
       "21672 89463 greensh01 2007 1     NYN  NL  130 446 62  130 ... 46  11  1    37\n",
       "21673 89464 graffto01 2007 1     MIL  NL   86 231 34   55 ... 30   0  1    24\n",
       "21674 89465 gordoto01 2007 1     PHI  NL   44   0  0    0 ...  0   0  0     0\n",
       "21675 89466 gonzalu01 2007 1     LAN  NL  139 464 70  129 ... 68   6  2    56\n",
       "21676 89467 gomezch02 2007 2     CLE  AL   19  53  4   15 ...  5   0  0     0\n",
       "21677 89468 gomezch02 2007 1     BAL  AL   73 169 17   51 ... 16   1  2    10\n",
       "21678 89469 glavito02 2007 1     NYN  NL   33  56  3   12 ...  4   0  0     6\n",
       "21679 89473 floydcl01 2007 1     CHN  NL  108 282 40   80 ... 45   0  0    35\n",
       "21680 89474 finlest01 2007 1     COL  NL   43  94  9   17 ...  2   0  0     8\n",
       "21681 89480 embreal01 2007 1     OAK  AL    4   0  0    0 ...  0   0  0     0\n",
       "21682 89481 edmonji01 2007 1     SLN  NL  117 365 39   92 ... 53   0  2    41\n",
       "21683 89482 easleda01 2007 1     NYN  NL   76 193 24   54 ... 26   0  1    19\n",
       "21684 89489 delgaca01 2007 1     NYN  NL  139 538 71  139 ... 87   4  0    52\n",
       "21685 89493 cormirh01 2007 1     CIN  NL    6   0  0    0 ...  0   0  0     0\n",
       "21686 89494 coninje01 2007 2     NYN  NL   21  41  2    8 ...  5   0  0     7\n",
       "21687 89495 coninje01 2007 1     CIN  NL   80 215 23   57 ... 32   4  0    20\n",
       "21688 89497 clemero02 2007 1     NYA  AL    2   2  0    1 ...  0   0  0     0\n",
       "21689 89498 claytro01 2007 2     BOS  AL    8   6  1    0 ...  0   0  0     0\n",
       "21690 89499 claytro01 2007 1     TOR  AL   69 189 23   48 ... 12   2  1    14\n",
       "21691 89501 cirilje01 2007 2     ARI  NL   28  40  6    8 ...  6   0  0     4\n",
       "21692 89502 cirilje01 2007 1     MIN  AL   50 153 18   40 ... 21   2  0    15\n",
       "21693 89521 bondsba01 2007 1     SFN  NL  126 340 75   94 ... 66   5  0   132\n",
       "21694 89523 biggicr01 2007 1     HOU  NL  141 517 68  130 ... 50   4  3    23\n",
       "21695 89525 benitar01 2007 2     FLO  NL   34   0  0    0 ...  0   0  0     0\n",
       "21696 89526 benitar01 2007 1     SFN  NL   19   0  0    0 ...  0   0  0     0\n",
       "21697 89530 ausmubr01 2007 1     HOU  NL  117 349 38   82 ... 25   6  1    37\n",
       "21698 89533 aloumo01  2007 1     NYN  NL   87 328 51  112 ... 49   3  0    27\n",
       "21699 89534 alomasa02 2007 1     NYN  NL    8  22  1    3 ...  0   0  0     0\n",
       "      so  ibb hbp sh  sf  gidp\n",
       "1     1   NA  NA  NA  NA  NA  \n",
       "2     0   NA  NA  NA  NA  NA  \n",
       "3     0   NA  NA  NA  NA  NA  \n",
       "4     0   NA  NA  NA  NA  NA  \n",
       "5     0   NA  NA  NA  NA  NA  \n",
       "6     1   NA  NA  NA  NA  NA  \n",
       "7     1   NA  NA  NA  NA  NA  \n",
       "8     3   NA  NA  NA  NA  NA  \n",
       "9     1   NA  NA  NA  NA  NA  \n",
       "10    0   NA  NA  NA  NA  NA  \n",
       "11    0   NA  NA  NA  NA  NA  \n",
       "12    0   NA  NA  NA  NA  NA  \n",
       "13    2   NA  NA  NA  NA  NA  \n",
       "14    2   NA  NA  NA  NA  NA  \n",
       "15    2   NA  NA  NA  NA  NA  \n",
       "16    0   NA  NA  NA  NA  NA  \n",
       "17    0   NA  NA  NA  NA  NA  \n",
       "18    1   NA  NA  NA  NA  NA  \n",
       "19    1   NA  NA  NA  NA  NA  \n",
       "20    1   NA  NA  NA  NA  NA  \n",
       "21    1   NA  NA  NA  NA  NA  \n",
       "22    4   NA  NA  NA  NA  NA  \n",
       "23    0   NA  NA  NA  NA  NA  \n",
       "24    5   NA  NA  NA  NA  NA  \n",
       "25    1   NA  NA  NA  NA  NA  \n",
       "26    3   NA  NA  NA  NA  NA  \n",
       "27    2   NA  NA  NA  NA  NA  \n",
       "28    1   NA  NA  NA  NA  NA  \n",
       "29    3   NA  NA  NA  NA  NA  \n",
       "30    0   NA  NA  NA  NA  NA  \n",
       "...   ... ... ... ... ... ... \n",
       "21670   0  0   0   0  0    0  \n",
       "21671  99 14   1   0  9   14  \n",
       "21672  62  4   5   1  1   14  \n",
       "21673  44  6   3   0  2    7  \n",
       "21674   0  0   0   0  0    0  \n",
       "21675  56  4   4   0  2   11  \n",
       "21676   6  0   0   1  1    1  \n",
       "21677  20  1   0   5  1    5  \n",
       "21678   5  0   0  12  1    0  \n",
       "21679  47  5   5   0  0    6  \n",
       "21680   4  1   0   0  0    2  \n",
       "21681   0  0   0   0  0    0  \n",
       "21682  75  2   0   2  3    9  \n",
       "21683  35  1   5   0  1    2  \n",
       "21684 118  8  11   0  6   12  \n",
       "21685   0  0   0   0  0    0  \n",
       "21686   8  2   0   1  1    1  \n",
       "21687  28  0   0   1  6    4  \n",
       "21688   0  0   0   0  0    0  \n",
       "21689   3  0   0   0  0    2  \n",
       "21690  50  0   1   3  3    8  \n",
       "21691   6  0   0   0  0    1  \n",
       "21692  13  0   1   3  2    9  \n",
       "21693  54 43   3   0  2   13  \n",
       "21694 112  0   3   7  5    5  \n",
       "21695   0  0   0   0  0    0  \n",
       "21696   0  0   0   0  0    0  \n",
       "21697  74  3   6   4  1   11  \n",
       "21698  30  5   2   0  3   13  \n",
       "21699   3  0   0   0  0    0  "
      ]
     },
     "metadata": {},
     "output_type": "display_data"
    }
   ],
   "source": [
    "playerst <- tbl_df(players)\n",
    "playerst"
   ]
  },
  {
   "cell_type": "code",
   "execution_count": 4,
   "metadata": {},
   "outputs": [
    {
     "name": "stdout",
     "output_type": "stream",
     "text": [
      "Observations: 21,699\n",
      "Variables: 23\n",
      "$ X     <int> 4, 44, 68, 99, 102, 106, 113, 121, 143, 167, 168, 186, 209, 2...\n",
      "$ id    <fctr> ansonca01, forceda01, mathebo01, startjo01, suttoez01, white...\n",
      "$ year  <int> 1871, 1871, 1871, 1871, 1871, 1871, 1871, 1872, 1872, 1872, 1...\n",
      "$ stint <int> 1, 1, 1, 1, 1, 1, 1, 1, 1, 1, 2, 1, 1, 1, 2, 1, 1, 1, 1, 1, 1...\n",
      "$ team  <fctr> RC1, WS3, FW1, NY2, CL1, CL1, TRO, PH1, BR2, TRO, BL1, WS4, ...\n",
      "$ lg    <fctr> , , , , , , , , , , , , , , , , , , , , , , , , , \n",
      "$ g     <int> 25, 32, 19, 33, 29, 29, 29, 46, 37, 25, 19, 11, 50, 4, 18, 23...\n",
      "$ ab    <int> 120, 162, 89, 161, 128, 146, 145, 217, 174, 130, 95, 49, 223,...\n",
      "$ r     <int> 29, 45, 15, 35, 35, 40, 36, 60, 26, 40, 29, 9, 36, 2, 12, 25,...\n",
      "$ h     <int> 39, 45, 24, 58, 45, 47, 37, 90, 46, 53, 41, 12, 50, 7, 19, 31...\n",
      "$ X2b   <int> 11, 9, 3, 5, 3, 6, 5, 10, 3, 11, 2, 1, 1, 0, 2, 4, 4, 6, 2, 1...\n",
      "$ X3b   <int> 3, 4, 1, 1, 7, 5, 7, 7, 0, 0, 2, 0, 0, 0, 0, 1, 0, 1, 2, 4, 2...\n",
      "$ hr    <int> 0, 0, 0, 1, 3, 1, 2, 0, 0, 0, 0, 0, 0, 0, 0, 0, 0, 0, 0, 1, 0...\n",
      "$ rbi   <int> 16, 29, 10, 34, 23, 21, 23, 50, 15, 16, 13, 5, 21, 4, 8, 12, ...\n",
      "$ sb    <int> 6, 8, 2, 4, 3, 2, 2, 6, 0, 2, 3, 0, 1, 0, 1, 1, 3, 1, 0, 2, 0...\n",
      "$ cs    <int> 2, 0, 1, 2, 1, 2, 2, 6, 1, 2, 0, 0, 1, 0, 0, 0, 3, 0, 0, 1, 2...\n",
      "$ bb    <int> 2, 4, 2, 3, 1, 4, 9, 16, 1, 1, 1, 0, 3, 0, 2, 2, 0, 1, 4, 4, ...\n",
      "$ so    <int> 1, 0, 0, 0, 0, 1, 1, 3, 1, 0, 0, 0, 2, 2, 2, 0, 0, 1, 1, 1, 1...\n",
      "$ ibb   <int> NA, NA, NA, NA, NA, NA, NA, NA, NA, NA, NA, NA, NA, NA, NA, N...\n",
      "$ hbp   <int> NA, NA, NA, NA, NA, NA, NA, NA, NA, NA, NA, NA, NA, NA, NA, N...\n",
      "$ sh    <int> NA, NA, NA, NA, NA, NA, NA, NA, NA, NA, NA, NA, NA, NA, NA, N...\n",
      "$ sf    <int> NA, NA, NA, NA, NA, NA, NA, NA, NA, NA, NA, NA, NA, NA, NA, N...\n",
      "$ gidp  <int> NA, NA, NA, NA, NA, NA, NA, NA, NA, NA, NA, NA, NA, NA, NA, N...\n"
     ]
    }
   ],
   "source": [
    "glimpse(playerst)"
   ]
  },
  {
   "cell_type": "code",
   "execution_count": 5,
   "metadata": {},
   "outputs": [
    {
     "name": "stdout",
     "output_type": "stream",
     "text": [
      "Observations: 30\n",
      "Variables: 23\n",
      "$ X     <int> 8727, 18010, 89431, 44391, 70321, 60399, 32614, 66977, 53930,...\n",
      "$ id    <fctr> becklja01, merklfr01, loaizes01, lonboji01, fasseje01, fletc...\n",
      "$ year  <int> 1902, 1919, 2007, 1965, 1992, 1983, 1946, 1989, 1976, 1912, 1...\n",
      "$ stint <int> 1, 1, 1, 1, 1, 1, 1, 1, 1, 2, 2, 1, 1, 1, 1, 1, 1, 1, 1, 1, 1...\n",
      "$ team  <fctr> CIN, CHN, LAN, BOS, MON, CHA, NY1, NYN, ML4, CHN, PHA, CHA, ...\n",
      "$ lg    <fctr> NL, NL, NL, AL, NL, AL, NL, NL, AL, NL, AL, AL, NL, NL, NL, ...\n",
      "$ g     <int> 129, 133, 5, 32, 70, 114, 31, 50, 156, 82, 125, 17, 154, 121,...\n",
      "$ ab    <int> 531, 498, 7, 59, 7, 262, 68, 153, 606, 265, 468, 0, 628, 500,...\n",
      "$ r     <int> 82, 52, 0, 4, 0, 42, 2, 14, 73, 50, 71, 0, 94, 59, 24, 54, 28...\n",
      "$ h     <int> 175, 133, 1, 8, 1, 62, 5, 28, 166, 64, 123, 0, 190, 138, 47, ...\n",
      "$ X2b   <int> 23, 20, 0, 3, 1, 16, 1, 8, 21, 10, 18, 0, 26, 14, 9, 19, 5, 8...\n",
      "$ X3b   <int> 7, 6, 0, 0, 0, 5, 0, 0, 5, 3, 7, 0, 8, 5, 1, 6, 4, 0, 0, 0, 3...\n",
      "$ hr    <int> 5, 3, 0, 0, 0, 3, 1, 2, 18, 2, 7, 0, 3, 0, 1, 0, 0, 2, 0, 0, ...\n",
      "$ rbi   <int> 69, 62, 2, 4, 0, 31, 4, 15, 77, 32, 59, 0, 50, 26, 12, 48, 4,...\n",
      "$ sb    <int> 15, 20, 0, 0, 0, 5, 0, 0, 0, 14, 9, 0, 10, 3, 1, 22, 5, 10, 0...\n",
      "$ cs    <int> NA, NA, 0, 0, 0, 1, NA, 0, 1, NA, 6, 0, 1, NA, 1, 14, 3, 4, 0...\n",
      "$ bb    <int> 34, 33, 0, 5, 0, 29, 8, 12, 53, 55, 63, 0, 79, 22, 20, 36, 24...\n",
      "$ so    <int> NA, 35, 2, 22, 3, 22, 15, 15, 118, 20, 38, 0, 45, 8, 25, 17, ...\n",
      "$ ibb   <int> NA, NA, 0, 0, 0, 0, NA, 0, 6, NA, NA, 0, 3, NA, 3, NA, NA, 0,...\n",
      "$ hbp   <int> 6, 2, 0, 0, 0, 2, 0, 0, 5, 3, 3, 0, 5, 0, 2, 4, 2, 1, 0, 0, 3...\n",
      "$ sh    <int> 8, 12, 2, 5, 1, 7, 2, 0, 0, 6, 4, 0, 6, 4, 3, 19, 4, 1, 0, 0,...\n",
      "$ sf    <int> NA, NA, 0, 0, 0, 2, NA, 1, 7, NA, NA, 0, 1, NA, 1, NA, NA, 3,...\n",
      "$ gidp  <int> NA, NA, 1, 1, 0, 8, 1, 5, 19, NA, 4, 0, 4, 4, 4, NA, NA, 1, 0...\n"
     ]
    }
   ],
   "source": [
    "data <- sample_n(players, 30)\n",
    "glimpse(data)"
   ]
  },
  {
   "cell_type": "code",
   "execution_count": 6,
   "metadata": {},
   "outputs": [
    {
     "data": {
      "text/html": [
       "<table>\n",
       "<thead><tr><th scope=col>X</th><th scope=col>id</th><th scope=col>year</th><th scope=col>stint</th><th scope=col>team</th><th scope=col>lg</th><th scope=col>g</th><th scope=col>ab</th><th scope=col>r</th><th scope=col>h</th><th scope=col>...</th><th scope=col>rbi</th><th scope=col>sb</th><th scope=col>cs</th><th scope=col>bb</th><th scope=col>so</th><th scope=col>ibb</th><th scope=col>hbp</th><th scope=col>sh</th><th scope=col>sf</th><th scope=col>gidp</th></tr></thead>\n",
       "<tbody>\n",
       "\t<tr><td>3454     </td><td>brownpe01</td><td>1887     </td><td>1        </td><td>LS2      </td><td>AA       </td><td>134      </td><td>547      </td><td>137      </td><td>220      </td><td>...      </td><td>118      </td><td>103      </td><td>NA       </td><td>55       </td><td>NA       </td><td>NA       </td><td> 8       </td><td>NA       </td><td>NA       </td><td>NA       </td></tr>\n",
       "\t<tr><td>3765     </td><td>thompsa01</td><td>1887     </td><td>1        </td><td>DTN      </td><td>NL       </td><td>127      </td><td>545      </td><td>118      </td><td>203      </td><td>...      </td><td>166      </td><td> 22      </td><td>NA       </td><td>32       </td><td>19       </td><td>NA       </td><td> 9       </td><td>NA       </td><td>NA       </td><td>NA       </td></tr>\n",
       "\t<tr><td>4370     </td><td>glassja01</td><td>1889     </td><td>1        </td><td>IN3      </td><td>NL       </td><td>134      </td><td>582      </td><td>128      </td><td>205      </td><td>...      </td><td> 85      </td><td> 57      </td><td>NA       </td><td>31       </td><td>10       </td><td>NA       </td><td> 5       </td><td>NA       </td><td>NA       </td><td>NA       </td></tr>\n",
       "\t<tr><td>5832     </td><td>delahed01</td><td>1893     </td><td>1        </td><td>PHI      </td><td>NL       </td><td>132      </td><td>595      </td><td>145      </td><td>219      </td><td>...      </td><td>146      </td><td> 37      </td><td>NA       </td><td>47       </td><td>20       </td><td>NA       </td><td>10       </td><td>NA       </td><td>NA       </td><td>NA       </td></tr>\n",
       "\t<tr><td>5841     </td><td>duffyhu01</td><td>1893     </td><td>1        </td><td>BSN      </td><td>NL       </td><td>131      </td><td>560      </td><td>147      </td><td>203      </td><td>...      </td><td>118      </td><td> 44      </td><td>NA       </td><td>50       </td><td>13       </td><td>NA       </td><td> 1       </td><td>NA       </td><td>NA       </td><td>NA       </td></tr>\n",
       "\t<tr><td>6023     </td><td>thompsa01</td><td>1893     </td><td>1        </td><td>PHI      </td><td>NL       </td><td>131      </td><td>600      </td><td>130      </td><td>222      </td><td>...      </td><td>126      </td><td> 18      </td><td>NA       </td><td>50       </td><td>17       </td><td>NA       </td><td> 6       </td><td>NA       </td><td>NA       </td><td>NA       </td></tr>\n",
       "</tbody>\n",
       "</table>\n"
      ],
      "text/latex": [
       "\\begin{tabular}{r|lllllllllllllllllllllll}\n",
       " X & id & year & stint & team & lg & g & ab & r & h & ... & rbi & sb & cs & bb & so & ibb & hbp & sh & sf & gidp\\\\\n",
       "\\hline\n",
       "\t 3454      & brownpe01 & 1887      & 1         & LS2       & AA        & 134       & 547       & 137       & 220       & ...       & 118       & 103       & NA        & 55        & NA        & NA        &  8        & NA        & NA        & NA       \\\\\n",
       "\t 3765      & thompsa01 & 1887      & 1         & DTN       & NL        & 127       & 545       & 118       & 203       & ...       & 166       &  22       & NA        & 32        & 19        & NA        &  9        & NA        & NA        & NA       \\\\\n",
       "\t 4370      & glassja01 & 1889      & 1         & IN3       & NL        & 134       & 582       & 128       & 205       & ...       &  85       &  57       & NA        & 31        & 10        & NA        &  5        & NA        & NA        & NA       \\\\\n",
       "\t 5832      & delahed01 & 1893      & 1         & PHI       & NL        & 132       & 595       & 145       & 219       & ...       & 146       &  37       & NA        & 47        & 20        & NA        & 10        & NA        & NA        & NA       \\\\\n",
       "\t 5841      & duffyhu01 & 1893      & 1         & BSN       & NL        & 131       & 560       & 147       & 203       & ...       & 118       &  44       & NA        & 50        & 13        & NA        &  1        & NA        & NA        & NA       \\\\\n",
       "\t 6023      & thompsa01 & 1893      & 1         & PHI       & NL        & 131       & 600       & 130       & 222       & ...       & 126       &  18       & NA        & 50        & 17        & NA        &  6        & NA        & NA        & NA       \\\\\n",
       "\\end{tabular}\n"
      ],
      "text/markdown": [
       "\n",
       "X | id | year | stint | team | lg | g | ab | r | h | ... | rbi | sb | cs | bb | so | ibb | hbp | sh | sf | gidp | \n",
       "|---|---|---|---|---|---|\n",
       "| 3454      | brownpe01 | 1887      | 1         | LS2       | AA        | 134       | 547       | 137       | 220       | ...       | 118       | 103       | NA        | 55        | NA        | NA        |  8        | NA        | NA        | NA        | \n",
       "| 3765      | thompsa01 | 1887      | 1         | DTN       | NL        | 127       | 545       | 118       | 203       | ...       | 166       |  22       | NA        | 32        | 19        | NA        |  9        | NA        | NA        | NA        | \n",
       "| 4370      | glassja01 | 1889      | 1         | IN3       | NL        | 134       | 582       | 128       | 205       | ...       |  85       |  57       | NA        | 31        | 10        | NA        |  5        | NA        | NA        | NA        | \n",
       "| 5832      | delahed01 | 1893      | 1         | PHI       | NL        | 132       | 595       | 145       | 219       | ...       | 146       |  37       | NA        | 47        | 20        | NA        | 10        | NA        | NA        | NA        | \n",
       "| 5841      | duffyhu01 | 1893      | 1         | BSN       | NL        | 131       | 560       | 147       | 203       | ...       | 118       |  44       | NA        | 50        | 13        | NA        |  1        | NA        | NA        | NA        | \n",
       "| 6023      | thompsa01 | 1893      | 1         | PHI       | NL        | 131       | 600       | 130       | 222       | ...       | 126       |  18       | NA        | 50        | 17        | NA        |  6        | NA        | NA        | NA        | \n",
       "\n",
       "\n"
      ],
      "text/plain": [
       "  X    id        year stint team lg g   ab  r   h   ... rbi sb  cs bb so ibb\n",
       "1 3454 brownpe01 1887 1     LS2  AA 134 547 137 220 ... 118 103 NA 55 NA NA \n",
       "2 3765 thompsa01 1887 1     DTN  NL 127 545 118 203 ... 166  22 NA 32 19 NA \n",
       "3 4370 glassja01 1889 1     IN3  NL 134 582 128 205 ...  85  57 NA 31 10 NA \n",
       "4 5832 delahed01 1893 1     PHI  NL 132 595 145 219 ... 146  37 NA 47 20 NA \n",
       "5 5841 duffyhu01 1893 1     BSN  NL 131 560 147 203 ... 118  44 NA 50 13 NA \n",
       "6 6023 thompsa01 1893 1     PHI  NL 131 600 130 222 ... 126  18 NA 50 17 NA \n",
       "  hbp sh sf gidp\n",
       "1  8  NA NA NA  \n",
       "2  9  NA NA NA  \n",
       "3  5  NA NA NA  \n",
       "4 10  NA NA NA  \n",
       "5  1  NA NA NA  \n",
       "6  6  NA NA NA  "
      ]
     },
     "metadata": {},
     "output_type": "display_data"
    },
    {
     "data": {
      "text/html": [
       "274"
      ],
      "text/latex": [
       "274"
      ],
      "text/markdown": [
       "274"
      ],
      "text/plain": [
       "[1] 274"
      ]
     },
     "metadata": {},
     "output_type": "display_data"
    }
   ],
   "source": [
    "options( warn = -1 )\n",
    "over200 <- filter(players, h > 200)\n",
    "head(over200)\n",
    "nrow(over200)"
   ]
  },
  {
   "cell_type": "code",
   "execution_count": 7,
   "metadata": {},
   "outputs": [
    {
     "data": {
      "text/html": [
       "<table>\n",
       "<thead><tr><th scope=col>X</th><th scope=col>id</th><th scope=col>year</th><th scope=col>stint</th><th scope=col>team</th><th scope=col>lg</th><th scope=col>g</th><th scope=col>ab</th><th scope=col>r</th><th scope=col>h</th><th scope=col>...</th><th scope=col>rbi</th><th scope=col>sb</th><th scope=col>cs</th><th scope=col>bb</th><th scope=col>so</th><th scope=col>ibb</th><th scope=col>hbp</th><th scope=col>sh</th><th scope=col>sf</th><th scope=col>gidp</th></tr></thead>\n",
       "<tbody>\n",
       "\t<tr><td>18834    </td><td>ruthba01 </td><td>1921     </td><td>1        </td><td>NYA      </td><td>AL       </td><td>152      </td><td>540      </td><td>177      </td><td>204      </td><td>...      </td><td>171      </td><td>17       </td><td>13       </td><td>145      </td><td>81       </td><td>NA       </td><td>4        </td><td> 4       </td><td>NA       </td><td>NA       </td></tr>\n",
       "\t<tr><td>19528    </td><td>hornsro01</td><td>1922     </td><td>1        </td><td>SLN      </td><td>NL       </td><td>154      </td><td>623      </td><td>141      </td><td>250      </td><td>...      </td><td>152      </td><td>17       </td><td>12       </td><td> 65      </td><td>50       </td><td>NA       </td><td>1        </td><td>15       </td><td>NA       </td><td>NA       </td></tr>\n",
       "\t<tr><td>19883    </td><td>ruthba01 </td><td>1923     </td><td>1        </td><td>NYA      </td><td>AL       </td><td>152      </td><td>522      </td><td>151      </td><td>205      </td><td>...      </td><td>131      </td><td>17       </td><td>21       </td><td>170      </td><td>93       </td><td>NA       </td><td>4        </td><td> 3       </td><td>NA       </td><td>NA       </td></tr>\n",
       "\t<tr><td>21925    </td><td>gehrilo01</td><td>1927     </td><td>1        </td><td>NYA      </td><td>AL       </td><td>155      </td><td>584      </td><td>149      </td><td>218      </td><td>...      </td><td>175      </td><td>10       </td><td> 8       </td><td>109      </td><td>84       </td><td>NA       </td><td>3        </td><td>21       </td><td>NA       </td><td>NA       </td></tr>\n",
       "\t<tr><td>23312    </td><td>kleinch01</td><td>1929     </td><td>1        </td><td>PHI      </td><td>NL       </td><td>149      </td><td>616      </td><td>126      </td><td>219      </td><td>...      </td><td>145      </td><td> 5       </td><td>NA       </td><td> 54      </td><td>61       </td><td>NA       </td><td>0        </td><td> 9       </td><td>NA       </td><td>NA       </td></tr>\n",
       "\t<tr><td>23524    </td><td>gehrilo01</td><td>1930     </td><td>1        </td><td>NYA      </td><td>AL       </td><td>154      </td><td>581      </td><td>143      </td><td>220      </td><td>...      </td><td>174      </td><td>12       </td><td>14       </td><td>101      </td><td>63       </td><td>NA       </td><td>3        </td><td>18       </td><td>NA       </td><td>NA       </td></tr>\n",
       "</tbody>\n",
       "</table>\n"
      ],
      "text/latex": [
       "\\begin{tabular}{r|lllllllllllllllllllllll}\n",
       " X & id & year & stint & team & lg & g & ab & r & h & ... & rbi & sb & cs & bb & so & ibb & hbp & sh & sf & gidp\\\\\n",
       "\\hline\n",
       "\t 18834     & ruthba01  & 1921      & 1         & NYA       & AL        & 152       & 540       & 177       & 204       & ...       & 171       & 17        & 13        & 145       & 81        & NA        & 4         &  4        & NA        & NA       \\\\\n",
       "\t 19528     & hornsro01 & 1922      & 1         & SLN       & NL        & 154       & 623       & 141       & 250       & ...       & 152       & 17        & 12        &  65       & 50        & NA        & 1         & 15        & NA        & NA       \\\\\n",
       "\t 19883     & ruthba01  & 1923      & 1         & NYA       & AL        & 152       & 522       & 151       & 205       & ...       & 131       & 17        & 21        & 170       & 93        & NA        & 4         &  3        & NA        & NA       \\\\\n",
       "\t 21925     & gehrilo01 & 1927      & 1         & NYA       & AL        & 155       & 584       & 149       & 218       & ...       & 175       & 10        &  8        & 109       & 84        & NA        & 3         & 21        & NA        & NA       \\\\\n",
       "\t 23312     & kleinch01 & 1929      & 1         & PHI       & NL        & 149       & 616       & 126       & 219       & ...       & 145       &  5        & NA        &  54       & 61        & NA        & 0         &  9        & NA        & NA       \\\\\n",
       "\t 23524     & gehrilo01 & 1930      & 1         & NYA       & AL        & 154       & 581       & 143       & 220       & ...       & 174       & 12        & 14        & 101       & 63        & NA        & 3         & 18        & NA        & NA       \\\\\n",
       "\\end{tabular}\n"
      ],
      "text/markdown": [
       "\n",
       "X | id | year | stint | team | lg | g | ab | r | h | ... | rbi | sb | cs | bb | so | ibb | hbp | sh | sf | gidp | \n",
       "|---|---|---|---|---|---|\n",
       "| 18834     | ruthba01  | 1921      | 1         | NYA       | AL        | 152       | 540       | 177       | 204       | ...       | 171       | 17        | 13        | 145       | 81        | NA        | 4         |  4        | NA        | NA        | \n",
       "| 19528     | hornsro01 | 1922      | 1         | SLN       | NL        | 154       | 623       | 141       | 250       | ...       | 152       | 17        | 12        |  65       | 50        | NA        | 1         | 15        | NA        | NA        | \n",
       "| 19883     | ruthba01  | 1923      | 1         | NYA       | AL        | 152       | 522       | 151       | 205       | ...       | 131       | 17        | 21        | 170       | 93        | NA        | 4         |  3        | NA        | NA        | \n",
       "| 21925     | gehrilo01 | 1927      | 1         | NYA       | AL        | 155       | 584       | 149       | 218       | ...       | 175       | 10        |  8        | 109       | 84        | NA        | 3         | 21        | NA        | NA        | \n",
       "| 23312     | kleinch01 | 1929      | 1         | PHI       | NL        | 149       | 616       | 126       | 219       | ...       | 145       |  5        | NA        |  54       | 61        | NA        | 0         |  9        | NA        | NA        | \n",
       "| 23524     | gehrilo01 | 1930      | 1         | NYA       | AL        | 154       | 581       | 143       | 220       | ...       | 174       | 12        | 14        | 101       | 63        | NA        | 3         | 18        | NA        | NA        | \n",
       "\n",
       "\n"
      ],
      "text/plain": [
       "  X     id        year stint team lg g   ab  r   h   ... rbi sb cs bb  so ibb\n",
       "1 18834 ruthba01  1921 1     NYA  AL 152 540 177 204 ... 171 17 13 145 81 NA \n",
       "2 19528 hornsro01 1922 1     SLN  NL 154 623 141 250 ... 152 17 12  65 50 NA \n",
       "3 19883 ruthba01  1923 1     NYA  AL 152 522 151 205 ... 131 17 21 170 93 NA \n",
       "4 21925 gehrilo01 1927 1     NYA  AL 155 584 149 218 ... 175 10  8 109 84 NA \n",
       "5 23312 kleinch01 1929 1     PHI  NL 149 616 126 219 ... 145  5 NA  54 61 NA \n",
       "6 23524 gehrilo01 1930 1     NYA  AL 154 581 143 220 ... 174 12 14 101 63 NA \n",
       "  hbp sh sf gidp\n",
       "1 4    4 NA NA  \n",
       "2 1   15 NA NA  \n",
       "3 4    3 NA NA  \n",
       "4 3   21 NA NA  \n",
       "5 0    9 NA NA  \n",
       "6 3   18 NA NA  "
      ]
     },
     "metadata": {},
     "output_type": "display_data"
    },
    {
     "data": {
      "text/html": [
       "16"
      ],
      "text/latex": [
       "16"
      ],
      "text/markdown": [
       "16"
      ],
      "text/plain": [
       "[1] 16"
      ]
     },
     "metadata": {},
     "output_type": "display_data"
    }
   ],
   "source": [
    "over200and40hr <- filter(players, h > 200 & hr > 40)\n",
    "head(over200and40hr)\n",
    "nrow(over200and40hr)"
   ]
  },
  {
   "cell_type": "code",
   "execution_count": 8,
   "metadata": {},
   "outputs": [
    {
     "data": {
      "text/html": [
       "<table>\n",
       "<thead><tr><th scope=col>X</th><th scope=col>id</th><th scope=col>year</th><th scope=col>stint</th><th scope=col>team</th><th scope=col>lg</th><th scope=col>g</th><th scope=col>ab</th><th scope=col>r</th><th scope=col>h</th><th scope=col>...</th><th scope=col>rbi</th><th scope=col>sb</th><th scope=col>cs</th><th scope=col>bb</th><th scope=col>so</th><th scope=col>ibb</th><th scope=col>hbp</th><th scope=col>sh</th><th scope=col>sf</th><th scope=col>gidp</th></tr></thead>\n",
       "<tbody>\n",
       "</tbody>\n",
       "</table>\n"
      ],
      "text/latex": [
       "\\begin{tabular}{r|lllllllllllllllllllllll}\n",
       " X & id & year & stint & team & lg & g & ab & r & h & ... & rbi & sb & cs & bb & so & ibb & hbp & sh & sf & gidp\\\\\n",
       "\\hline\n",
       "\\end{tabular}\n"
      ],
      "text/markdown": [
       "\n",
       "X | id | year | stint | team | lg | g | ab | r | h | ... | rbi | sb | cs | bb | so | ibb | hbp | sh | sf | gidp | \n",
       "||\n",
       "\n",
       "\n"
      ],
      "text/plain": [
       "     X id year stint team lg g ab r h ... rbi sb cs bb so ibb hbp sh sf gidp"
      ]
     },
     "metadata": {},
     "output_type": "display_data"
    }
   ],
   "source": [
    "options( warn = -1 )\n",
    "filter(players, h > 300)"
   ]
  },
  {
   "cell_type": "code",
   "execution_count": 9,
   "metadata": {},
   "outputs": [
    {
     "data": {
      "text/html": [
       "<table>\n",
       "<thead><tr><th scope=col>X</th><th scope=col>id</th><th scope=col>year</th><th scope=col>stint</th><th scope=col>team</th><th scope=col>lg</th><th scope=col>g</th><th scope=col>ab</th><th scope=col>r</th><th scope=col>h</th><th scope=col>...</th><th scope=col>sb</th><th scope=col>cs</th><th scope=col>bb</th><th scope=col>so</th><th scope=col>ibb</th><th scope=col>hbp</th><th scope=col>sh</th><th scope=col>sf</th><th scope=col>gidp</th><th scope=col>hitpct</th></tr></thead>\n",
       "<tbody>\n",
       "\t<tr><td>  4      </td><td>ansonca01</td><td>1871     </td><td>1        </td><td>RC1      </td><td>         </td><td>25       </td><td>120      </td><td>29       </td><td>39       </td><td>...      </td><td>6        </td><td>2        </td><td>2        </td><td>1        </td><td>NA       </td><td>NA       </td><td>NA       </td><td>NA       </td><td>NA       </td><td>0.3250000</td></tr>\n",
       "\t<tr><td> 44      </td><td>forceda01</td><td>1871     </td><td>1        </td><td>WS3      </td><td>         </td><td>32       </td><td>162      </td><td>45       </td><td>45       </td><td>...      </td><td>8        </td><td>0        </td><td>4        </td><td>0        </td><td>NA       </td><td>NA       </td><td>NA       </td><td>NA       </td><td>NA       </td><td>0.2777778</td></tr>\n",
       "\t<tr><td> 68      </td><td>mathebo01</td><td>1871     </td><td>1        </td><td>FW1      </td><td>         </td><td>19       </td><td> 89      </td><td>15       </td><td>24       </td><td>...      </td><td>2        </td><td>1        </td><td>2        </td><td>0        </td><td>NA       </td><td>NA       </td><td>NA       </td><td>NA       </td><td>NA       </td><td>0.2696629</td></tr>\n",
       "\t<tr><td> 99      </td><td>startjo01</td><td>1871     </td><td>1        </td><td>NY2      </td><td>         </td><td>33       </td><td>161      </td><td>35       </td><td>58       </td><td>...      </td><td>4        </td><td>2        </td><td>3        </td><td>0        </td><td>NA       </td><td>NA       </td><td>NA       </td><td>NA       </td><td>NA       </td><td>0.3602484</td></tr>\n",
       "\t<tr><td>102      </td><td>suttoez01</td><td>1871     </td><td>1        </td><td>CL1      </td><td>         </td><td>29       </td><td>128      </td><td>35       </td><td>45       </td><td>...      </td><td>3        </td><td>1        </td><td>1        </td><td>0        </td><td>NA       </td><td>NA       </td><td>NA       </td><td>NA       </td><td>NA       </td><td>0.3515625</td></tr>\n",
       "\t<tr><td>106      </td><td>whitede01</td><td>1871     </td><td>1        </td><td>CL1      </td><td>         </td><td>29       </td><td>146      </td><td>40       </td><td>47       </td><td>...      </td><td>2        </td><td>2        </td><td>4        </td><td>1        </td><td>NA       </td><td>NA       </td><td>NA       </td><td>NA       </td><td>NA       </td><td>0.3219178</td></tr>\n",
       "</tbody>\n",
       "</table>\n"
      ],
      "text/latex": [
       "\\begin{tabular}{r|llllllllllllllllllllllll}\n",
       " X & id & year & stint & team & lg & g & ab & r & h & ... & sb & cs & bb & so & ibb & hbp & sh & sf & gidp & hitpct\\\\\n",
       "\\hline\n",
       "\t   4       & ansonca01 & 1871      & 1         & RC1       &           & 25        & 120       & 29        & 39        & ...       & 6         & 2         & 2         & 1         & NA        & NA        & NA        & NA        & NA        & 0.3250000\\\\\n",
       "\t  44       & forceda01 & 1871      & 1         & WS3       &           & 32        & 162       & 45        & 45        & ...       & 8         & 0         & 4         & 0         & NA        & NA        & NA        & NA        & NA        & 0.2777778\\\\\n",
       "\t  68       & mathebo01 & 1871      & 1         & FW1       &           & 19        &  89       & 15        & 24        & ...       & 2         & 1         & 2         & 0         & NA        & NA        & NA        & NA        & NA        & 0.2696629\\\\\n",
       "\t  99       & startjo01 & 1871      & 1         & NY2       &           & 33        & 161       & 35        & 58        & ...       & 4         & 2         & 3         & 0         & NA        & NA        & NA        & NA        & NA        & 0.3602484\\\\\n",
       "\t 102       & suttoez01 & 1871      & 1         & CL1       &           & 29        & 128       & 35        & 45        & ...       & 3         & 1         & 1         & 0         & NA        & NA        & NA        & NA        & NA        & 0.3515625\\\\\n",
       "\t 106       & whitede01 & 1871      & 1         & CL1       &           & 29        & 146       & 40        & 47        & ...       & 2         & 2         & 4         & 1         & NA        & NA        & NA        & NA        & NA        & 0.3219178\\\\\n",
       "\\end{tabular}\n"
      ],
      "text/markdown": [
       "\n",
       "X | id | year | stint | team | lg | g | ab | r | h | ... | sb | cs | bb | so | ibb | hbp | sh | sf | gidp | hitpct | \n",
       "|---|---|---|---|---|---|\n",
       "|   4       | ansonca01 | 1871      | 1         | RC1       |           | 25        | 120       | 29        | 39        | ...       | 6         | 2         | 2         | 1         | NA        | NA        | NA        | NA        | NA        | 0.3250000 | \n",
       "|  44       | forceda01 | 1871      | 1         | WS3       |           | 32        | 162       | 45        | 45        | ...       | 8         | 0         | 4         | 0         | NA        | NA        | NA        | NA        | NA        | 0.2777778 | \n",
       "|  68       | mathebo01 | 1871      | 1         | FW1       |           | 19        |  89       | 15        | 24        | ...       | 2         | 1         | 2         | 0         | NA        | NA        | NA        | NA        | NA        | 0.2696629 | \n",
       "|  99       | startjo01 | 1871      | 1         | NY2       |           | 33        | 161       | 35        | 58        | ...       | 4         | 2         | 3         | 0         | NA        | NA        | NA        | NA        | NA        | 0.3602484 | \n",
       "| 102       | suttoez01 | 1871      | 1         | CL1       |           | 29        | 128       | 35        | 45        | ...       | 3         | 1         | 1         | 0         | NA        | NA        | NA        | NA        | NA        | 0.3515625 | \n",
       "| 106       | whitede01 | 1871      | 1         | CL1       |           | 29        | 146       | 40        | 47        | ...       | 2         | 2         | 4         | 1         | NA        | NA        | NA        | NA        | NA        | 0.3219178 | \n",
       "\n",
       "\n"
      ],
      "text/plain": [
       "  X   id        year stint team lg g  ab  r  h  ... sb cs bb so ibb hbp sh sf\n",
       "1   4 ansonca01 1871 1     RC1     25 120 29 39 ... 6  2  2  1  NA  NA  NA NA\n",
       "2  44 forceda01 1871 1     WS3     32 162 45 45 ... 8  0  4  0  NA  NA  NA NA\n",
       "3  68 mathebo01 1871 1     FW1     19  89 15 24 ... 2  1  2  0  NA  NA  NA NA\n",
       "4  99 startjo01 1871 1     NY2     33 161 35 58 ... 4  2  3  0  NA  NA  NA NA\n",
       "5 102 suttoez01 1871 1     CL1     29 128 35 45 ... 3  1  1  0  NA  NA  NA NA\n",
       "6 106 whitede01 1871 1     CL1     29 146 40 47 ... 2  2  4  1  NA  NA  NA NA\n",
       "  gidp hitpct   \n",
       "1 NA   0.3250000\n",
       "2 NA   0.2777778\n",
       "3 NA   0.2696629\n",
       "4 NA   0.3602484\n",
       "5 NA   0.3515625\n",
       "6 NA   0.3219178"
      ]
     },
     "metadata": {},
     "output_type": "display_data"
    },
    {
     "data": {
      "text/plain": [
       "       X                 id             year          stint      \n",
       " Min.   :    4   mcguide01:   31   Min.   :1871   Min.   :1.000  \n",
       " 1st Qu.:27080   henderi01:   29   1st Qu.:1937   1st Qu.:1.000  \n",
       " Median :48997   newsobo01:   29   Median :1970   Median :1.000  \n",
       " Mean   :46655   johnto01 :   28   Mean   :1961   Mean   :1.093  \n",
       " 3rd Qu.:65780   kaatji01 :   28   3rd Qu.:1988   3rd Qu.:1.000  \n",
       " Max.   :89534   ansonca01:   27   Max.   :2007   Max.   :4.000  \n",
       "                 (Other)  :21527                                 \n",
       "      team        lg              g                ab              r         \n",
       " CHN    : 1179     :   65   Min.   :  0.00   Min.   :  0.0   Min.   :  0.00  \n",
       " NYA    : 1100   AA:  171   1st Qu.: 29.00   1st Qu.: 25.0   1st Qu.:  2.00  \n",
       " SLN    : 1094   AL:10007   Median : 59.00   Median :131.0   Median : 15.00  \n",
       " PHI    : 1070   FL:   37   Mean   : 72.82   Mean   :225.4   Mean   : 31.78  \n",
       " CIN    : 1030   NL:11378   3rd Qu.:125.00   3rd Qu.:435.0   3rd Qu.: 58.00  \n",
       " PIT    : 1020   PL:   32   Max.   :165.00   Max.   :705.0   Max.   :177.00  \n",
       " (Other):15206   UA:    9                                                    \n",
       "       h               X2b             X3b               hr        \n",
       " Min.   :  0.00   Min.   : 0.00   Min.   : 0.000   Min.   : 0.000  \n",
       " 1st Qu.:  4.00   1st Qu.: 0.00   1st Qu.: 0.000   1st Qu.: 0.000  \n",
       " Median : 32.00   Median : 5.00   Median : 1.000   Median : 1.000  \n",
       " Mean   : 61.76   Mean   :10.45   Mean   : 2.194   Mean   : 5.234  \n",
       " 3rd Qu.:119.00   3rd Qu.:19.00   3rd Qu.: 3.000   3rd Qu.: 7.000  \n",
       " Max.   :257.00   Max.   :64.00   Max.   :28.000   Max.   :73.000  \n",
       "                                                                   \n",
       "      rbi               sb                cs             bb        \n",
       " Min.   :  0.00   Min.   :  0.000   Min.   : 0.0   Min.   :  0.00  \n",
       " 1st Qu.:  1.00   1st Qu.:  0.000   1st Qu.: 0.0   1st Qu.:  1.00  \n",
       " Median : 14.00   Median :  1.000   Median : 0.0   Median : 11.00  \n",
       " Mean   : 29.59   Mean   :  5.168   Mean   : 2.1   Mean   : 22.49  \n",
       " 3rd Qu.: 51.00   3rd Qu.:  5.000   3rd Qu.: 3.0   3rd Qu.: 38.00  \n",
       " Max.   :184.00   Max.   :130.000   Max.   :42.0   Max.   :232.00  \n",
       " NA's   :12       NA's   :250       NA's   :4525                   \n",
       "       so              ibb               hbp               sh        \n",
       " Min.   :  0.00   Min.   :  0.000   Min.   : 0.000   Min.   : 0.000  \n",
       " 1st Qu.:  4.00   1st Qu.:  0.000   1st Qu.: 0.000   1st Qu.: 0.000  \n",
       " Median : 19.00   Median :  0.000   Median : 0.000   Median : 1.000  \n",
       " Mean   : 29.26   Mean   :  2.292   Mean   : 1.543   Mean   : 3.388  \n",
       " 3rd Qu.: 45.00   3rd Qu.:  3.000   3rd Qu.: 2.000   3rd Qu.: 5.000  \n",
       " Max.   :189.00   Max.   :120.000   Max.   :51.000   Max.   :52.000  \n",
       " NA's   :1305     NA's   :7528      NA's   :377      NA's   :960     \n",
       "       sf              gidp            hitpct      \n",
       " Min.   : 0.000   Min.   : 0.000   Min.   :0.0000  \n",
       " 1st Qu.: 0.000   1st Qu.: 0.000   1st Qu.:0.1944  \n",
       " Median : 1.000   Median : 2.000   Median :0.2537  \n",
       " Mean   : 1.842   Mean   : 4.774   Mean   :0.2340  \n",
       " 3rd Qu.: 3.000   3rd Qu.: 8.000   3rd Qu.:0.2887  \n",
       " Max.   :19.000   Max.   :36.000   Max.   :1.0000  \n",
       " NA's   :7390     NA's   :5272     NA's   :2178    "
      ]
     },
     "metadata": {},
     "output_type": "display_data"
    }
   ],
   "source": [
    "pct <- mutate(players, hitpct = h / ab)\n",
    "head(pct)\n",
    "summary(pct)"
   ]
  },
  {
   "cell_type": "code",
   "execution_count": 10,
   "metadata": {},
   "outputs": [
    {
     "data": {
      "text/html": [
       "<table>\n",
       "<thead><tr><th scope=col>mean(hitpct, na.rm = TRUE)</th></tr></thead>\n",
       "<tbody>\n",
       "\t<tr><td>0.2339838</td></tr>\n",
       "</tbody>\n",
       "</table>\n"
      ],
      "text/latex": [
       "\\begin{tabular}{r|l}\n",
       " mean(hitpct, na.rm = TRUE)\\\\\n",
       "\\hline\n",
       "\t 0.2339838\\\\\n",
       "\\end{tabular}\n"
      ],
      "text/markdown": [
       "\n",
       "mean(hitpct, na.rm = TRUE) | \n",
       "|---|\n",
       "| 0.2339838 | \n",
       "\n",
       "\n"
      ],
      "text/plain": [
       "  mean(hitpct, na.rm = TRUE)\n",
       "1 0.2339838                 "
      ]
     },
     "metadata": {},
     "output_type": "display_data"
    }
   ],
   "source": [
    "summarise(pct, mean(hitpct, na.rm = TRUE))"
   ]
  },
  {
   "cell_type": "code",
   "execution_count": 11,
   "metadata": {},
   "outputs": [
    {
     "data": {
      "text/html": [
       "<table>\n",
       "<thead><tr><th scope=col>hitpct %&gt;% mean(na.rm = TRUE)</th></tr></thead>\n",
       "<tbody>\n",
       "\t<tr><td>0.2339838</td></tr>\n",
       "</tbody>\n",
       "</table>\n"
      ],
      "text/latex": [
       "\\begin{tabular}{r|l}\n",
       " hitpct \\%>\\% mean(na.rm = TRUE)\\\\\n",
       "\\hline\n",
       "\t 0.2339838\\\\\n",
       "\\end{tabular}\n"
      ],
      "text/markdown": [
       "\n",
       "hitpct %>% mean(na.rm = TRUE) | \n",
       "|---|\n",
       "| 0.2339838 | \n",
       "\n",
       "\n"
      ],
      "text/plain": [
       "  hitpct %>% mean(na.rm = TRUE)\n",
       "1 0.2339838                    "
      ]
     },
     "metadata": {},
     "output_type": "display_data"
    }
   ],
   "source": [
    "library(magrittr)\n",
    "pct %>% summarise(hitpct %>% mean(na.rm = TRUE))"
   ]
  },
  {
   "cell_type": "code",
   "execution_count": 12,
   "metadata": {},
   "outputs": [
    {
     "data": {
      "text/html": [
       "<strong>99%:</strong> 0.470588235294118"
      ],
      "text/latex": [
       "\\textbf{99\\textbackslash{}\\%:} 0.470588235294118"
      ],
      "text/markdown": [
       "**99%:** 0.470588235294118"
      ],
      "text/plain": [
       "      99% \n",
       "0.4705882 "
      ]
     },
     "metadata": {},
     "output_type": "display_data"
    }
   ],
   "source": [
    "quantile(pct$hitpct, probs = 0.99, na.rm = TRUE)"
   ]
  },
  {
   "cell_type": "code",
   "execution_count": 13,
   "metadata": {},
   "outputs": [
    {
     "data": {
      "text/html": [
       "<table>\n",
       "<thead><tr><th></th><th scope=col>X</th><th scope=col>id</th><th scope=col>year</th><th scope=col>stint</th><th scope=col>team</th><th scope=col>lg</th><th scope=col>g</th><th scope=col>ab</th><th scope=col>r</th><th scope=col>h</th><th scope=col>...</th><th scope=col>sb</th><th scope=col>cs</th><th scope=col>bb</th><th scope=col>so</th><th scope=col>ibb</th><th scope=col>hbp</th><th scope=col>sh</th><th scope=col>sf</th><th scope=col>gidp</th><th scope=col>hitpct</th></tr></thead>\n",
       "<tbody>\n",
       "\t<tr><th scope=row>44</th><td>23963    </td><td>willicy01</td><td>1930     </td><td>1        </td><td>PHI      </td><td>NL       </td><td>21       </td><td>17       </td><td>1        </td><td>8        </td><td>...      </td><td>0        </td><td>NA       </td><td>4        </td><td> 3       </td><td>NA       </td><td>0        </td><td>0        </td><td>NA       </td><td>NA       </td><td>0.4705882</td></tr>\n",
       "\t<tr><th scope=row>63</th><td>33399    </td><td>grothjo01</td><td>1948     </td><td>1        </td><td>DET      </td><td>AL       </td><td> 6       </td><td>17       </td><td>3        </td><td>8        </td><td>...      </td><td>0        </td><td> 0       </td><td>1        </td><td> 1       </td><td>NA       </td><td>0        </td><td>0        </td><td>NA       </td><td> 0       </td><td>0.4705882</td></tr>\n",
       "\t<tr><th scope=row>82</th><td>41843    </td><td>niemabo01</td><td>1961     </td><td>1        </td><td>SLN      </td><td>NL       </td><td> 6       </td><td>17       </td><td>0        </td><td>8        </td><td>...      </td><td>0        </td><td> 0       </td><td>0        </td><td> 2       </td><td> 0       </td><td>0        </td><td>0        </td><td> 0       </td><td> 0       </td><td>0.4705882</td></tr>\n",
       "\t<tr><th scope=row>6</th><td>11265    </td><td>tanneje01</td><td>1908     </td><td>1        </td><td>BOS      </td><td>AL       </td><td> 1       </td><td> 2       </td><td>0        </td><td>1        </td><td>...      </td><td>0        </td><td>NA       </td><td>0        </td><td>NA       </td><td>NA       </td><td>0        </td><td>0        </td><td>NA       </td><td>NA       </td><td>0.5000000</td></tr>\n",
       "\t<tr><th scope=row>7</th><td>11644    </td><td>jennihu01</td><td>1909     </td><td>1        </td><td>DET      </td><td>AL       </td><td> 2       </td><td> 4       </td><td>1        </td><td>2        </td><td>...      </td><td>0        </td><td>NA       </td><td>0        </td><td>NA       </td><td>NA       </td><td>0        </td><td>0        </td><td>NA       </td><td>NA       </td><td>0.5000000</td></tr>\n",
       "\t<tr><th scope=row>8</th><td>12005    </td><td>raganpa01</td><td>1909     </td><td>1        </td><td>CIN      </td><td>NL       </td><td> 2       </td><td> 2       </td><td>0        </td><td>1        </td><td>...      </td><td>0        </td><td>NA       </td><td>0        </td><td>NA       </td><td>NA       </td><td>0        </td><td>0        </td><td>NA       </td><td>NA       </td><td>0.5000000</td></tr>\n",
       "</tbody>\n",
       "</table>\n"
      ],
      "text/latex": [
       "\\begin{tabular}{r|llllllllllllllllllllllll}\n",
       "  & X & id & year & stint & team & lg & g & ab & r & h & ... & sb & cs & bb & so & ibb & hbp & sh & sf & gidp & hitpct\\\\\n",
       "\\hline\n",
       "\t44 & 23963     & willicy01 & 1930      & 1         & PHI       & NL        & 21        & 17        & 1         & 8         & ...       & 0         & NA        & 4         &  3        & NA        & 0         & 0         & NA        & NA        & 0.4705882\\\\\n",
       "\t63 & 33399     & grothjo01 & 1948      & 1         & DET       & AL        &  6        & 17        & 3         & 8         & ...       & 0         &  0        & 1         &  1        & NA        & 0         & 0         & NA        &  0        & 0.4705882\\\\\n",
       "\t82 & 41843     & niemabo01 & 1961      & 1         & SLN       & NL        &  6        & 17        & 0         & 8         & ...       & 0         &  0        & 0         &  2        &  0        & 0         & 0         &  0        &  0        & 0.4705882\\\\\n",
       "\t6 & 11265     & tanneje01 & 1908      & 1         & BOS       & AL        &  1        &  2        & 0         & 1         & ...       & 0         & NA        & 0         & NA        & NA        & 0         & 0         & NA        & NA        & 0.5000000\\\\\n",
       "\t7 & 11644     & jennihu01 & 1909      & 1         & DET       & AL        &  2        &  4        & 1         & 2         & ...       & 0         & NA        & 0         & NA        & NA        & 0         & 0         & NA        & NA        & 0.5000000\\\\\n",
       "\t8 & 12005     & raganpa01 & 1909      & 1         & CIN       & NL        &  2        &  2        & 0         & 1         & ...       & 0         & NA        & 0         & NA        & NA        & 0         & 0         & NA        & NA        & 0.5000000\\\\\n",
       "\\end{tabular}\n"
      ],
      "text/markdown": [
       "\n",
       "| <!--/--> | X | id | year | stint | team | lg | g | ab | r | h | ... | sb | cs | bb | so | ibb | hbp | sh | sf | gidp | hitpct | \n",
       "|---|---|---|---|---|---|\n",
       "| 44 | 23963     | willicy01 | 1930      | 1         | PHI       | NL        | 21        | 17        | 1         | 8         | ...       | 0         | NA        | 4         |  3        | NA        | 0         | 0         | NA        | NA        | 0.4705882 | \n",
       "| 63 | 33399     | grothjo01 | 1948      | 1         | DET       | AL        |  6        | 17        | 3         | 8         | ...       | 0         |  0        | 1         |  1        | NA        | 0         | 0         | NA        |  0        | 0.4705882 | \n",
       "| 82 | 41843     | niemabo01 | 1961      | 1         | SLN       | NL        |  6        | 17        | 0         | 8         | ...       | 0         |  0        | 0         |  2        |  0        | 0         | 0         |  0        |  0        | 0.4705882 | \n",
       "| 6 | 11265     | tanneje01 | 1908      | 1         | BOS       | AL        |  1        |  2        | 0         | 1         | ...       | 0         | NA        | 0         | NA        | NA        | 0         | 0         | NA        | NA        | 0.5000000 | \n",
       "| 7 | 11644     | jennihu01 | 1909      | 1         | DET       | AL        |  2        |  4        | 1         | 2         | ...       | 0         | NA        | 0         | NA        | NA        | 0         | 0         | NA        | NA        | 0.5000000 | \n",
       "| 8 | 12005     | raganpa01 | 1909      | 1         | CIN       | NL        |  2        |  2        | 0         | 1         | ...       | 0         | NA        | 0         | NA        | NA        | 0         | 0         | NA        | NA        | 0.5000000 | \n",
       "\n",
       "\n"
      ],
      "text/plain": [
       "   X     id        year stint team lg g  ab r h ... sb cs bb so ibb hbp sh sf\n",
       "44 23963 willicy01 1930 1     PHI  NL 21 17 1 8 ... 0  NA 4   3 NA  0   0  NA\n",
       "63 33399 grothjo01 1948 1     DET  AL  6 17 3 8 ... 0   0 1   1 NA  0   0  NA\n",
       "82 41843 niemabo01 1961 1     SLN  NL  6 17 0 8 ... 0   0 0   2  0  0   0   0\n",
       "6  11265 tanneje01 1908 1     BOS  AL  1  2 0 1 ... 0  NA 0  NA NA  0   0  NA\n",
       "7  11644 jennihu01 1909 1     DET  AL  2  4 1 2 ... 0  NA 0  NA NA  0   0  NA\n",
       "8  12005 raganpa01 1909 1     CIN  NL  2  2 0 1 ... 0  NA 0  NA NA  0   0  NA\n",
       "   gidp hitpct   \n",
       "44 NA   0.4705882\n",
       "63  0   0.4705882\n",
       "82  0   0.4705882\n",
       "6  NA   0.5000000\n",
       "7  NA   0.5000000\n",
       "8  NA   0.5000000"
      ]
     },
     "metadata": {},
     "output_type": "display_data"
    },
    {
     "data": {
      "text/html": [
       "198"
      ],
      "text/latex": [
       "198"
      ],
      "text/markdown": [
       "198"
      ],
      "text/plain": [
       "[1] 198"
      ]
     },
     "metadata": {},
     "output_type": "display_data"
    }
   ],
   "source": [
    "top_players <- filter(pct, hitpct > 0.47)\n",
    "top_players <- top_players[order(top_players$hitpct) , ]\n",
    "head(top_players)\n",
    "nrow(top_players)"
   ]
  },
  {
   "cell_type": "code",
   "execution_count": 15,
   "metadata": {},
   "outputs": [
    {
     "data": {
      "text/plain": [
       "      team         hitpct      \n",
       " ALT    :  1   Min.   :0.0000  \n",
       " ANA    :  1   1st Qu.:0.2295  \n",
       " ARI    :  1   Median :0.2463  \n",
       " ATL    :  1   Mean   :0.2477  \n",
       " BAL    :  1   3rd Qu.:0.2729  \n",
       " BFN    :  1   Max.   :0.4186  \n",
       " (Other):126                   "
      ]
     },
     "metadata": {},
     "output_type": "display_data"
    }
   ],
   "source": [
    "teamhitpct <- summarise(group_by(pct, team), mean(hitpct, na.rm = TRUE))\n",
    "names(teamhitpct) <- c(\"team\", \"hitpct\")\n",
    "summary(teamhitpct)"
   ]
  },
  {
   "cell_type": "code",
   "execution_count": 16,
   "metadata": {},
   "outputs": [
    {
     "data": {
      "text/html": [
       "<table>\n",
       "<thead><tr><th scope=col>team</th><th scope=col>hitpct</th></tr></thead>\n",
       "<tbody>\n",
       "\t<tr><td>CNU      </td><td>0.4186047</td></tr>\n",
       "\t<tr><td>PH1      </td><td>0.3419050</td></tr>\n",
       "\t<tr><td>TRO      </td><td>0.3376216</td></tr>\n",
       "\t<tr><td>BS1      </td><td>0.3362452</td></tr>\n",
       "\t<tr><td>RC1      </td><td>0.3250000</td></tr>\n",
       "\t<tr><td>CL1      </td><td>0.3233259</td></tr>\n",
       "</tbody>\n",
       "</table>\n"
      ],
      "text/latex": [
       "\\begin{tabular}{r|ll}\n",
       " team & hitpct\\\\\n",
       "\\hline\n",
       "\t CNU       & 0.4186047\\\\\n",
       "\t PH1       & 0.3419050\\\\\n",
       "\t TRO       & 0.3376216\\\\\n",
       "\t BS1       & 0.3362452\\\\\n",
       "\t RC1       & 0.3250000\\\\\n",
       "\t CL1       & 0.3233259\\\\\n",
       "\\end{tabular}\n"
      ],
      "text/markdown": [
       "\n",
       "team | hitpct | \n",
       "|---|---|---|---|---|---|\n",
       "| CNU       | 0.4186047 | \n",
       "| PH1       | 0.3419050 | \n",
       "| TRO       | 0.3376216 | \n",
       "| BS1       | 0.3362452 | \n",
       "| RC1       | 0.3250000 | \n",
       "| CL1       | 0.3233259 | \n",
       "\n",
       "\n"
      ],
      "text/plain": [
       "  team hitpct   \n",
       "1 CNU  0.4186047\n",
       "2 PH1  0.3419050\n",
       "3 TRO  0.3376216\n",
       "4 BS1  0.3362452\n",
       "5 RC1  0.3250000\n",
       "6 CL1  0.3233259"
      ]
     },
     "metadata": {},
     "output_type": "display_data"
    }
   ],
   "source": [
    "teamhitpct <- teamhitpct[order(-teamhitpct$hitpct) , ]\n",
    "head(teamhitpct)"
   ]
  },
  {
   "cell_type": "code",
   "execution_count": 17,
   "metadata": {},
   "outputs": [
    {
     "data": {
      "text/html": [
       "<strong>99%:</strong> 0.340577141193618"
      ],
      "text/latex": [
       "\\textbf{99\\textbackslash{}\\%:} 0.340577141193618"
      ],
      "text/markdown": [
       "**99%:** 0.340577141193618"
      ],
      "text/plain": [
       "      99% \n",
       "0.3405771 "
      ]
     },
     "metadata": {},
     "output_type": "display_data"
    }
   ],
   "source": [
    "quantile(teamhitpct$hitpct, probs = 0.99)"
   ]
  }
 ],
 "metadata": {
  "kernelspec": {
   "display_name": "R",
   "language": "R",
   "name": "ir"
  },
  "language_info": {
   "codemirror_mode": "r",
   "file_extension": ".r",
   "mimetype": "text/x-r-source",
   "name": "R",
   "pygments_lexer": "r",
   "version": "3.4.2"
  }
 },
 "nbformat": 4,
 "nbformat_minor": 2
}
