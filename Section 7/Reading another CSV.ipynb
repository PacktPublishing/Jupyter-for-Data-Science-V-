{
 "cells": [
  {
   "cell_type": "code",
   "execution_count": 2,
   "metadata": {},
   "outputs": [
    {
     "data": {
      "text/html": [
       "<table>\n",
       "<thead><tr><th scope=col>X</th><th scope=col>id</th><th scope=col>year</th><th scope=col>stint</th><th scope=col>team</th><th scope=col>lg</th><th scope=col>g</th><th scope=col>ab</th><th scope=col>r</th><th scope=col>h</th><th scope=col>...</th><th scope=col>rbi</th><th scope=col>sb</th><th scope=col>cs</th><th scope=col>bb</th><th scope=col>so</th><th scope=col>ibb</th><th scope=col>hbp</th><th scope=col>sh</th><th scope=col>sf</th><th scope=col>gidp</th></tr></thead>\n",
       "<tbody>\n",
       "\t<tr><td>  4      </td><td>ansonca01</td><td>1871     </td><td>1        </td><td>RC1      </td><td>         </td><td>25       </td><td>120      </td><td>29       </td><td>39       </td><td>...      </td><td>16       </td><td>6        </td><td>2        </td><td>2        </td><td>1        </td><td>NA       </td><td>NA       </td><td>NA       </td><td>NA       </td><td>NA       </td></tr>\n",
       "\t<tr><td> 44      </td><td>forceda01</td><td>1871     </td><td>1        </td><td>WS3      </td><td>         </td><td>32       </td><td>162      </td><td>45       </td><td>45       </td><td>...      </td><td>29       </td><td>8        </td><td>0        </td><td>4        </td><td>0        </td><td>NA       </td><td>NA       </td><td>NA       </td><td>NA       </td><td>NA       </td></tr>\n",
       "\t<tr><td> 68      </td><td>mathebo01</td><td>1871     </td><td>1        </td><td>FW1      </td><td>         </td><td>19       </td><td> 89      </td><td>15       </td><td>24       </td><td>...      </td><td>10       </td><td>2        </td><td>1        </td><td>2        </td><td>0        </td><td>NA       </td><td>NA       </td><td>NA       </td><td>NA       </td><td>NA       </td></tr>\n",
       "\t<tr><td> 99      </td><td>startjo01</td><td>1871     </td><td>1        </td><td>NY2      </td><td>         </td><td>33       </td><td>161      </td><td>35       </td><td>58       </td><td>...      </td><td>34       </td><td>4        </td><td>2        </td><td>3        </td><td>0        </td><td>NA       </td><td>NA       </td><td>NA       </td><td>NA       </td><td>NA       </td></tr>\n",
       "\t<tr><td>102      </td><td>suttoez01</td><td>1871     </td><td>1        </td><td>CL1      </td><td>         </td><td>29       </td><td>128      </td><td>35       </td><td>45       </td><td>...      </td><td>23       </td><td>3        </td><td>1        </td><td>1        </td><td>0        </td><td>NA       </td><td>NA       </td><td>NA       </td><td>NA       </td><td>NA       </td></tr>\n",
       "\t<tr><td>106      </td><td>whitede01</td><td>1871     </td><td>1        </td><td>CL1      </td><td>         </td><td>29       </td><td>146      </td><td>40       </td><td>47       </td><td>...      </td><td>21       </td><td>2        </td><td>2        </td><td>4        </td><td>1        </td><td>NA       </td><td>NA       </td><td>NA       </td><td>NA       </td><td>NA       </td></tr>\n",
       "</tbody>\n",
       "</table>\n"
      ],
      "text/latex": [
       "\\begin{tabular}{r|lllllllllllllllllllllll}\n",
       " X & id & year & stint & team & lg & g & ab & r & h & ... & rbi & sb & cs & bb & so & ibb & hbp & sh & sf & gidp\\\\\n",
       "\\hline\n",
       "\t   4       & ansonca01 & 1871      & 1         & RC1       &           & 25        & 120       & 29        & 39        & ...       & 16        & 6         & 2         & 2         & 1         & NA        & NA        & NA        & NA        & NA       \\\\\n",
       "\t  44       & forceda01 & 1871      & 1         & WS3       &           & 32        & 162       & 45        & 45        & ...       & 29        & 8         & 0         & 4         & 0         & NA        & NA        & NA        & NA        & NA       \\\\\n",
       "\t  68       & mathebo01 & 1871      & 1         & FW1       &           & 19        &  89       & 15        & 24        & ...       & 10        & 2         & 1         & 2         & 0         & NA        & NA        & NA        & NA        & NA       \\\\\n",
       "\t  99       & startjo01 & 1871      & 1         & NY2       &           & 33        & 161       & 35        & 58        & ...       & 34        & 4         & 2         & 3         & 0         & NA        & NA        & NA        & NA        & NA       \\\\\n",
       "\t 102       & suttoez01 & 1871      & 1         & CL1       &           & 29        & 128       & 35        & 45        & ...       & 23        & 3         & 1         & 1         & 0         & NA        & NA        & NA        & NA        & NA       \\\\\n",
       "\t 106       & whitede01 & 1871      & 1         & CL1       &           & 29        & 146       & 40        & 47        & ...       & 21        & 2         & 2         & 4         & 1         & NA        & NA        & NA        & NA        & NA       \\\\\n",
       "\\end{tabular}\n"
      ],
      "text/markdown": [
       "\n",
       "X | id | year | stint | team | lg | g | ab | r | h | ... | rbi | sb | cs | bb | so | ibb | hbp | sh | sf | gidp | \n",
       "|---|---|---|---|---|---|\n",
       "|   4       | ansonca01 | 1871      | 1         | RC1       |           | 25        | 120       | 29        | 39        | ...       | 16        | 6         | 2         | 2         | 1         | NA        | NA        | NA        | NA        | NA        | \n",
       "|  44       | forceda01 | 1871      | 1         | WS3       |           | 32        | 162       | 45        | 45        | ...       | 29        | 8         | 0         | 4         | 0         | NA        | NA        | NA        | NA        | NA        | \n",
       "|  68       | mathebo01 | 1871      | 1         | FW1       |           | 19        |  89       | 15        | 24        | ...       | 10        | 2         | 1         | 2         | 0         | NA        | NA        | NA        | NA        | NA        | \n",
       "|  99       | startjo01 | 1871      | 1         | NY2       |           | 33        | 161       | 35        | 58        | ...       | 34        | 4         | 2         | 3         | 0         | NA        | NA        | NA        | NA        | NA        | \n",
       "| 102       | suttoez01 | 1871      | 1         | CL1       |           | 29        | 128       | 35        | 45        | ...       | 23        | 3         | 1         | 1         | 0         | NA        | NA        | NA        | NA        | NA        | \n",
       "| 106       | whitede01 | 1871      | 1         | CL1       |           | 29        | 146       | 40        | 47        | ...       | 21        | 2         | 2         | 4         | 1         | NA        | NA        | NA        | NA        | NA        | \n",
       "\n",
       "\n"
      ],
      "text/plain": [
       "  X   id        year stint team lg g  ab  r  h  ... rbi sb cs bb so ibb hbp sh\n",
       "1   4 ansonca01 1871 1     RC1     25 120 29 39 ... 16  6  2  2  1  NA  NA  NA\n",
       "2  44 forceda01 1871 1     WS3     32 162 45 45 ... 29  8  0  4  0  NA  NA  NA\n",
       "3  68 mathebo01 1871 1     FW1     19  89 15 24 ... 10  2  1  2  0  NA  NA  NA\n",
       "4  99 startjo01 1871 1     NY2     33 161 35 58 ... 34  4  2  3  0  NA  NA  NA\n",
       "5 102 suttoez01 1871 1     CL1     29 128 35 45 ... 23  3  1  1  0  NA  NA  NA\n",
       "6 106 whitede01 1871 1     CL1     29 146 40 47 ... 21  2  2  4  1  NA  NA  NA\n",
       "  sf gidp\n",
       "1 NA NA  \n",
       "2 NA NA  \n",
       "3 NA NA  \n",
       "4 NA NA  \n",
       "5 NA NA  \n",
       "6 NA NA  "
      ]
     },
     "metadata": {},
     "output_type": "display_data"
    }
   ],
   "source": [
    "players <- read.csv(file=\"baseball.csv\", header=TRUE, sep=\",\")\n",
    "head(players)"
   ]
  },
  {
   "cell_type": "code",
   "execution_count": 3,
   "metadata": {},
   "outputs": [
    {
     "data": {
      "text/plain": [
       "       X                 id             year          stint      \n",
       " Min.   :    4   mcguide01:   31   Min.   :1871   Min.   :1.000  \n",
       " 1st Qu.:27080   henderi01:   29   1st Qu.:1937   1st Qu.:1.000  \n",
       " Median :48997   newsobo01:   29   Median :1970   Median :1.000  \n",
       " Mean   :46655   johnto01 :   28   Mean   :1961   Mean   :1.093  \n",
       " 3rd Qu.:65780   kaatji01 :   28   3rd Qu.:1988   3rd Qu.:1.000  \n",
       " Max.   :89534   ansonca01:   27   Max.   :2007   Max.   :4.000  \n",
       "                 (Other)  :21527                                 \n",
       "      team        lg              g                ab              r         \n",
       " CHN    : 1179     :   65   Min.   :  0.00   Min.   :  0.0   Min.   :  0.00  \n",
       " NYA    : 1100   AA:  171   1st Qu.: 29.00   1st Qu.: 25.0   1st Qu.:  2.00  \n",
       " SLN    : 1094   AL:10007   Median : 59.00   Median :131.0   Median : 15.00  \n",
       " PHI    : 1070   FL:   37   Mean   : 72.82   Mean   :225.4   Mean   : 31.78  \n",
       " CIN    : 1030   NL:11378   3rd Qu.:125.00   3rd Qu.:435.0   3rd Qu.: 58.00  \n",
       " PIT    : 1020   PL:   32   Max.   :165.00   Max.   :705.0   Max.   :177.00  \n",
       " (Other):15206   UA:    9                                                    \n",
       "       h               X2b             X3b               hr        \n",
       " Min.   :  0.00   Min.   : 0.00   Min.   : 0.000   Min.   : 0.000  \n",
       " 1st Qu.:  4.00   1st Qu.: 0.00   1st Qu.: 0.000   1st Qu.: 0.000  \n",
       " Median : 32.00   Median : 5.00   Median : 1.000   Median : 1.000  \n",
       " Mean   : 61.76   Mean   :10.45   Mean   : 2.194   Mean   : 5.234  \n",
       " 3rd Qu.:119.00   3rd Qu.:19.00   3rd Qu.: 3.000   3rd Qu.: 7.000  \n",
       " Max.   :257.00   Max.   :64.00   Max.   :28.000   Max.   :73.000  \n",
       "                                                                   \n",
       "      rbi               sb                cs             bb        \n",
       " Min.   :  0.00   Min.   :  0.000   Min.   : 0.0   Min.   :  0.00  \n",
       " 1st Qu.:  1.00   1st Qu.:  0.000   1st Qu.: 0.0   1st Qu.:  1.00  \n",
       " Median : 14.00   Median :  1.000   Median : 0.0   Median : 11.00  \n",
       " Mean   : 29.59   Mean   :  5.168   Mean   : 2.1   Mean   : 22.49  \n",
       " 3rd Qu.: 51.00   3rd Qu.:  5.000   3rd Qu.: 3.0   3rd Qu.: 38.00  \n",
       " Max.   :184.00   Max.   :130.000   Max.   :42.0   Max.   :232.00  \n",
       " NA's   :12       NA's   :250       NA's   :4525                   \n",
       "       so              ibb               hbp               sh        \n",
       " Min.   :  0.00   Min.   :  0.000   Min.   : 0.000   Min.   : 0.000  \n",
       " 1st Qu.:  4.00   1st Qu.:  0.000   1st Qu.: 0.000   1st Qu.: 0.000  \n",
       " Median : 19.00   Median :  0.000   Median : 0.000   Median : 1.000  \n",
       " Mean   : 29.26   Mean   :  2.292   Mean   : 1.543   Mean   : 3.388  \n",
       " 3rd Qu.: 45.00   3rd Qu.:  3.000   3rd Qu.: 2.000   3rd Qu.: 5.000  \n",
       " Max.   :189.00   Max.   :120.000   Max.   :51.000   Max.   :52.000  \n",
       " NA's   :1305     NA's   :7528      NA's   :377      NA's   :960     \n",
       "       sf              gidp       \n",
       " Min.   : 0.000   Min.   : 0.000  \n",
       " 1st Qu.: 0.000   1st Qu.: 0.000  \n",
       " Median : 1.000   Median : 2.000  \n",
       " Mean   : 1.842   Mean   : 4.774  \n",
       " 3rd Qu.: 3.000   3rd Qu.: 8.000  \n",
       " Max.   :19.000   Max.   :36.000  \n",
       " NA's   :7390     NA's   :5272    "
      ]
     },
     "metadata": {},
     "output_type": "display_data"
    }
   ],
   "source": [
    "summary(players)"
   ]
  },
  {
   "cell_type": "code",
   "execution_count": 4,
   "metadata": {},
   "outputs": [
    {
     "data": {
      "image/png": "[encoded data removed]",
      "text/plain": [
       "Plot with title \"Hits\""
      ]
     },
     "metadata": {},
     "output_type": "display_data"
    }
   ],
   "source": [
    "plot(players$h, type=\"l\", col=\"blue\")\n",
    "\n",
    "\n",
    "lines(players$X2b, type=\"l\", col=\"yellow\")\n",
    "\n",
    "\n",
    "lines(players$hr, type=\"l\", col=\"green\")\n",
    "\n",
    "\n",
    "lines(players$X3b, type=\"l\", col=\"red\")\n",
    "\n",
    "\n",
    "title(main=\"Hits\", font.main=4)"
   ]
  },
  {
   "cell_type": "code",
   "execution_count": 5,
   "metadata": {},
   "outputs": [
    {
     "data": {
      "text/html": [
       "376.742484464001"
      ],
      "text/latex": [
       "376.742484464001"
      ],
      "text/markdown": [
       "376.742484464001"
      ],
      "text/plain": [
       "[1] 376.7425"
      ]
     },
     "metadata": {},
     "output_type": "display_data"
    }
   ],
   "source": [
    "cov(players$h,players$hr)"
   ]
  },
  {
   "cell_type": "code",
   "execution_count": null,
   "metadata": {},
   "outputs": [],
   "source": []
  }
 ],
 "metadata": {
  "kernelspec": {
   "display_name": "R",
   "language": "R",
   "name": "ir"
  },
  "language_info": {
   "codemirror_mode": "r",
   "file_extension": ".r",
   "mimetype": "text/x-r-source",
   "name": "R",
   "pygments_lexer": "r",
   "version": "3.4.2"
  }
 },
 "nbformat": 4,
 "nbformat_minor": 2
}
