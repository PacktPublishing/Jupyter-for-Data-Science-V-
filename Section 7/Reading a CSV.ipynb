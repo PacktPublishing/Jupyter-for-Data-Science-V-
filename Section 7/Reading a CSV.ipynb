{
 "cells": [
  {
   "cell_type": "code",
   "execution_count": 1,
   "metadata": {
    "scrolled": true
   },
   "outputs": [
    {
     "data": {
      "text/html": [
       "<table>\n",
       "<thead><tr><th scope=col>X</th><th scope=col>idcase</th><th scope=col>depvar</th><th scope=col>ic.gc</th><th scope=col>ic.gr</th><th scope=col>ic.ec</th><th scope=col>ic.er</th><th scope=col>ic.hp</th><th scope=col>oc.gc</th><th scope=col>oc.gr</th><th scope=col>...</th><th scope=col>oc.hp</th><th scope=col>income</th><th scope=col>agehed</th><th scope=col>rooms</th><th scope=col>region</th><th scope=col>pb.gc</th><th scope=col>pb.gr</th><th scope=col>pb.ec</th><th scope=col>pb.er</th><th scope=col>pb.hp</th></tr></thead>\n",
       "<tbody>\n",
       "\t<tr><td>1       </td><td>1       </td><td>gc      </td><td>866.00  </td><td>962.64  </td><td>859.90  </td><td>995.76  </td><td>1135.50 </td><td>199.69  </td><td>151.72  </td><td>...     </td><td>237.88  </td><td>7       </td><td>25      </td><td>6       </td><td>ncostl  </td><td>4.336722</td><td>6.344846</td><td>1.554017</td><td>1.969462</td><td>4.773415</td></tr>\n",
       "\t<tr><td>2       </td><td>2       </td><td>gc      </td><td>727.93  </td><td>758.89  </td><td>796.82  </td><td>894.69  </td><td> 968.90 </td><td>168.66  </td><td>168.66  </td><td>...     </td><td>199.19  </td><td>5       </td><td>60      </td><td>5       </td><td>scostl  </td><td>4.315961</td><td>4.499526</td><td>1.531639</td><td>1.839072</td><td>4.864200</td></tr>\n",
       "\t<tr><td>3       </td><td>3       </td><td>gc      </td><td>599.48  </td><td>783.05  </td><td>719.86  </td><td>900.11  </td><td>1048.30 </td><td>165.58  </td><td>137.80  </td><td>...     </td><td>171.47  </td><td>4       </td><td>65      </td><td>2       </td><td>ncostl  </td><td>3.620486</td><td>5.682511</td><td>1.639548</td><td>2.223922</td><td>6.113606</td></tr>\n",
       "\t<tr><td>4       </td><td>4       </td><td>er      </td><td>835.17  </td><td>793.06  </td><td>761.25  </td><td>831.04  </td><td>1048.70 </td><td>180.88  </td><td>147.14  </td><td>...     </td><td>222.95  </td><td>2       </td><td>50      </td><td>4       </td><td>scostl  </td><td>4.617260</td><td>5.389833</td><td>1.576087</td><td>1.954377</td><td>4.703745</td></tr>\n",
       "\t<tr><td>5       </td><td>5       </td><td>er      </td><td>755.59  </td><td>846.29  </td><td>858.86  </td><td>985.64  </td><td> 883.05 </td><td>174.91  </td><td>138.90  </td><td>...     </td><td>178.49  </td><td>2       </td><td>25      </td><td>6       </td><td>valley  </td><td>4.319879</td><td>6.092801</td><td>2.123736</td><td>2.530396</td><td>4.947336</td></tr>\n",
       "\t<tr><td>6       </td><td>6       </td><td>gc      </td><td>666.11  </td><td>841.71  </td><td>693.74  </td><td>862.56  </td><td> 859.18 </td><td>135.67  </td><td>140.97  </td><td>...     </td><td>209.27  </td><td>6       </td><td>65      </td><td>7       </td><td>scostl  </td><td>4.909781</td><td>5.970845</td><td>1.742102</td><td>2.324709</td><td>4.105605</td></tr>\n",
       "</tbody>\n",
       "</table>\n"
      ],
      "text/latex": [
       "\\begin{tabular}{r|llllllllllllllllllllll}\n",
       " X & idcase & depvar & ic.gc & ic.gr & ic.ec & ic.er & ic.hp & oc.gc & oc.gr & ... & oc.hp & income & agehed & rooms & region & pb.gc & pb.gr & pb.ec & pb.er & pb.hp\\\\\n",
       "\\hline\n",
       "\t 1        & 1        & gc       & 866.00   & 962.64   & 859.90   & 995.76   & 1135.50  & 199.69   & 151.72   & ...      & 237.88   & 7        & 25       & 6        & ncostl   & 4.336722 & 6.344846 & 1.554017 & 1.969462 & 4.773415\\\\\n",
       "\t 2        & 2        & gc       & 727.93   & 758.89   & 796.82   & 894.69   &  968.90  & 168.66   & 168.66   & ...      & 199.19   & 5        & 60       & 5        & scostl   & 4.315961 & 4.499526 & 1.531639 & 1.839072 & 4.864200\\\\\n",
       "\t 3        & 3        & gc       & 599.48   & 783.05   & 719.86   & 900.11   & 1048.30  & 165.58   & 137.80   & ...      & 171.47   & 4        & 65       & 2        & ncostl   & 3.620486 & 5.682511 & 1.639548 & 2.223922 & 6.113606\\\\\n",
       "\t 4        & 4        & er       & 835.17   & 793.06   & 761.25   & 831.04   & 1048.70  & 180.88   & 147.14   & ...      & 222.95   & 2        & 50       & 4        & scostl   & 4.617260 & 5.389833 & 1.576087 & 1.954377 & 4.703745\\\\\n",
       "\t 5        & 5        & er       & 755.59   & 846.29   & 858.86   & 985.64   &  883.05  & 174.91   & 138.90   & ...      & 178.49   & 2        & 25       & 6        & valley   & 4.319879 & 6.092801 & 2.123736 & 2.530396 & 4.947336\\\\\n",
       "\t 6        & 6        & gc       & 666.11   & 841.71   & 693.74   & 862.56   &  859.18  & 135.67   & 140.97   & ...      & 209.27   & 6        & 65       & 7        & scostl   & 4.909781 & 5.970845 & 1.742102 & 2.324709 & 4.105605\\\\\n",
       "\\end{tabular}\n"
      ],
      "text/markdown": [
       "\n",
       "X | idcase | depvar | ic.gc | ic.gr | ic.ec | ic.er | ic.hp | oc.gc | oc.gr | ... | oc.hp | income | agehed | rooms | region | pb.gc | pb.gr | pb.ec | pb.er | pb.hp | \n",
       "|---|---|---|---|---|---|\n",
       "| 1        | 1        | gc       | 866.00   | 962.64   | 859.90   | 995.76   | 1135.50  | 199.69   | 151.72   | ...      | 237.88   | 7        | 25       | 6        | ncostl   | 4.336722 | 6.344846 | 1.554017 | 1.969462 | 4.773415 | \n",
       "| 2        | 2        | gc       | 727.93   | 758.89   | 796.82   | 894.69   |  968.90  | 168.66   | 168.66   | ...      | 199.19   | 5        | 60       | 5        | scostl   | 4.315961 | 4.499526 | 1.531639 | 1.839072 | 4.864200 | \n",
       "| 3        | 3        | gc       | 599.48   | 783.05   | 719.86   | 900.11   | 1048.30  | 165.58   | 137.80   | ...      | 171.47   | 4        | 65       | 2        | ncostl   | 3.620486 | 5.682511 | 1.639548 | 2.223922 | 6.113606 | \n",
       "| 4        | 4        | er       | 835.17   | 793.06   | 761.25   | 831.04   | 1048.70  | 180.88   | 147.14   | ...      | 222.95   | 2        | 50       | 4        | scostl   | 4.617260 | 5.389833 | 1.576087 | 1.954377 | 4.703745 | \n",
       "| 5        | 5        | er       | 755.59   | 846.29   | 858.86   | 985.64   |  883.05  | 174.91   | 138.90   | ...      | 178.49   | 2        | 25       | 6        | valley   | 4.319879 | 6.092801 | 2.123736 | 2.530396 | 4.947336 | \n",
       "| 6        | 6        | gc       | 666.11   | 841.71   | 693.74   | 862.56   |  859.18  | 135.67   | 140.97   | ...      | 209.27   | 6        | 65       | 7        | scostl   | 4.909781 | 5.970845 | 1.742102 | 2.324709 | 4.105605 | \n",
       "\n",
       "\n"
      ],
      "text/plain": [
       "  X idcase depvar ic.gc  ic.gr  ic.ec  ic.er  ic.hp   oc.gc  oc.gr  ... oc.hp \n",
       "1 1 1      gc     866.00 962.64 859.90 995.76 1135.50 199.69 151.72 ... 237.88\n",
       "2 2 2      gc     727.93 758.89 796.82 894.69  968.90 168.66 168.66 ... 199.19\n",
       "3 3 3      gc     599.48 783.05 719.86 900.11 1048.30 165.58 137.80 ... 171.47\n",
       "4 4 4      er     835.17 793.06 761.25 831.04 1048.70 180.88 147.14 ... 222.95\n",
       "5 5 5      er     755.59 846.29 858.86 985.64  883.05 174.91 138.90 ... 178.49\n",
       "6 6 6      gc     666.11 841.71 693.74 862.56  859.18 135.67 140.97 ... 209.27\n",
       "  income agehed rooms region pb.gc    pb.gr    pb.ec    pb.er    pb.hp   \n",
       "1 7      25     6     ncostl 4.336722 6.344846 1.554017 1.969462 4.773415\n",
       "2 5      60     5     scostl 4.315961 4.499526 1.531639 1.839072 4.864200\n",
       "3 4      65     2     ncostl 3.620486 5.682511 1.639548 2.223922 6.113606\n",
       "4 2      50     4     scostl 4.617260 5.389833 1.576087 1.954377 4.703745\n",
       "5 2      25     6     valley 4.319879 6.092801 2.123736 2.530396 4.947336\n",
       "6 6      65     7     scostl 4.909781 5.970845 1.742102 2.324709 4.105605"
      ]
     },
     "metadata": {},
     "output_type": "display_data"
    }
   ],
   "source": [
    "heating <- read.csv(file=\"heating.csv\", header=TRUE, sep=\",\")\n",
    "head(heating)"
   ]
  },
  {
   "cell_type": "code",
   "execution_count": 2,
   "metadata": {},
   "outputs": [
    {
     "data": {
      "text/html": [
       "<table>\n",
       "<thead><tr><th scope=col>X</th><th scope=col>system</th><th scope=col>install_cost</th><th scope=col>annual_cost</th><th scope=col>income</th><th scope=col>agehed</th><th scope=col>rooms</th><th scope=col>region</th><th scope=col>ratio_annual_install</th></tr></thead>\n",
       "<tbody>\n",
       "\t<tr><td>1       </td><td>gc      </td><td>866.00  </td><td>199.69  </td><td>7       </td><td>25      </td><td>6       </td><td>ncostl  </td><td>4.336722</td></tr>\n",
       "\t<tr><td>2       </td><td>gc      </td><td>727.93  </td><td>168.66  </td><td>5       </td><td>60      </td><td>5       </td><td>scostl  </td><td>4.315961</td></tr>\n",
       "\t<tr><td>3       </td><td>gc      </td><td>599.48  </td><td>165.58  </td><td>4       </td><td>65      </td><td>2       </td><td>ncostl  </td><td>3.620486</td></tr>\n",
       "\t<tr><td>4       </td><td>er      </td><td>835.17  </td><td>180.88  </td><td>2       </td><td>50      </td><td>4       </td><td>scostl  </td><td>4.617260</td></tr>\n",
       "\t<tr><td>5       </td><td>er      </td><td>755.59  </td><td>174.91  </td><td>2       </td><td>25      </td><td>6       </td><td>valley  </td><td>4.319879</td></tr>\n",
       "\t<tr><td>6       </td><td>gc      </td><td>666.11  </td><td>135.67  </td><td>6       </td><td>65      </td><td>7       </td><td>scostl  </td><td>4.909781</td></tr>\n",
       "</tbody>\n",
       "</table>\n"
      ],
      "text/latex": [
       "\\begin{tabular}{r|lllllllll}\n",
       " X & system & install\\_cost & annual\\_cost & income & agehed & rooms & region & ratio\\_annual\\_install\\\\\n",
       "\\hline\n",
       "\t 1        & gc       & 866.00   & 199.69   & 7        & 25       & 6        & ncostl   & 4.336722\\\\\n",
       "\t 2        & gc       & 727.93   & 168.66   & 5        & 60       & 5        & scostl   & 4.315961\\\\\n",
       "\t 3        & gc       & 599.48   & 165.58   & 4        & 65       & 2        & ncostl   & 3.620486\\\\\n",
       "\t 4        & er       & 835.17   & 180.88   & 2        & 50       & 4        & scostl   & 4.617260\\\\\n",
       "\t 5        & er       & 755.59   & 174.91   & 2        & 25       & 6        & valley   & 4.319879\\\\\n",
       "\t 6        & gc       & 666.11   & 135.67   & 6        & 65       & 7        & scostl   & 4.909781\\\\\n",
       "\\end{tabular}\n"
      ],
      "text/markdown": [
       "\n",
       "X | system | install_cost | annual_cost | income | agehed | rooms | region | ratio_annual_install | \n",
       "|---|---|---|---|---|---|\n",
       "| 1        | gc       | 866.00   | 199.69   | 7        | 25       | 6        | ncostl   | 4.336722 | \n",
       "| 2        | gc       | 727.93   | 168.66   | 5        | 60       | 5        | scostl   | 4.315961 | \n",
       "| 3        | gc       | 599.48   | 165.58   | 4        | 65       | 2        | ncostl   | 3.620486 | \n",
       "| 4        | er       | 835.17   | 180.88   | 2        | 50       | 4        | scostl   | 4.617260 | \n",
       "| 5        | er       | 755.59   | 174.91   | 2        | 25       | 6        | valley   | 4.319879 | \n",
       "| 6        | gc       | 666.11   | 135.67   | 6        | 65       | 7        | scostl   | 4.909781 | \n",
       "\n",
       "\n"
      ],
      "text/plain": [
       "  X system install_cost annual_cost income agehed rooms region\n",
       "1 1 gc     866.00       199.69      7      25     6     ncostl\n",
       "2 2 gc     727.93       168.66      5      60     5     scostl\n",
       "3 3 gc     599.48       165.58      4      65     2     ncostl\n",
       "4 4 er     835.17       180.88      2      50     4     scostl\n",
       "5 5 er     755.59       174.91      2      25     6     valley\n",
       "6 6 gc     666.11       135.67      6      65     7     scostl\n",
       "  ratio_annual_install\n",
       "1 4.336722            \n",
       "2 4.315961            \n",
       "3 3.620486            \n",
       "4 4.617260            \n",
       "5 4.319879            \n",
       "6 4.909781            "
      ]
     },
     "metadata": {},
     "output_type": "display_data"
    }
   ],
   "source": [
    "colnames(heating)[colnames(heating)==\"depvar\"] <- \"system\"\n",
    "colnames(heating)[colnames(heating)==\"ic.gc\"] <- \"install_cost\"\n",
    "colnames(heating)[colnames(heating)==\"oc.gc\"] <- \"annual_cost\"\n",
    "colnames(heating)[colnames(heating)==\"pb.gc\"] <- \"ratio_annual_install\"\n",
    "\n",
    "heating$idcase <- NULL\n",
    "heating$ic.gr <- NULL\n",
    "heating$ic.ec <- NULL\n",
    "heating$ic.hp <- NULL\n",
    "heating$ic.er <- NULL\n",
    "heating$oc.gr <- NULL\n",
    "heating$oc.ec <- NULL\n",
    "heating$oc.hp <- NULL\n",
    "heating$oc.er <- NULL\n",
    "heating$pb.gr <- NULL\n",
    "heating$pb.ec <- NULL\n",
    "heating$pb.er <- NULL\n",
    "heating$pb.hp <- NULL\n",
    "\n",
    "head(heating)"
   ]
  },
  {
   "cell_type": "code",
   "execution_count": 3,
   "metadata": {},
   "outputs": [
    {
     "data": {
      "text/plain": [
       "       X         system    install_cost     annual_cost         income     \n",
       " Min.   :  1.0   ec: 64   Min.   : 431.8   Min.   : 84.02   Min.   :2.000  \n",
       " 1st Qu.:225.8   er: 84   1st Qu.: 696.3   1st Qu.:155.75   1st Qu.:3.000  \n",
       " Median :450.5   gc:573   Median : 778.5   Median :172.10   Median :5.000  \n",
       " Mean   :450.5   gr:129   Mean   : 776.8   Mean   :172.12   Mean   :4.641  \n",
       " 3rd Qu.:675.2   hp: 50   3rd Qu.: 855.3   3rd Qu.:189.18   3rd Qu.:6.000  \n",
       " Max.   :900.0            Max.   :1158.9   Max.   :248.43   Max.   :7.000  \n",
       "     agehed          rooms          region    ratio_annual_install\n",
       " Min.   :20.00   Min.   :2.000   mountn:102   Min.   :3.146       \n",
       " 1st Qu.:30.00   1st Qu.:3.000   ncostl:260   1st Qu.:4.193       \n",
       " Median :45.00   Median :4.000   scostl:361   Median :4.504       \n",
       " Mean   :42.94   Mean   :4.424   valley:177   Mean   :4.548       \n",
       " 3rd Qu.:55.00   3rd Qu.:6.000                3rd Qu.:4.854       \n",
       " Max.   :65.00   Max.   :7.000                Max.   :8.646       "
      ]
     },
     "metadata": {},
     "output_type": "display_data"
    }
   ],
   "source": [
    "summary(heating)"
   ]
  },
  {
   "cell_type": "code",
   "execution_count": 4,
   "metadata": {},
   "outputs": [
    {
     "data": {
      "image/png": "[encoded data removed]",
      "text/plain": [
       "plot without title"
      ]
     },
     "metadata": {},
     "output_type": "display_data"
    }
   ],
   "source": [
    "plot(heating)"
   ]
  },
  {
   "cell_type": "code",
   "execution_count": 5,
   "metadata": {},
   "outputs": [
    {
     "data": {
      "text/html": [
       "2131.22417251413"
      ],
      "text/latex": [
       "2131.22417251413"
      ],
      "text/markdown": [
       "2131.22417251413"
      ],
      "text/plain": [
       "[1] 2131.224"
      ]
     },
     "metadata": {},
     "output_type": "display_data"
    }
   ],
   "source": [
    "cov(heating$install_cost, heating$annual_cost) "
   ]
  },
  {
   "cell_type": "code",
   "execution_count": null,
   "metadata": {},
   "outputs": [],
   "source": []
  }
 ],
 "metadata": {
  "kernelspec": {
   "display_name": "R",
   "language": "R",
   "name": "ir"
  },
  "language_info": {
   "codemirror_mode": "r",
   "file_extension": ".r",
   "mimetype": "text/x-r-source",
   "name": "R",
   "pygments_lexer": "r",
   "version": "3.4.2"
  }
 },
 "nbformat": 4,
 "nbformat_minor": 2
}
