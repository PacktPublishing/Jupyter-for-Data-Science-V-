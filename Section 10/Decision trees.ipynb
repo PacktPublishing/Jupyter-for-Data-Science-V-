{
 "cells": [
  {
   "cell_type": "code",
   "execution_count": 15,
   "metadata": {},
   "outputs": [],
   "source": [
    "library(rpart)\n",
    "library(caret)\n",
    "set.seed(3277)"
   ]
  },
  {
   "cell_type": "code",
   "execution_count": 16,
   "metadata": {},
   "outputs": [
    {
     "data": {
      "text/html": [
       "33"
      ],
      "text/latex": [
       "33"
      ],
      "text/markdown": [
       "33"
      ],
      "text/plain": [
       "[1] 33"
      ]
     },
     "metadata": {},
     "output_type": "display_data"
    },
    {
     "data": {
      "text/html": [
       "9"
      ],
      "text/latex": [
       "9"
      ],
      "text/markdown": [
       "9"
      ],
      "text/plain": [
       "[1] 9"
      ]
     },
     "metadata": {},
     "output_type": "display_data"
    }
   ],
   "source": [
    "carmpg <- read.csv(\"car-mpg.csv\")\n",
    "indices <- createDataPartition(carmpg$mpg, p=0.75, list=FALSE)\n",
    "training <- carmpg[indices,]\n",
    "testing <- carmpg[-indices,]\n",
    "nrow(training)\n",
    "nrow(testing)"
   ]
  },
  {
   "cell_type": "code",
   "execution_count": 17,
   "metadata": {},
   "outputs": [
    {
     "data": {
      "text/plain": [
       "n= 33 \n",
       "\n",
       "node), split, n, deviance, yval\n",
       "      * denotes terminal node\n",
       "\n",
       "1) root 33 26.727270 1.909091  \n",
       "  2) weight>=3121.5 10  0.000000 1.000000 *\n",
       "  3) weight< 3121.5 23 14.869570 2.304348  \n",
       "    6) modelyear>=78.5 9  4.888889 1.888889 *\n",
       "    7) modelyear< 78.5 14  7.428571 2.571429 *"
      ]
     },
     "metadata": {},
     "output_type": "display_data"
    }
   ],
   "source": [
    "fit <- rpart(mpg ~ cylinders + displacement + horsepower + weight + acceleration + modelyear + maker,\n",
    "             method=\"anova\", data=training)\n",
    "fit"
   ]
  },
  {
   "cell_type": "code",
   "execution_count": 18,
   "metadata": {},
   "outputs": [
    {
     "data": {
      "image/png": "[encoded data removed]",
      "text/plain": [
       "plot without title"
      ]
     },
     "metadata": {},
     "output_type": "display_data"
    }
   ],
   "source": [
    "plot(fit)\n",
    "text(fit, use.n=TRUE, all=TRUE, cex=.5)"
   ]
  },
  {
   "cell_type": "code",
   "execution_count": 19,
   "metadata": {},
   "outputs": [
    {
     "data": {
      "text/html": [
       "<dl class=dl-horizontal>\n",
       "\t<dt>1</dt>\n",
       "\t\t<dd>1</dd>\n",
       "\t<dt>3</dt>\n",
       "\t\t<dd>1</dd>\n",
       "\t<dt>7</dt>\n",
       "\t\t<dd>1</dd>\n",
       "\t<dt>8</dt>\n",
       "\t\t<dd>1</dd>\n",
       "\t<dt>24</dt>\n",
       "\t\t<dd>1.88888888888889</dd>\n",
       "\t<dt>28</dt>\n",
       "\t\t<dd>2.57142857142857</dd>\n",
       "\t<dt>32</dt>\n",
       "\t\t<dd>2.57142857142857</dd>\n",
       "\t<dt>39</dt>\n",
       "\t\t<dd>1.88888888888889</dd>\n",
       "\t<dt>40</dt>\n",
       "\t\t<dd>1.88888888888889</dd>\n",
       "</dl>\n"
      ],
      "text/latex": [
       "\\begin{description*}\n",
       "\\item[1] 1\n",
       "\\item[3] 1\n",
       "\\item[7] 1\n",
       "\\item[8] 1\n",
       "\\item[24] 1.88888888888889\n",
       "\\item[28] 2.57142857142857\n",
       "\\item[32] 2.57142857142857\n",
       "\\item[39] 1.88888888888889\n",
       "\\item[40] 1.88888888888889\n",
       "\\end{description*}\n"
      ],
      "text/markdown": [
       "1\n",
       ":   13\n",
       ":   17\n",
       ":   18\n",
       ":   124\n",
       ":   1.8888888888888928\n",
       ":   2.5714285714285732\n",
       ":   2.5714285714285739\n",
       ":   1.8888888888888940\n",
       ":   1.88888888888889\n",
       "\n"
      ],
      "text/plain": [
       "       1        3        7        8       24       28       32       39 \n",
       "1.000000 1.000000 1.000000 1.000000 1.888889 2.571429 2.571429 1.888889 \n",
       "      40 \n",
       "1.888889 "
      ]
     },
     "metadata": {},
     "output_type": "display_data"
    },
    {
     "data": {
      "text/html": [
       "<table>\n",
       "<thead><tr><th></th><th scope=col>mpg</th><th scope=col>cylinders</th><th scope=col>displacement</th><th scope=col>horsepower</th><th scope=col>weight</th><th scope=col>acceleration</th><th scope=col>modelyear</th><th scope=col>maker</th></tr></thead>\n",
       "<tbody>\n",
       "\t<tr><th scope=row>1</th><td>Bad    </td><td>8      </td><td>350    </td><td>150    </td><td>4699   </td><td>14.5   </td><td>74     </td><td>America</td></tr>\n",
       "\t<tr><th scope=row>3</th><td>Bad    </td><td>8      </td><td>400    </td><td>175    </td><td>4385   </td><td>12.0   </td><td>72     </td><td>America</td></tr>\n",
       "\t<tr><th scope=row>7</th><td>Bad    </td><td>6      </td><td>250    </td><td>105    </td><td>3897   </td><td>18.5   </td><td>75     </td><td>America</td></tr>\n",
       "\t<tr><th scope=row>8</th><td>Bad    </td><td>6      </td><td>163    </td><td>133    </td><td>3410   </td><td>15.8   </td><td>78     </td><td>Asia   </td></tr>\n",
       "\t<tr><th scope=row>24</th><td>OK     </td><td>6      </td><td>146    </td><td>120    </td><td>2930   </td><td>13.8   </td><td>81     </td><td>Europe </td></tr>\n",
       "\t<tr><th scope=row>28</th><td>OK     </td><td>4      </td><td> 97    </td><td> 60    </td><td>1834   </td><td>19.0   </td><td>71     </td><td>Asia   </td></tr>\n",
       "\t<tr><th scope=row>32</th><td>OK     </td><td>4      </td><td> 98    </td><td> 83    </td><td>2219   </td><td>16.5   </td><td>74     </td><td>Asia   </td></tr>\n",
       "\t<tr><th scope=row>39</th><td>Good   </td><td>4      </td><td>135    </td><td> 84    </td><td>2370   </td><td>13.0   </td><td>82     </td><td>America</td></tr>\n",
       "\t<tr><th scope=row>40</th><td>Good   </td><td>4      </td><td>105    </td><td> 63    </td><td>2125   </td><td>14.7   </td><td>82     </td><td>America</td></tr>\n",
       "</tbody>\n",
       "</table>\n"
      ],
      "text/latex": [
       "\\begin{tabular}{r|llllllll}\n",
       "  & mpg & cylinders & displacement & horsepower & weight & acceleration & modelyear & maker\\\\\n",
       "\\hline\n",
       "\t1 & Bad     & 8       & 350     & 150     & 4699    & 14.5    & 74      & America\\\\\n",
       "\t3 & Bad     & 8       & 400     & 175     & 4385    & 12.0    & 72      & America\\\\\n",
       "\t7 & Bad     & 6       & 250     & 105     & 3897    & 18.5    & 75      & America\\\\\n",
       "\t8 & Bad     & 6       & 163     & 133     & 3410    & 15.8    & 78      & Asia   \\\\\n",
       "\t24 & OK      & 6       & 146     & 120     & 2930    & 13.8    & 81      & Europe \\\\\n",
       "\t28 & OK      & 4       &  97     &  60     & 1834    & 19.0    & 71      & Asia   \\\\\n",
       "\t32 & OK      & 4       &  98     &  83     & 2219    & 16.5    & 74      & Asia   \\\\\n",
       "\t39 & Good    & 4       & 135     &  84     & 2370    & 13.0    & 82      & America\\\\\n",
       "\t40 & Good    & 4       & 105     &  63     & 2125    & 14.7    & 82      & America\\\\\n",
       "\\end{tabular}\n"
      ],
      "text/markdown": [
       "\n",
       "| <!--/--> | mpg | cylinders | displacement | horsepower | weight | acceleration | modelyear | maker | \n",
       "|---|---|---|---|---|---|---|---|---|\n",
       "| 1 | Bad     | 8       | 350     | 150     | 4699    | 14.5    | 74      | America | \n",
       "| 3 | Bad     | 8       | 400     | 175     | 4385    | 12.0    | 72      | America | \n",
       "| 7 | Bad     | 6       | 250     | 105     | 3897    | 18.5    | 75      | America | \n",
       "| 8 | Bad     | 6       | 163     | 133     | 3410    | 15.8    | 78      | Asia    | \n",
       "| 24 | OK      | 6       | 146     | 120     | 2930    | 13.8    | 81      | Europe  | \n",
       "| 28 | OK      | 4       |  97     |  60     | 1834    | 19.0    | 71      | Asia    | \n",
       "| 32 | OK      | 4       |  98     |  83     | 2219    | 16.5    | 74      | Asia    | \n",
       "| 39 | Good    | 4       | 135     |  84     | 2370    | 13.0    | 82      | America | \n",
       "| 40 | Good    | 4       | 105     |  63     | 2125    | 14.7    | 82      | America | \n",
       "\n",
       "\n"
      ],
      "text/plain": [
       "   mpg  cylinders displacement horsepower weight acceleration modelyear maker  \n",
       "1  Bad  8         350          150        4699   14.5         74        America\n",
       "3  Bad  8         400          175        4385   12.0         72        America\n",
       "7  Bad  6         250          105        3897   18.5         75        America\n",
       "8  Bad  6         163          133        3410   15.8         78        Asia   \n",
       "24 OK   6         146          120        2930   13.8         81        Europe \n",
       "28 OK   4          97           60        1834   19.0         71        Asia   \n",
       "32 OK   4          98           83        2219   16.5         74        Asia   \n",
       "39 Good 4         135           84        2370   13.0         82        America\n",
       "40 Good 4         105           63        2125   14.7         82        America"
      ]
     },
     "metadata": {},
     "output_type": "display_data"
    }
   ],
   "source": [
    "predicted <- predict(fit, newdata=testing)\n",
    "predicted\n",
    "testing"
   ]
  }
 ],
 "metadata": {
  "kernelspec": {
   "display_name": "R",
   "language": "R",
   "name": "ir"
  },
  "language_info": {
   "codemirror_mode": "r",
   "file_extension": ".r",
   "mimetype": "text/x-r-source",
   "name": "R",
   "pygments_lexer": "r",
   "version": "3.4.2"
  }
 },
 "nbformat": 4,
 "nbformat_minor": 2
}
