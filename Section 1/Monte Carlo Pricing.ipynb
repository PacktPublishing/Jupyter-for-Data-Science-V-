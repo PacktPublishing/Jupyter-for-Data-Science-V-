{
 "cells": [
  {
   "cell_type": "code",
   "execution_count": 1,
   "metadata": {},
   "outputs": [
    {
     "name": "stdout",
     "output_type": "stream",
     "text": [
      "Price: 14.4452\n"
     ]
    }
   ],
   "source": [
    "import datetime\n",
    "import random \n",
    "import math \n",
    "\n",
    "random.seed(103)\n",
    "\n",
    "def generate_asset_price(S,v,r,T):\n",
    "    return S * math.exp((r - 0.5 * v**2) * T + v * math.sqrt(T) * random.gauss(0,1.0))\n",
    "\n",
    "def call_payoff(S_T,K):\n",
    "    return max(0.0,S_T-K)\n",
    "\n",
    "S = 857.29 \n",
    "v = 0.2076 \n",
    "r = 0.0014 \n",
    "T = (datetime.date(2013,9,21) - datetime.date(2013,9,3)).days / 365.0\n",
    "K = 860.\n",
    "simulations = 90000\n",
    "payoffs = []\n",
    "discount_factor = math.exp(-r * T)\n",
    "\n",
    "for i in range(simulations):\n",
    "    S_T = generate_asset_price(S,v,r,T)\n",
    "    payoffs.append(\n",
    "        call_payoff(S_T, K)\n",
    "    )\n",
    "\n",
    "price = discount_factor * (sum(payoffs) / float(simulations))\n",
    "print('Price: %.4f' % price)\n"
   ]
  },
  {
   "cell_type": "code",
   "execution_count": null,
   "metadata": {},
   "outputs": [],
   "source": []
  }
 ],
 "metadata": {
  "kernelspec": {
   "display_name": "Python 3",
   "language": "python",
   "name": "python3"
  },
  "language_info": {
   "codemirror_mode": {
    "name": "ipython",
    "version": 3
   },
   "file_extension": ".py",
   "mimetype": "text/x-python",
   "name": "python",
   "nbconvert_exporter": "python",
   "pygments_lexer": "ipython3",
   "version": "3.6.3"
  }
 },
 "nbformat": 4,
 "nbformat_minor": 2
}
