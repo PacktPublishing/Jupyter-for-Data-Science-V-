{
 "cells": [
  {
   "cell_type": "code",
   "execution_count": 1,
   "metadata": {},
   "outputs": [
    {
     "name": "stderr",
     "output_type": "stream",
     "text": [
      "Installing package into 'C:/Users/Test/Documents/R/win-library/3.4'\n",
      "(as 'lib' is unspecified)\n"
     ]
    },
    {
     "name": "stdout",
     "output_type": "stream",
     "text": [
      "package 'car' successfully unpacked and MD5 sums checked\n",
      "\n",
      "The downloaded binary packages are in\n",
      "\tC:\\Users\\Test\\AppData\\Local\\Temp\\RtmpOkPvqJ\\downloaded_packages\n"
     ]
    },
    {
     "name": "stderr",
     "output_type": "stream",
     "text": [
      "Warning message:\n",
      "\"package 'car' was built under R version 3.4.3\""
     ]
    },
    {
     "data": {
      "text/html": [
       "<table>\n",
       "<thead><tr><th scope=col>sales</th><th scope=col>price</th><th scope=col>ad_type</th><th scope=col>price_apple</th><th scope=col>price_cookies</th></tr></thead>\n",
       "<tbody>\n",
       "\t<tr><td>222  </td><td> 9.83</td><td>0    </td><td>7.36 </td><td> 8.80</td></tr>\n",
       "\t<tr><td>201  </td><td> 9.72</td><td>1    </td><td>7.43 </td><td> 9.62</td></tr>\n",
       "\t<tr><td>247  </td><td>10.15</td><td>1    </td><td>7.66 </td><td> 8.90</td></tr>\n",
       "\t<tr><td>169  </td><td>10.04</td><td>0    </td><td>7.57 </td><td>10.26</td></tr>\n",
       "\t<tr><td>317  </td><td> 8.38</td><td>1    </td><td>7.33 </td><td> 9.54</td></tr>\n",
       "\t<tr><td>227  </td><td> 9.74</td><td>0    </td><td>7.51 </td><td> 9.49</td></tr>\n",
       "</tbody>\n",
       "</table>\n"
      ],
      "text/latex": [
       "\\begin{tabular}{r|lllll}\n",
       " sales & price & ad\\_type & price\\_apple & price\\_cookies\\\\\n",
       "\\hline\n",
       "\t 222   &  9.83 & 0     & 7.36  &  8.80\\\\\n",
       "\t 201   &  9.72 & 1     & 7.43  &  9.62\\\\\n",
       "\t 247   & 10.15 & 1     & 7.66  &  8.90\\\\\n",
       "\t 169   & 10.04 & 0     & 7.57  & 10.26\\\\\n",
       "\t 317   &  8.38 & 1     & 7.33  &  9.54\\\\\n",
       "\t 227   &  9.74 & 0     & 7.51  &  9.49\\\\\n",
       "\\end{tabular}\n"
      ],
      "text/markdown": [
       "\n",
       "sales | price | ad_type | price_apple | price_cookies | \n",
       "|---|---|---|---|---|---|\n",
       "| 222   |  9.83 | 0     | 7.36  |  8.80 | \n",
       "| 201   |  9.72 | 1     | 7.43  |  9.62 | \n",
       "| 247   | 10.15 | 1     | 7.66  |  8.90 | \n",
       "| 169   | 10.04 | 0     | 7.57  | 10.26 | \n",
       "| 317   |  8.38 | 1     | 7.33  |  9.54 | \n",
       "| 227   |  9.74 | 0     | 7.51  |  9.49 | \n",
       "\n",
       "\n"
      ],
      "text/plain": [
       "  sales price ad_type price_apple price_cookies\n",
       "1 222    9.83 0       7.36         8.80        \n",
       "2 201    9.72 1       7.43         9.62        \n",
       "3 247   10.15 1       7.66         8.90        \n",
       "4 169   10.04 0       7.57        10.26        \n",
       "5 317    8.38 1       7.33         9.54        \n",
       "6 227    9.74 0       7.51         9.49        "
      ]
     },
     "metadata": {},
     "output_type": "display_data"
    },
    {
     "data": {
      "text/plain": [
       "     sales           price           ad_type     price_apple   \n",
       " Min.   :131.0   Min.   : 8.200   Min.   :0.0   Min.   :7.300  \n",
       " 1st Qu.:182.5   1st Qu.: 9.585   1st Qu.:0.0   1st Qu.:7.438  \n",
       " Median :204.5   Median : 9.855   Median :0.5   Median :7.580  \n",
       " Mean   :216.7   Mean   : 9.738   Mean   :0.5   Mean   :7.659  \n",
       " 3rd Qu.:244.2   3rd Qu.:10.268   3rd Qu.:1.0   3rd Qu.:7.805  \n",
       " Max.   :335.0   Max.   :10.490   Max.   :1.0   Max.   :8.290  \n",
       " price_cookies   \n",
       " Min.   : 8.790  \n",
       " 1st Qu.: 9.190  \n",
       " Median : 9.515  \n",
       " Mean   : 9.622  \n",
       " 3rd Qu.:10.140  \n",
       " Max.   :10.580  "
      ]
     },
     "metadata": {},
     "output_type": "display_data"
    },
    {
     "data": {
      "text/html": [
       "186.666666666667"
      ],
      "text/latex": [
       "186.666666666667"
      ],
      "text/markdown": [
       "186.666666666667"
      ],
      "text/plain": [
       "[1] 186.6667"
      ]
     },
     "metadata": {},
     "output_type": "display_data"
    },
    {
     "data": {
      "text/html": [
       "246.666666666667"
      ],
      "text/latex": [
       "246.666666666667"
      ],
      "text/markdown": [
       "246.666666666667"
      ],
      "text/plain": [
       "[1] 246.6667"
      ]
     },
     "metadata": {},
     "output_type": "display_data"
    },
    {
     "data": {
      "image/png": "[encoded data removed]",
      "text/plain": [
       "Plot with title \"\""
      ]
     },
     "metadata": {},
     "output_type": "display_data"
    },
    {
     "data": {
      "image/png": "[encoded data removed]",
      "text/plain": [
       "Plot with title \"\""
      ]
     },
     "metadata": {},
     "output_type": "display_data"
    }
   ],
   "source": [
    "install.packages(\"car\", repos = \"http://cran.us.r-project.org\")\n",
    "library(car)\n",
    "\n",
    "df <- read.csv(\"grapeJuice.csv\",header=T)\n",
    "\n",
    "\n",
    "head(df)\n",
    "\n",
    "\n",
    "summary(df)\n",
    "\n",
    "\n",
    "par(mfrow = c(1,2))\n",
    "\n",
    "\n",
    "boxplot(df$sales,horizontal = TRUE, xlab=\"sales\")\n",
    "\n",
    "\n",
    "hist(df$sales,main=\"\",xlab=\"sales\",prob=T)\n",
    "lines(density(df$sales),lty=\"dashed\",lwd=2.5,col=\"red\")\n",
    "\n",
    "\n",
    "sales_ad_nature = subset(df,ad_type==0)\n",
    "sales_ad_family = subset(df,ad_type==1)\n",
    "\n",
    "\n",
    "mean(sales_ad_nature$sales)\n",
    "mean(sales_ad_family$sales)\n",
    "\n",
    "\n",
    "par(mfrow = c(1,2))\n",
    "\n",
    "\n",
    "hist(sales_ad_nature$sales,main=\"\",xlab=\"sales with nature production theme ad\",prob=T)\n",
    "lines(density(sales_ad_nature$sales),lty=\"dashed\",lwd=2.5,col=\"red\")\n",
    "\n",
    "hist(sales_ad_family$sales,main=\"\",xlab=\"sales with family health caring theme ad\",prob=T)\n",
    "lines(density(sales_ad_family$sales),lty=\"dashed\",lwd=2.5,col=\"red\")"
   ]
  },
  {
   "cell_type": "code",
   "execution_count": null,
   "metadata": {},
   "outputs": [],
   "source": []
  }
 ],
 "metadata": {
  "kernelspec": {
   "display_name": "R",
   "language": "R",
   "name": "ir"
  },
  "language_info": {
   "codemirror_mode": "r",
   "file_extension": ".r",
   "mimetype": "text/x-r-source",
   "name": "R",
   "pygments_lexer": "r",
   "version": "3.4.2"
  }
 },
 "nbformat": 4,
 "nbformat_minor": 2
}
